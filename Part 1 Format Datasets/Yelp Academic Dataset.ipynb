{
 "cells": [
  {
   "cell_type": "code",
   "execution_count": 1,
   "metadata": {
    "collapsed": true
   },
   "outputs": [],
   "source": [
    "import pandas as pd"
   ]
  },
  {
   "cell_type": "code",
   "execution_count": 2,
   "metadata": {
    "collapsed": false
   },
   "outputs": [],
   "source": [
    "with open('yelp_academic_dataset.json', 'rb') as f:\n",
    "    data = f.readlines()\n",
    "# remove \"\\n\"s\n",
    "data = map(lambda x: x.rstrip(), data)\n",
    "# convert to json string\n",
    "data_json_str = \"[\" + ','.join(data) + \"]\"\n",
    "# load as pandas df\n",
    "rawdata = pd.read_json(data_json_str)"
   ]
  },
  {
   "cell_type": "code",
   "execution_count": 3,
   "metadata": {
    "collapsed": false
   },
   "outputs": [
    {
     "data": {
      "text/plain": [
       "Index([u'average_stars',   u'business_id',    u'categories',          u'city',\n",
       "                u'date',  u'full_address',      u'latitude',     u'longitude',\n",
       "                u'name', u'neighborhoods',          u'open',     u'photo_url',\n",
       "        u'review_count',     u'review_id',       u'schools',         u'stars',\n",
       "               u'state',          u'text',          u'type',           u'url',\n",
       "             u'user_id',         u'votes'],\n",
       "      dtype='object')"
      ]
     },
     "execution_count": 3,
     "metadata": {},
     "output_type": "execute_result"
    }
   ],
   "source": [
    "rawdata.columns"
   ]
  },
  {
   "cell_type": "code",
   "execution_count": 4,
   "metadata": {
    "collapsed": false
   },
   "outputs": [
    {
     "data": {
      "text/plain": [
       "(474434, 22)"
      ]
     },
     "execution_count": 4,
     "metadata": {},
     "output_type": "execute_result"
    }
   ],
   "source": [
    "rawdata.shape"
   ]
  },
  {
   "cell_type": "code",
   "execution_count": 5,
   "metadata": {
    "collapsed": false
   },
   "outputs": [],
   "source": [
    "# make reviews dataframe by removing rows with NaN in text column\n",
    "reviews = rawdata[pd.notnull(rawdata['text'])]\n",
    "reviews = reviews.reset_index(drop=True)\n",
    "reviews = reviews.dropna(axis=1,how='all')"
   ]
  },
  {
   "cell_type": "code",
   "execution_count": 6,
   "metadata": {
    "collapsed": false
   },
   "outputs": [],
   "source": [
    "# make business dataframe by removing rows with NaN in categories column\n",
    "business = rawdata[pd.notnull(rawdata['categories'])]\n",
    "business = business.reset_index(drop=True)\n",
    "business = business.dropna(axis=1,how='all')"
   ]
  },
  {
   "cell_type": "code",
   "execution_count": 7,
   "metadata": {
    "collapsed": false
   },
   "outputs": [],
   "source": [
    "# select businesses that have 'Restaurants' in their category and have >100 reviews\n",
    "restaurant_index = []\n",
    "for i in range(0,len(business)):\n",
    "    if 'Restaurants' in business.categories[i] and business.review_count[i] > 100 : \n",
    "              restaurant_index.append(i)\n",
    "business_restaurant = business.iloc[restaurant_index] "
   ]
  },
  {
   "cell_type": "code",
   "execution_count": 8,
   "metadata": {
    "collapsed": false
   },
   "outputs": [
    {
     "data": {
      "text/html": [
       "<div>\n",
       "<table border=\"1\" class=\"dataframe\">\n",
       "  <thead>\n",
       "    <tr style=\"text-align: right;\">\n",
       "      <th></th>\n",
       "      <th>business_id</th>\n",
       "      <th>categories</th>\n",
       "      <th>city</th>\n",
       "      <th>full_address</th>\n",
       "      <th>latitude</th>\n",
       "      <th>longitude</th>\n",
       "      <th>name</th>\n",
       "      <th>neighborhoods</th>\n",
       "      <th>open</th>\n",
       "      <th>photo_url</th>\n",
       "      <th>review_count</th>\n",
       "      <th>schools</th>\n",
       "      <th>stars</th>\n",
       "      <th>state</th>\n",
       "      <th>type</th>\n",
       "      <th>url</th>\n",
       "    </tr>\n",
       "  </thead>\n",
       "  <tbody>\n",
       "    <tr>\n",
       "      <th>54</th>\n",
       "      <td>81IjU5L-t-QQwsE38C63hQ</td>\n",
       "      <td>[Burgers, Gastropubs, Restaurants]</td>\n",
       "      <td>Claremont</td>\n",
       "      <td>128 N Oberlin Ave\\nClaremont, CA 91711</td>\n",
       "      <td>34.094884</td>\n",
       "      <td>-117.720685</td>\n",
       "      <td>The Back Abbey</td>\n",
       "      <td>[]</td>\n",
       "      <td>1</td>\n",
       "      <td>http://s3-media4.ak.yelpcdn.com/bphoto/19sYSVQ...</td>\n",
       "      <td>756</td>\n",
       "      <td>[Harvey Mudd College]</td>\n",
       "      <td>4.0</td>\n",
       "      <td>CA</td>\n",
       "      <td>business</td>\n",
       "      <td>http://www.yelp.com/biz/the-back-abbey-claremont</td>\n",
       "    </tr>\n",
       "    <tr>\n",
       "      <th>83</th>\n",
       "      <td>8lLs3dsSN-Am2_EtNfbXqA</td>\n",
       "      <td>[Breakfast &amp; Brunch, American (New), Restaurants]</td>\n",
       "      <td>New York</td>\n",
       "      <td>2893 Broadway\\nMorningside Heights\\nNew York, ...</td>\n",
       "      <td>40.805798</td>\n",
       "      <td>-73.965675</td>\n",
       "      <td>Community Food &amp; Juice</td>\n",
       "      <td>[Morningside Heights]</td>\n",
       "      <td>1</td>\n",
       "      <td>http://s3-media2.ak.yelpcdn.com/bphoto/IqKj8kM...</td>\n",
       "      <td>346</td>\n",
       "      <td>[Columbia University]</td>\n",
       "      <td>3.5</td>\n",
       "      <td>NY</td>\n",
       "      <td>business</td>\n",
       "      <td>http://www.yelp.com/biz/community-food-and-jui...</td>\n",
       "    </tr>\n",
       "    <tr>\n",
       "      <th>122</th>\n",
       "      <td>7sBIv30fhszkBsv0kkSBCg</td>\n",
       "      <td>[Tex-Mex, Restaurants]</td>\n",
       "      <td>Seattle</td>\n",
       "      <td>2614 NE 46th St\\nUniversity Village\\nUniversit...</td>\n",
       "      <td>47.661733</td>\n",
       "      <td>-122.299277</td>\n",
       "      <td>Sonrisa</td>\n",
       "      <td>[University District]</td>\n",
       "      <td>1</td>\n",
       "      <td>http://s3-media1.ak.yelpcdn.com/bphoto/qvFsHdP...</td>\n",
       "      <td>120</td>\n",
       "      <td>[University of Washington]</td>\n",
       "      <td>3.0</td>\n",
       "      <td>WA</td>\n",
       "      <td>business</td>\n",
       "      <td>http://www.yelp.com/biz/sonrisa-seattle</td>\n",
       "    </tr>\n",
       "  </tbody>\n",
       "</table>\n",
       "</div>"
      ],
      "text/plain": [
       "                business_id  \\\n",
       "54   81IjU5L-t-QQwsE38C63hQ   \n",
       "83   8lLs3dsSN-Am2_EtNfbXqA   \n",
       "122  7sBIv30fhszkBsv0kkSBCg   \n",
       "\n",
       "                                            categories       city  \\\n",
       "54                  [Burgers, Gastropubs, Restaurants]  Claremont   \n",
       "83   [Breakfast & Brunch, American (New), Restaurants]   New York   \n",
       "122                             [Tex-Mex, Restaurants]    Seattle   \n",
       "\n",
       "                                          full_address   latitude   longitude  \\\n",
       "54              128 N Oberlin Ave\\nClaremont, CA 91711  34.094884 -117.720685   \n",
       "83   2893 Broadway\\nMorningside Heights\\nNew York, ...  40.805798  -73.965675   \n",
       "122  2614 NE 46th St\\nUniversity Village\\nUniversit...  47.661733 -122.299277   \n",
       "\n",
       "                       name          neighborhoods  open  \\\n",
       "54           The Back Abbey                     []     1   \n",
       "83   Community Food & Juice  [Morningside Heights]     1   \n",
       "122                 Sonrisa  [University District]     1   \n",
       "\n",
       "                                             photo_url  review_count  \\\n",
       "54   http://s3-media4.ak.yelpcdn.com/bphoto/19sYSVQ...           756   \n",
       "83   http://s3-media2.ak.yelpcdn.com/bphoto/IqKj8kM...           346   \n",
       "122  http://s3-media1.ak.yelpcdn.com/bphoto/qvFsHdP...           120   \n",
       "\n",
       "                        schools  stars state      type  \\\n",
       "54        [Harvey Mudd College]    4.0    CA  business   \n",
       "83        [Columbia University]    3.5    NY  business   \n",
       "122  [University of Washington]    3.0    WA  business   \n",
       "\n",
       "                                                   url  \n",
       "54    http://www.yelp.com/biz/the-back-abbey-claremont  \n",
       "83   http://www.yelp.com/biz/community-food-and-jui...  \n",
       "122            http://www.yelp.com/biz/sonrisa-seattle  "
      ]
     },
     "execution_count": 8,
     "metadata": {},
     "output_type": "execute_result"
    }
   ],
   "source": [
    "business_restaurant.head(3)"
   ]
  },
  {
   "cell_type": "code",
   "execution_count": 9,
   "metadata": {
    "collapsed": false
   },
   "outputs": [
    {
     "data": {
      "text/plain": [
       "(616, 222.58928571428572, 137115.0)"
      ]
     },
     "execution_count": 9,
     "metadata": {},
     "output_type": "execute_result"
    }
   ],
   "source": [
    "# total number of restaurants, mean number of reviews per restaurant, total number of reviews\n",
    "len(business_restaurant),business_restaurant['review_count'].mean(), business_restaurant['review_count'].sum()"
   ]
  },
  {
   "cell_type": "code",
   "execution_count": 10,
   "metadata": {
    "collapsed": true
   },
   "outputs": [],
   "source": [
    "# create df of restaurant business ids\n",
    "busid = pd.DataFrame(business_restaurant['business_id'])"
   ]
  },
  {
   "cell_type": "code",
   "execution_count": 11,
   "metadata": {
    "collapsed": false
   },
   "outputs": [
    {
     "data": {
      "text/html": [
       "<div>\n",
       "<table border=\"1\" class=\"dataframe\">\n",
       "  <thead>\n",
       "    <tr style=\"text-align: right;\">\n",
       "      <th></th>\n",
       "      <th>business_id</th>\n",
       "    </tr>\n",
       "  </thead>\n",
       "  <tbody>\n",
       "    <tr>\n",
       "      <th>54</th>\n",
       "      <td>81IjU5L-t-QQwsE38C63hQ</td>\n",
       "    </tr>\n",
       "    <tr>\n",
       "      <th>83</th>\n",
       "      <td>8lLs3dsSN-Am2_EtNfbXqA</td>\n",
       "    </tr>\n",
       "    <tr>\n",
       "      <th>122</th>\n",
       "      <td>7sBIv30fhszkBsv0kkSBCg</td>\n",
       "    </tr>\n",
       "  </tbody>\n",
       "</table>\n",
       "</div>"
      ],
      "text/plain": [
       "                business_id\n",
       "54   81IjU5L-t-QQwsE38C63hQ\n",
       "83   8lLs3dsSN-Am2_EtNfbXqA\n",
       "122  7sBIv30fhszkBsv0kkSBCg"
      ]
     },
     "execution_count": 11,
     "metadata": {},
     "output_type": "execute_result"
    }
   ],
   "source": [
    "busid.head(3)"
   ]
  },
  {
   "cell_type": "code",
   "execution_count": 12,
   "metadata": {
    "collapsed": false
   },
   "outputs": [
    {
     "data": {
      "text/plain": [
       "330071"
      ]
     },
     "execution_count": 12,
     "metadata": {},
     "output_type": "execute_result"
    }
   ],
   "source": [
    "# total number of reviews in each segment\n",
    "len(reviews)"
   ]
  },
  {
   "cell_type": "code",
   "execution_count": 13,
   "metadata": {
    "collapsed": true
   },
   "outputs": [],
   "source": [
    "# extract restaurant reviews only\n",
    "review_restaurant = pd.merge(busid,reviews,how='inner',on='business_id')"
   ]
  },
  {
   "cell_type": "code",
   "execution_count": 14,
   "metadata": {
    "collapsed": false
   },
   "outputs": [
    {
     "data": {
      "text/plain": [
       "127753"
      ]
     },
     "execution_count": 14,
     "metadata": {},
     "output_type": "execute_result"
    }
   ],
   "source": [
    "# number of restaurant reviews in each segment\n",
    "len(review_restaurant)"
   ]
  },
  {
   "cell_type": "code",
   "execution_count": 15,
   "metadata": {
    "collapsed": false
   },
   "outputs": [
    {
     "data": {
      "text/plain": [
       "616"
      ]
     },
     "execution_count": 15,
     "metadata": {},
     "output_type": "execute_result"
    }
   ],
   "source": [
    "# number of restaurants\n",
    "# sanity check: = len(business_restaurant)\n",
    "len(review_restaurant.business_id.unique())"
   ]
  },
  {
   "cell_type": "code",
   "execution_count": 16,
   "metadata": {
    "collapsed": true
   },
   "outputs": [],
   "source": [
    "# sort reviews by restaurant\n",
    "test = review_restaurant.groupby('business_id').count()\n",
    "test = test.sort('date',ascending=0)"
   ]
  },
  {
   "cell_type": "code",
   "execution_count": 17,
   "metadata": {
    "collapsed": false
   },
   "outputs": [
    {
     "data": {
      "text/html": [
       "<div>\n",
       "<table border=\"1\" class=\"dataframe\">\n",
       "  <thead>\n",
       "    <tr style=\"text-align: right;\">\n",
       "      <th></th>\n",
       "      <th>date</th>\n",
       "      <th>review_id</th>\n",
       "      <th>stars</th>\n",
       "      <th>text</th>\n",
       "      <th>type</th>\n",
       "      <th>user_id</th>\n",
       "      <th>votes</th>\n",
       "    </tr>\n",
       "    <tr>\n",
       "      <th>business_id</th>\n",
       "      <th></th>\n",
       "      <th></th>\n",
       "      <th></th>\n",
       "      <th></th>\n",
       "      <th></th>\n",
       "      <th></th>\n",
       "      <th></th>\n",
       "    </tr>\n",
       "  </thead>\n",
       "  <tbody>\n",
       "    <tr>\n",
       "      <th>2WXwWfhpfia7_UflDYnUyQ</th>\n",
       "      <td>92</td>\n",
       "      <td>92</td>\n",
       "      <td>92</td>\n",
       "      <td>92</td>\n",
       "      <td>92</td>\n",
       "      <td>92</td>\n",
       "      <td>92</td>\n",
       "    </tr>\n",
       "    <tr>\n",
       "      <th>Ea-ZuT5DKD188BpRMTDyGA</th>\n",
       "      <td>92</td>\n",
       "      <td>92</td>\n",
       "      <td>92</td>\n",
       "      <td>92</td>\n",
       "      <td>92</td>\n",
       "      <td>92</td>\n",
       "      <td>92</td>\n",
       "    </tr>\n",
       "    <tr>\n",
       "      <th>XO6V1_V6PXOpml8xoq6-YQ</th>\n",
       "      <td>91</td>\n",
       "      <td>91</td>\n",
       "      <td>91</td>\n",
       "      <td>91</td>\n",
       "      <td>91</td>\n",
       "      <td>91</td>\n",
       "      <td>91</td>\n",
       "    </tr>\n",
       "    <tr>\n",
       "      <th>HdGDvsK8jEdstSS5g21FDg</th>\n",
       "      <td>91</td>\n",
       "      <td>91</td>\n",
       "      <td>91</td>\n",
       "      <td>91</td>\n",
       "      <td>91</td>\n",
       "      <td>91</td>\n",
       "      <td>91</td>\n",
       "    </tr>\n",
       "    <tr>\n",
       "      <th>TKDgFp9C7kf_pSHrQHZW_Q</th>\n",
       "      <td>88</td>\n",
       "      <td>88</td>\n",
       "      <td>88</td>\n",
       "      <td>88</td>\n",
       "      <td>88</td>\n",
       "      <td>88</td>\n",
       "      <td>88</td>\n",
       "    </tr>\n",
       "  </tbody>\n",
       "</table>\n",
       "</div>"
      ],
      "text/plain": [
       "                        date  review_id  stars  text  type  user_id  votes\n",
       "business_id                                                               \n",
       "2WXwWfhpfia7_UflDYnUyQ    92         92     92    92    92       92     92\n",
       "Ea-ZuT5DKD188BpRMTDyGA    92         92     92    92    92       92     92\n",
       "XO6V1_V6PXOpml8xoq6-YQ    91         91     91    91    91       91     91\n",
       "HdGDvsK8jEdstSS5g21FDg    91         91     91    91    91       91     91\n",
       "TKDgFp9C7kf_pSHrQHZW_Q    88         88     88    88    88       88     88"
      ]
     },
     "execution_count": 17,
     "metadata": {},
     "output_type": "execute_result"
    }
   ],
   "source": [
    "test.tail()"
   ]
  },
  {
   "cell_type": "code",
   "execution_count": 18,
   "metadata": {
    "collapsed": false
   },
   "outputs": [
    {
     "data": {
      "text/plain": [
       "(563, 122657, 217.86323268206039)"
      ]
     },
     "execution_count": 18,
     "metadata": {},
     "output_type": "execute_result"
    }
   ],
   "source": [
    "# review segment 1\n",
    "# number of restaurants with >100 reviews, total number of reviews, mean number of reviews per restaurant\n",
    "test['date'][test['date']>100].count(), test['date'][test['date']>100].sum(), test['date'][test['date']>100].mean()"
   ]
  },
  {
   "cell_type": "code",
   "execution_count": 19,
   "metadata": {
    "collapsed": true
   },
   "outputs": [],
   "source": [
    "# get list of business ids with > 100 reviews in reviews json file\n",
    "busid_100 = pd.DataFrame(test[test['date']>100].index.values, columns=['business_id'])"
   ]
  },
  {
   "cell_type": "code",
   "execution_count": 20,
   "metadata": {
    "collapsed": false
   },
   "outputs": [],
   "source": [
    "# extract the business and reviews info of all businesses in busid_100\n",
    "business_final = pd.merge(busid_100,business_restaurant,how='inner',on='business_id')\n",
    "reviews_final = pd.merge(busid_100,review_restaurant,how='inner',on='business_id')"
   ]
  },
  {
   "cell_type": "code",
   "execution_count": 21,
   "metadata": {
    "collapsed": false
   },
   "outputs": [
    {
     "data": {
      "text/plain": [
       "(563, 122657)"
      ]
     },
     "execution_count": 21,
     "metadata": {},
     "output_type": "execute_result"
    }
   ],
   "source": [
    "len(business_final), len(reviews_final)"
   ]
  },
  {
   "cell_type": "code",
   "execution_count": 24,
   "metadata": {
    "collapsed": false
   },
   "outputs": [
    {
     "data": {
      "text/html": [
       "<div>\n",
       "<table border=\"1\" class=\"dataframe\">\n",
       "  <thead>\n",
       "    <tr style=\"text-align: right;\">\n",
       "      <th></th>\n",
       "      <th>business_id</th>\n",
       "      <th>categories</th>\n",
       "      <th>city</th>\n",
       "      <th>full_address</th>\n",
       "      <th>latitude</th>\n",
       "      <th>longitude</th>\n",
       "      <th>name</th>\n",
       "      <th>neighborhoods</th>\n",
       "      <th>open</th>\n",
       "      <th>photo_url</th>\n",
       "      <th>review_count</th>\n",
       "      <th>schools</th>\n",
       "      <th>stars</th>\n",
       "      <th>state</th>\n",
       "      <th>type</th>\n",
       "      <th>url</th>\n",
       "    </tr>\n",
       "  </thead>\n",
       "  <tbody>\n",
       "    <tr>\n",
       "      <th>0</th>\n",
       "      <td>qHmamQPCAKkia9X0uryA8g</td>\n",
       "      <td>[Restaurants, Hot Dogs]</td>\n",
       "      <td>Berkeley</td>\n",
       "      <td>2534 Durant Ave\\nTelegraph Ave\\nBerkeley, CA 9...</td>\n",
       "      <td>37.867894</td>\n",
       "      <td>-122.257433</td>\n",
       "      <td>Top Dog</td>\n",
       "      <td>[Telegraph Ave, UC Campus Area]</td>\n",
       "      <td>1</td>\n",
       "      <td>http://s3-media4.ak.yelpcdn.com/bphoto/nFfca2I...</td>\n",
       "      <td>1270</td>\n",
       "      <td>[University of California at Berkeley]</td>\n",
       "      <td>4.5</td>\n",
       "      <td>CA</td>\n",
       "      <td>business</td>\n",
       "      <td>http://www.yelp.com/biz/top-dog-berkeley</td>\n",
       "    </tr>\n",
       "    <tr>\n",
       "      <th>1</th>\n",
       "      <td>JrGSfjRqAtIZjjwC3FFQ4w</td>\n",
       "      <td>[American (Traditional), Barbeque, Restaurants]</td>\n",
       "      <td>San Luis Obispo</td>\n",
       "      <td>1001 Higuera St\\nSte A\\nSan Luis Obispo, CA 93401</td>\n",
       "      <td>35.281110</td>\n",
       "      <td>-120.660760</td>\n",
       "      <td>Firestone Grill</td>\n",
       "      <td>[]</td>\n",
       "      <td>1</td>\n",
       "      <td>http://s3-media4.ak.yelpcdn.com/bphoto/p3Gp2uN...</td>\n",
       "      <td>1153</td>\n",
       "      <td>[California Polytechnic State University]</td>\n",
       "      <td>4.5</td>\n",
       "      <td>CA</td>\n",
       "      <td>business</td>\n",
       "      <td>http://www.yelp.com/biz/firestone-grill-san-lu...</td>\n",
       "    </tr>\n",
       "    <tr>\n",
       "      <th>2</th>\n",
       "      <td>VFslQjSgrw4Mu5_Q1xk1KQ</td>\n",
       "      <td>[Steakhouses, Brazilian, Restaurants]</td>\n",
       "      <td>Palo Alto</td>\n",
       "      <td>529 Alma St\\nPalo Alto, CA 94301</td>\n",
       "      <td>37.442975</td>\n",
       "      <td>-122.163048</td>\n",
       "      <td>Pampas</td>\n",
       "      <td>[]</td>\n",
       "      <td>1</td>\n",
       "      <td>http://s3-media4.ak.yelpcdn.com/bphoto/Wn0OeAX...</td>\n",
       "      <td>1146</td>\n",
       "      <td>[Stanford University]</td>\n",
       "      <td>4.0</td>\n",
       "      <td>CA</td>\n",
       "      <td>business</td>\n",
       "      <td>http://www.yelp.com/biz/pampas-palo-alto</td>\n",
       "    </tr>\n",
       "  </tbody>\n",
       "</table>\n",
       "</div>"
      ],
      "text/plain": [
       "              business_id                                       categories  \\\n",
       "0  qHmamQPCAKkia9X0uryA8g                          [Restaurants, Hot Dogs]   \n",
       "1  JrGSfjRqAtIZjjwC3FFQ4w  [American (Traditional), Barbeque, Restaurants]   \n",
       "2  VFslQjSgrw4Mu5_Q1xk1KQ            [Steakhouses, Brazilian, Restaurants]   \n",
       "\n",
       "              city                                       full_address  \\\n",
       "0         Berkeley  2534 Durant Ave\\nTelegraph Ave\\nBerkeley, CA 9...   \n",
       "1  San Luis Obispo  1001 Higuera St\\nSte A\\nSan Luis Obispo, CA 93401   \n",
       "2        Palo Alto                   529 Alma St\\nPalo Alto, CA 94301   \n",
       "\n",
       "    latitude   longitude             name                    neighborhoods  \\\n",
       "0  37.867894 -122.257433          Top Dog  [Telegraph Ave, UC Campus Area]   \n",
       "1  35.281110 -120.660760  Firestone Grill                               []   \n",
       "2  37.442975 -122.163048           Pampas                               []   \n",
       "\n",
       "   open                                          photo_url  review_count  \\\n",
       "0     1  http://s3-media4.ak.yelpcdn.com/bphoto/nFfca2I...          1270   \n",
       "1     1  http://s3-media4.ak.yelpcdn.com/bphoto/p3Gp2uN...          1153   \n",
       "2     1  http://s3-media4.ak.yelpcdn.com/bphoto/Wn0OeAX...          1146   \n",
       "\n",
       "                                     schools  stars state      type  \\\n",
       "0     [University of California at Berkeley]    4.5    CA  business   \n",
       "1  [California Polytechnic State University]    4.5    CA  business   \n",
       "2                      [Stanford University]    4.0    CA  business   \n",
       "\n",
       "                                                 url  \n",
       "0           http://www.yelp.com/biz/top-dog-berkeley  \n",
       "1  http://www.yelp.com/biz/firestone-grill-san-lu...  \n",
       "2           http://www.yelp.com/biz/pampas-palo-alto  "
      ]
     },
     "execution_count": 24,
     "metadata": {},
     "output_type": "execute_result"
    }
   ],
   "source": [
    "business_final.head(3)"
   ]
  },
  {
   "cell_type": "code",
   "execution_count": 25,
   "metadata": {
    "collapsed": false
   },
   "outputs": [
    {
     "data": {
      "text/html": [
       "<div>\n",
       "<table border=\"1\" class=\"dataframe\">\n",
       "  <thead>\n",
       "    <tr style=\"text-align: right;\">\n",
       "      <th></th>\n",
       "      <th>business_id</th>\n",
       "      <th>date</th>\n",
       "      <th>review_id</th>\n",
       "      <th>stars</th>\n",
       "      <th>text</th>\n",
       "      <th>type</th>\n",
       "      <th>user_id</th>\n",
       "      <th>votes</th>\n",
       "    </tr>\n",
       "  </thead>\n",
       "  <tbody>\n",
       "    <tr>\n",
       "      <th>0</th>\n",
       "      <td>qHmamQPCAKkia9X0uryA8g</td>\n",
       "      <td>2006-09-23</td>\n",
       "      <td>M8G9Rs21i4euIo3T5gyGOg</td>\n",
       "      <td>4</td>\n",
       "      <td>Are you drunk? Is it around 3am? Are you in do...</td>\n",
       "      <td>review</td>\n",
       "      <td>Xsp1amevfceAqAMjKhZkgA</td>\n",
       "      <td>{u'funny': 0, u'useful': 1, u'cool': 0}</td>\n",
       "    </tr>\n",
       "    <tr>\n",
       "      <th>1</th>\n",
       "      <td>qHmamQPCAKkia9X0uryA8g</td>\n",
       "      <td>2011-04-06</td>\n",
       "      <td>o9HYfNDSACBPRykq8t21PQ</td>\n",
       "      <td>3</td>\n",
       "      <td>OH NO HE DIDN'T.\\n\\nTHE GUY MAKING THE SAUSAGE...</td>\n",
       "      <td>review</td>\n",
       "      <td>mRQzFZMGurB-3bP4CGTNpQ</td>\n",
       "      <td>{u'funny': 3, u'useful': 1, u'cool': 0}</td>\n",
       "    </tr>\n",
       "    <tr>\n",
       "      <th>2</th>\n",
       "      <td>qHmamQPCAKkia9X0uryA8g</td>\n",
       "      <td>2011-02-10</td>\n",
       "      <td>0_or2I5IGVERFYgL5j6-Iw</td>\n",
       "      <td>5</td>\n",
       "      <td>i don't care what other people say... top dog ...</td>\n",
       "      <td>review</td>\n",
       "      <td>2Rx-PAEZhkblWy4LNW_DEw</td>\n",
       "      <td>{u'funny': 0, u'useful': 0, u'cool': 0}</td>\n",
       "    </tr>\n",
       "  </tbody>\n",
       "</table>\n",
       "</div>"
      ],
      "text/plain": [
       "              business_id       date               review_id  stars  \\\n",
       "0  qHmamQPCAKkia9X0uryA8g 2006-09-23  M8G9Rs21i4euIo3T5gyGOg      4   \n",
       "1  qHmamQPCAKkia9X0uryA8g 2011-04-06  o9HYfNDSACBPRykq8t21PQ      3   \n",
       "2  qHmamQPCAKkia9X0uryA8g 2011-02-10  0_or2I5IGVERFYgL5j6-Iw      5   \n",
       "\n",
       "                                                text    type  \\\n",
       "0  Are you drunk? Is it around 3am? Are you in do...  review   \n",
       "1  OH NO HE DIDN'T.\\n\\nTHE GUY MAKING THE SAUSAGE...  review   \n",
       "2  i don't care what other people say... top dog ...  review   \n",
       "\n",
       "                  user_id                                    votes  \n",
       "0  Xsp1amevfceAqAMjKhZkgA  {u'funny': 0, u'useful': 1, u'cool': 0}  \n",
       "1  mRQzFZMGurB-3bP4CGTNpQ  {u'funny': 3, u'useful': 1, u'cool': 0}  \n",
       "2  2Rx-PAEZhkblWy4LNW_DEw  {u'funny': 0, u'useful': 0, u'cool': 0}  "
      ]
     },
     "execution_count": 25,
     "metadata": {},
     "output_type": "execute_result"
    }
   ],
   "source": [
    "reviews_final.head(3)"
   ]
  },
  {
   "cell_type": "code",
   "execution_count": 26,
   "metadata": {
    "collapsed": false
   },
   "outputs": [
    {
     "data": {
      "text/html": [
       "<div>\n",
       "<table border=\"1\" class=\"dataframe\">\n",
       "  <thead>\n",
       "    <tr style=\"text-align: right;\">\n",
       "      <th></th>\n",
       "      <th>min</th>\n",
       "      <th>max</th>\n",
       "    </tr>\n",
       "    <tr>\n",
       "      <th>business_id</th>\n",
       "      <th></th>\n",
       "      <th></th>\n",
       "    </tr>\n",
       "  </thead>\n",
       "  <tbody>\n",
       "    <tr>\n",
       "      <th>-0iqnv7MjKrgh7Q7bYRlUQ</th>\n",
       "      <td>2011-01-29</td>\n",
       "      <td>2012-10-09</td>\n",
       "    </tr>\n",
       "    <tr>\n",
       "      <th>-5Rah4ZvWsDu4oilUZxhtw</th>\n",
       "      <td>2006-05-03</td>\n",
       "      <td>2012-09-23</td>\n",
       "    </tr>\n",
       "    <tr>\n",
       "      <th>-6ncX3fnQ9OLCjfiUe-kFg</th>\n",
       "      <td>2006-01-11</td>\n",
       "      <td>2012-10-01</td>\n",
       "    </tr>\n",
       "  </tbody>\n",
       "</table>\n",
       "</div>"
      ],
      "text/plain": [
       "                              min        max\n",
       "business_id                                 \n",
       "-0iqnv7MjKrgh7Q7bYRlUQ 2011-01-29 2012-10-09\n",
       "-5Rah4ZvWsDu4oilUZxhtw 2006-05-03 2012-09-23\n",
       "-6ncX3fnQ9OLCjfiUe-kFg 2006-01-11 2012-10-01"
      ]
     },
     "execution_count": 26,
     "metadata": {},
     "output_type": "execute_result"
    }
   ],
   "source": [
    "# find earliest and latest review date for each restaurant\n",
    "mindate = reviews_final['date'].groupby([reviews_final['business_id']]).min()\n",
    "maxdate = reviews_final['date'].groupby([reviews_final['business_id']]).max()\n",
    "date_min_and_max = pd.concat([mindate, maxdate], \n",
    "                               axis=1, keys=['min', 'max'])\n",
    "date_min_and_max.head(3)"
   ]
  },
  {
   "cell_type": "code",
   "execution_count": 27,
   "metadata": {
    "collapsed": false
   },
   "outputs": [
    {
     "data": {
      "text/html": [
       "<div>\n",
       "<table border=\"1\" class=\"dataframe\">\n",
       "  <thead>\n",
       "    <tr style=\"text-align: right;\">\n",
       "      <th></th>\n",
       "      <th>min</th>\n",
       "      <th>max</th>\n",
       "      <th>difference</th>\n",
       "    </tr>\n",
       "    <tr>\n",
       "      <th>business_id</th>\n",
       "      <th></th>\n",
       "      <th></th>\n",
       "      <th></th>\n",
       "    </tr>\n",
       "  </thead>\n",
       "  <tbody>\n",
       "    <tr>\n",
       "      <th>0gE8y94ytFFdFDDNon-K0g</th>\n",
       "      <td>2012-02-18</td>\n",
       "      <td>2012-10-11</td>\n",
       "      <td>236 days</td>\n",
       "    </tr>\n",
       "    <tr>\n",
       "      <th>R2-_hZIboGriSatS2kn7rw</th>\n",
       "      <td>2012-01-27</td>\n",
       "      <td>2012-10-15</td>\n",
       "      <td>262 days</td>\n",
       "    </tr>\n",
       "    <tr>\n",
       "      <th>huHxwjbkyEf1nTam-o2BOQ</th>\n",
       "      <td>2012-01-12</td>\n",
       "      <td>2012-10-15</td>\n",
       "      <td>277 days</td>\n",
       "    </tr>\n",
       "  </tbody>\n",
       "</table>\n",
       "</div>"
      ],
      "text/plain": [
       "                              min        max  difference\n",
       "business_id                                             \n",
       "0gE8y94ytFFdFDDNon-K0g 2012-02-18 2012-10-11    236 days\n",
       "R2-_hZIboGriSatS2kn7rw 2012-01-27 2012-10-15    262 days\n",
       "huHxwjbkyEf1nTam-o2BOQ 2012-01-12 2012-10-15    277 days"
      ]
     },
     "execution_count": 27,
     "metadata": {},
     "output_type": "execute_result"
    }
   ],
   "source": [
    "# check that reviews are at least a month long\n",
    "date_min_and_max['difference'] = date_min_and_max['max'] - date_min_and_max['min']\n",
    "date_min_and_max.sort('difference').head(3)"
   ]
  },
  {
   "cell_type": "code",
   "execution_count": 28,
   "metadata": {
    "collapsed": true
   },
   "outputs": [],
   "source": [
    "# write final dfs as csv files\n",
    "business_final.to_csv('business_final_academic.csv', encoding='utf-8')\n",
    "reviews_final.to_csv('review_final_academic.csv', encoding='utf-8')"
   ]
  },
  {
   "cell_type": "code",
   "execution_count": 29,
   "metadata": {
    "collapsed": false
   },
   "outputs": [
    {
     "data": {
      "text/html": [
       "<div>\n",
       "<table border=\"1\" class=\"dataframe\">\n",
       "  <thead>\n",
       "    <tr style=\"text-align: right;\">\n",
       "      <th></th>\n",
       "      <th>Unnamed: 0</th>\n",
       "      <th>business_id</th>\n",
       "      <th>date</th>\n",
       "      <th>review_id</th>\n",
       "      <th>stars</th>\n",
       "      <th>text</th>\n",
       "      <th>type</th>\n",
       "      <th>user_id</th>\n",
       "      <th>votes</th>\n",
       "    </tr>\n",
       "  </thead>\n",
       "  <tbody>\n",
       "    <tr>\n",
       "      <th>0</th>\n",
       "      <td>0</td>\n",
       "      <td>qHmamQPCAKkia9X0uryA8g</td>\n",
       "      <td>2006-09-23</td>\n",
       "      <td>M8G9Rs21i4euIo3T5gyGOg</td>\n",
       "      <td>4</td>\n",
       "      <td>Are you drunk? Is it around 3am? Are you in do...</td>\n",
       "      <td>review</td>\n",
       "      <td>Xsp1amevfceAqAMjKhZkgA</td>\n",
       "      <td>{u'funny': 0, u'useful': 1, u'cool': 0}</td>\n",
       "    </tr>\n",
       "    <tr>\n",
       "      <th>1</th>\n",
       "      <td>1</td>\n",
       "      <td>qHmamQPCAKkia9X0uryA8g</td>\n",
       "      <td>2011-04-06</td>\n",
       "      <td>o9HYfNDSACBPRykq8t21PQ</td>\n",
       "      <td>3</td>\n",
       "      <td>OH NO HE DIDN'T.\\n\\nTHE GUY MAKING THE SAUSAGE...</td>\n",
       "      <td>review</td>\n",
       "      <td>mRQzFZMGurB-3bP4CGTNpQ</td>\n",
       "      <td>{u'funny': 3, u'useful': 1, u'cool': 0}</td>\n",
       "    </tr>\n",
       "    <tr>\n",
       "      <th>2</th>\n",
       "      <td>2</td>\n",
       "      <td>qHmamQPCAKkia9X0uryA8g</td>\n",
       "      <td>2011-02-10</td>\n",
       "      <td>0_or2I5IGVERFYgL5j6-Iw</td>\n",
       "      <td>5</td>\n",
       "      <td>i don't care what other people say... top dog ...</td>\n",
       "      <td>review</td>\n",
       "      <td>2Rx-PAEZhkblWy4LNW_DEw</td>\n",
       "      <td>{u'funny': 0, u'useful': 0, u'cool': 0}</td>\n",
       "    </tr>\n",
       "  </tbody>\n",
       "</table>\n",
       "</div>"
      ],
      "text/plain": [
       "   Unnamed: 0             business_id        date               review_id  \\\n",
       "0           0  qHmamQPCAKkia9X0uryA8g  2006-09-23  M8G9Rs21i4euIo3T5gyGOg   \n",
       "1           1  qHmamQPCAKkia9X0uryA8g  2011-04-06  o9HYfNDSACBPRykq8t21PQ   \n",
       "2           2  qHmamQPCAKkia9X0uryA8g  2011-02-10  0_or2I5IGVERFYgL5j6-Iw   \n",
       "\n",
       "   stars                                               text    type  \\\n",
       "0      4  Are you drunk? Is it around 3am? Are you in do...  review   \n",
       "1      3  OH NO HE DIDN'T.\\n\\nTHE GUY MAKING THE SAUSAGE...  review   \n",
       "2      5  i don't care what other people say... top dog ...  review   \n",
       "\n",
       "                  user_id                                    votes  \n",
       "0  Xsp1amevfceAqAMjKhZkgA  {u'funny': 0, u'useful': 1, u'cool': 0}  \n",
       "1  mRQzFZMGurB-3bP4CGTNpQ  {u'funny': 3, u'useful': 1, u'cool': 0}  \n",
       "2  2Rx-PAEZhkblWy4LNW_DEw  {u'funny': 0, u'useful': 0, u'cool': 0}  "
      ]
     },
     "execution_count": 29,
     "metadata": {},
     "output_type": "execute_result"
    }
   ],
   "source": [
    "reviewtest = pd.read_csv('review_final_academic.csv')\n",
    "reviewtest.head(3)"
   ]
  },
  {
   "cell_type": "code",
   "execution_count": 30,
   "metadata": {
    "collapsed": false
   },
   "outputs": [
    {
     "data": {
      "text/html": [
       "<div>\n",
       "<table border=\"1\" class=\"dataframe\">\n",
       "  <thead>\n",
       "    <tr style=\"text-align: right;\">\n",
       "      <th></th>\n",
       "      <th>Unnamed: 0</th>\n",
       "      <th>business_id</th>\n",
       "      <th>categories</th>\n",
       "      <th>city</th>\n",
       "      <th>full_address</th>\n",
       "      <th>latitude</th>\n",
       "      <th>longitude</th>\n",
       "      <th>name</th>\n",
       "      <th>neighborhoods</th>\n",
       "      <th>open</th>\n",
       "      <th>photo_url</th>\n",
       "      <th>review_count</th>\n",
       "      <th>schools</th>\n",
       "      <th>stars</th>\n",
       "      <th>state</th>\n",
       "      <th>type</th>\n",
       "      <th>url</th>\n",
       "    </tr>\n",
       "  </thead>\n",
       "  <tbody>\n",
       "    <tr>\n",
       "      <th>0</th>\n",
       "      <td>0</td>\n",
       "      <td>qHmamQPCAKkia9X0uryA8g</td>\n",
       "      <td>[Restaurants, Hot Dogs]</td>\n",
       "      <td>Berkeley</td>\n",
       "      <td>2534 Durant Ave\\nTelegraph Ave\\nBerkeley, CA 9...</td>\n",
       "      <td>37.867894</td>\n",
       "      <td>-122.257433</td>\n",
       "      <td>Top Dog</td>\n",
       "      <td>[Telegraph Ave, UC Campus Area]</td>\n",
       "      <td>1</td>\n",
       "      <td>http://s3-media4.ak.yelpcdn.com/bphoto/nFfca2I...</td>\n",
       "      <td>1270</td>\n",
       "      <td>[University of California at Berkeley]</td>\n",
       "      <td>4.5</td>\n",
       "      <td>CA</td>\n",
       "      <td>business</td>\n",
       "      <td>http://www.yelp.com/biz/top-dog-berkeley</td>\n",
       "    </tr>\n",
       "    <tr>\n",
       "      <th>1</th>\n",
       "      <td>1</td>\n",
       "      <td>JrGSfjRqAtIZjjwC3FFQ4w</td>\n",
       "      <td>[American (Traditional), Barbeque, Restaurants]</td>\n",
       "      <td>San Luis Obispo</td>\n",
       "      <td>1001 Higuera St\\nSte A\\nSan Luis Obispo, CA 93401</td>\n",
       "      <td>35.281110</td>\n",
       "      <td>-120.660760</td>\n",
       "      <td>Firestone Grill</td>\n",
       "      <td>[]</td>\n",
       "      <td>1</td>\n",
       "      <td>http://s3-media4.ak.yelpcdn.com/bphoto/p3Gp2uN...</td>\n",
       "      <td>1153</td>\n",
       "      <td>[California Polytechnic State University]</td>\n",
       "      <td>4.5</td>\n",
       "      <td>CA</td>\n",
       "      <td>business</td>\n",
       "      <td>http://www.yelp.com/biz/firestone-grill-san-lu...</td>\n",
       "    </tr>\n",
       "    <tr>\n",
       "      <th>2</th>\n",
       "      <td>2</td>\n",
       "      <td>VFslQjSgrw4Mu5_Q1xk1KQ</td>\n",
       "      <td>[Steakhouses, Brazilian, Restaurants]</td>\n",
       "      <td>Palo Alto</td>\n",
       "      <td>529 Alma St\\nPalo Alto, CA 94301</td>\n",
       "      <td>37.442975</td>\n",
       "      <td>-122.163048</td>\n",
       "      <td>Pampas</td>\n",
       "      <td>[]</td>\n",
       "      <td>1</td>\n",
       "      <td>http://s3-media4.ak.yelpcdn.com/bphoto/Wn0OeAX...</td>\n",
       "      <td>1146</td>\n",
       "      <td>[Stanford University]</td>\n",
       "      <td>4.0</td>\n",
       "      <td>CA</td>\n",
       "      <td>business</td>\n",
       "      <td>http://www.yelp.com/biz/pampas-palo-alto</td>\n",
       "    </tr>\n",
       "  </tbody>\n",
       "</table>\n",
       "</div>"
      ],
      "text/plain": [
       "   Unnamed: 0             business_id  \\\n",
       "0           0  qHmamQPCAKkia9X0uryA8g   \n",
       "1           1  JrGSfjRqAtIZjjwC3FFQ4w   \n",
       "2           2  VFslQjSgrw4Mu5_Q1xk1KQ   \n",
       "\n",
       "                                        categories             city  \\\n",
       "0                          [Restaurants, Hot Dogs]         Berkeley   \n",
       "1  [American (Traditional), Barbeque, Restaurants]  San Luis Obispo   \n",
       "2            [Steakhouses, Brazilian, Restaurants]        Palo Alto   \n",
       "\n",
       "                                        full_address   latitude   longitude  \\\n",
       "0  2534 Durant Ave\\nTelegraph Ave\\nBerkeley, CA 9...  37.867894 -122.257433   \n",
       "1  1001 Higuera St\\nSte A\\nSan Luis Obispo, CA 93401  35.281110 -120.660760   \n",
       "2                   529 Alma St\\nPalo Alto, CA 94301  37.442975 -122.163048   \n",
       "\n",
       "              name                    neighborhoods  open  \\\n",
       "0          Top Dog  [Telegraph Ave, UC Campus Area]     1   \n",
       "1  Firestone Grill                               []     1   \n",
       "2           Pampas                               []     1   \n",
       "\n",
       "                                           photo_url  review_count  \\\n",
       "0  http://s3-media4.ak.yelpcdn.com/bphoto/nFfca2I...          1270   \n",
       "1  http://s3-media4.ak.yelpcdn.com/bphoto/p3Gp2uN...          1153   \n",
       "2  http://s3-media4.ak.yelpcdn.com/bphoto/Wn0OeAX...          1146   \n",
       "\n",
       "                                     schools  stars state      type  \\\n",
       "0     [University of California at Berkeley]    4.5    CA  business   \n",
       "1  [California Polytechnic State University]    4.5    CA  business   \n",
       "2                      [Stanford University]    4.0    CA  business   \n",
       "\n",
       "                                                 url  \n",
       "0           http://www.yelp.com/biz/top-dog-berkeley  \n",
       "1  http://www.yelp.com/biz/firestone-grill-san-lu...  \n",
       "2           http://www.yelp.com/biz/pampas-palo-alto  "
      ]
     },
     "execution_count": 30,
     "metadata": {},
     "output_type": "execute_result"
    }
   ],
   "source": [
    "businesstest = pd.read_csv('business_final_academic.csv')\n",
    "businesstest.head(3)"
   ]
  }
 ],
 "metadata": {
  "kernelspec": {
   "display_name": "Python 2",
   "language": "python",
   "name": "python2"
  },
  "language_info": {
   "codemirror_mode": {
    "name": "ipython",
    "version": 2
   },
   "file_extension": ".py",
   "mimetype": "text/x-python",
   "name": "python",
   "nbconvert_exporter": "python",
   "pygments_lexer": "ipython2",
   "version": "2.7.10"
  }
 },
 "nbformat": 4,
 "nbformat_minor": 0
}
