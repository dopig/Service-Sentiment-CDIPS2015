{
 "cells": [
  {
   "cell_type": "code",
   "execution_count": 1,
   "metadata": {
    "collapsed": false
   },
   "outputs": [],
   "source": [
    "import pandas as pd"
   ]
  },
  {
   "cell_type": "markdown",
   "metadata": {},
   "source": [
    "### Get list of business ids that correspond to restaurants with >100 reviews"
   ]
  },
  {
   "cell_type": "code",
   "execution_count": 2,
   "metadata": {
    "collapsed": false
   },
   "outputs": [],
   "source": [
    "# load businesses json file\n",
    "# read file into array\n",
    "with open('yelp_academic_dataset_business.json', 'rb') as f:\n",
    "    data = f.readlines()\n",
    "# remove \"\\n\"s\n",
    "data = map(lambda x: x.rstrip(), data)\n",
    "# convert to json string\n",
    "data_json_str = \"[\" + ','.join(data) + \"]\"\n",
    "# load as pandas df\n",
    "business = pd.read_json(data_json_str)"
   ]
  },
  {
   "cell_type": "code",
   "execution_count": 3,
   "metadata": {
    "collapsed": false
   },
   "outputs": [
    {
     "data": {
      "text/html": [
       "<div>\n",
       "<table border=\"1\" class=\"dataframe\">\n",
       "  <thead>\n",
       "    <tr style=\"text-align: right;\">\n",
       "      <th></th>\n",
       "      <th>attributes</th>\n",
       "      <th>business_id</th>\n",
       "      <th>categories</th>\n",
       "      <th>city</th>\n",
       "      <th>full_address</th>\n",
       "      <th>hours</th>\n",
       "      <th>latitude</th>\n",
       "      <th>longitude</th>\n",
       "      <th>name</th>\n",
       "      <th>neighborhoods</th>\n",
       "      <th>open</th>\n",
       "      <th>review_count</th>\n",
       "      <th>stars</th>\n",
       "      <th>state</th>\n",
       "      <th>type</th>\n",
       "    </tr>\n",
       "  </thead>\n",
       "  <tbody>\n",
       "    <tr>\n",
       "      <th>0</th>\n",
       "      <td>{u'By Appointment Only': True}</td>\n",
       "      <td>vcNAWiLM4dR7D2nwwJ7nCA</td>\n",
       "      <td>[Doctors, Health &amp; Medical]</td>\n",
       "      <td>Phoenix</td>\n",
       "      <td>4840 E Indian School Rd\\nSte 101\\nPhoenix, AZ ...</td>\n",
       "      <td>{u'Thursday': {u'close': u'17:00', u'open': u'...</td>\n",
       "      <td>33.499313</td>\n",
       "      <td>-111.983758</td>\n",
       "      <td>Eric Goldberg, MD</td>\n",
       "      <td>[]</td>\n",
       "      <td>True</td>\n",
       "      <td>9</td>\n",
       "      <td>3.5</td>\n",
       "      <td>AZ</td>\n",
       "      <td>business</td>\n",
       "    </tr>\n",
       "    <tr>\n",
       "      <th>1</th>\n",
       "      <td>{u'Happy Hour': True, u'Accepts Credit Cards':...</td>\n",
       "      <td>UsFtqoBl7naz8AVUBZMjQQ</td>\n",
       "      <td>[Nightlife]</td>\n",
       "      <td>Dravosburg</td>\n",
       "      <td>202 McClure St\\nDravosburg, PA 15034</td>\n",
       "      <td>{}</td>\n",
       "      <td>40.350519</td>\n",
       "      <td>-79.886930</td>\n",
       "      <td>Clancy's Pub</td>\n",
       "      <td>[]</td>\n",
       "      <td>True</td>\n",
       "      <td>4</td>\n",
       "      <td>3.5</td>\n",
       "      <td>PA</td>\n",
       "      <td>business</td>\n",
       "    </tr>\n",
       "    <tr>\n",
       "      <th>2</th>\n",
       "      <td>{u'Good for Kids': True}</td>\n",
       "      <td>cE27W9VPgO88Qxe4ol6y_g</td>\n",
       "      <td>[Active Life, Mini Golf, Golf]</td>\n",
       "      <td>Bethel Park</td>\n",
       "      <td>1530 Hamilton Rd\\nBethel Park, PA 15234</td>\n",
       "      <td>{}</td>\n",
       "      <td>40.356896</td>\n",
       "      <td>-80.015910</td>\n",
       "      <td>Cool Springs Golf Center</td>\n",
       "      <td>[]</td>\n",
       "      <td>False</td>\n",
       "      <td>5</td>\n",
       "      <td>2.5</td>\n",
       "      <td>PA</td>\n",
       "      <td>business</td>\n",
       "    </tr>\n",
       "  </tbody>\n",
       "</table>\n",
       "</div>"
      ],
      "text/plain": [
       "                                          attributes             business_id  \\\n",
       "0                     {u'By Appointment Only': True}  vcNAWiLM4dR7D2nwwJ7nCA   \n",
       "1  {u'Happy Hour': True, u'Accepts Credit Cards':...  UsFtqoBl7naz8AVUBZMjQQ   \n",
       "2                           {u'Good for Kids': True}  cE27W9VPgO88Qxe4ol6y_g   \n",
       "\n",
       "                       categories         city  \\\n",
       "0     [Doctors, Health & Medical]      Phoenix   \n",
       "1                     [Nightlife]   Dravosburg   \n",
       "2  [Active Life, Mini Golf, Golf]  Bethel Park   \n",
       "\n",
       "                                        full_address  \\\n",
       "0  4840 E Indian School Rd\\nSte 101\\nPhoenix, AZ ...   \n",
       "1               202 McClure St\\nDravosburg, PA 15034   \n",
       "2            1530 Hamilton Rd\\nBethel Park, PA 15234   \n",
       "\n",
       "                                               hours   latitude   longitude  \\\n",
       "0  {u'Thursday': {u'close': u'17:00', u'open': u'...  33.499313 -111.983758   \n",
       "1                                                 {}  40.350519  -79.886930   \n",
       "2                                                 {}  40.356896  -80.015910   \n",
       "\n",
       "                       name neighborhoods   open  review_count  stars state  \\\n",
       "0         Eric Goldberg, MD            []   True             9    3.5    AZ   \n",
       "1              Clancy's Pub            []   True             4    3.5    PA   \n",
       "2  Cool Springs Golf Center            []  False             5    2.5    PA   \n",
       "\n",
       "       type  \n",
       "0  business  \n",
       "1  business  \n",
       "2  business  "
      ]
     },
     "execution_count": 3,
     "metadata": {},
     "output_type": "execute_result"
    }
   ],
   "source": [
    "business.head(3)"
   ]
  },
  {
   "cell_type": "code",
   "execution_count": 4,
   "metadata": {
    "collapsed": false
   },
   "outputs": [],
   "source": [
    "# select businesses that have 'Restaurants' in their category and have >100 reviews\n",
    "restaurant_index = []\n",
    "for i in range(0,len(business)):\n",
    "    if 'Restaurants' in business.categories[i] and business.review_count[i] > 100 : \n",
    "              restaurant_index.append(i)\n",
    "business_restaurant = business.iloc[restaurant_index]            "
   ]
  },
  {
   "cell_type": "code",
   "execution_count": 5,
   "metadata": {
    "collapsed": false
   },
   "outputs": [
    {
     "data": {
      "text/html": [
       "<div>\n",
       "<table border=\"1\" class=\"dataframe\">\n",
       "  <thead>\n",
       "    <tr style=\"text-align: right;\">\n",
       "      <th></th>\n",
       "      <th>attributes</th>\n",
       "      <th>business_id</th>\n",
       "      <th>categories</th>\n",
       "      <th>city</th>\n",
       "      <th>full_address</th>\n",
       "      <th>hours</th>\n",
       "      <th>latitude</th>\n",
       "      <th>longitude</th>\n",
       "      <th>name</th>\n",
       "      <th>neighborhoods</th>\n",
       "      <th>open</th>\n",
       "      <th>review_count</th>\n",
       "      <th>stars</th>\n",
       "      <th>state</th>\n",
       "      <th>type</th>\n",
       "    </tr>\n",
       "  </thead>\n",
       "  <tbody>\n",
       "    <tr>\n",
       "      <th>136</th>\n",
       "      <td>{u'Alcohol': u'full_bar', u'Noise Level': u'av...</td>\n",
       "      <td>2SwC8wqpZC4B9iFVTgYT9A</td>\n",
       "      <td>[Wine Bars, Bars, Mediterranean, Nightlife, Re...</td>\n",
       "      <td>Pittsburgh</td>\n",
       "      <td>229 S Highland Ave\\nShadyside\\nPittsburgh, PA ...</td>\n",
       "      <td>{u'Monday': {u'close': u'22:00', u'open': u'11...</td>\n",
       "      <td>40.458138</td>\n",
       "      <td>-79.924797</td>\n",
       "      <td>Casbah</td>\n",
       "      <td>[Shadyside]</td>\n",
       "      <td>True</td>\n",
       "      <td>199</td>\n",
       "      <td>4</td>\n",
       "      <td>PA</td>\n",
       "      <td>business</td>\n",
       "    </tr>\n",
       "    <tr>\n",
       "      <th>137</th>\n",
       "      <td>{u'Take-out': True, u'Accepts Credit Cards': T...</td>\n",
       "      <td>PzG0XmAmtXFs6Fdnubf41g</td>\n",
       "      <td>[Food, Coffee &amp; Tea, Vegetarian, Restaurants]</td>\n",
       "      <td>Pittsburgh</td>\n",
       "      <td>5430 Penn Ave\\nBloomfield\\nPittsburgh, PA 15206</td>\n",
       "      <td>{u'Monday': {u'close': u'17:00', u'open': u'08...</td>\n",
       "      <td>40.464485</td>\n",
       "      <td>-79.935388</td>\n",
       "      <td>Quiet Storm Vegetarian &amp; Vegan Cafe</td>\n",
       "      <td>[Bloomfield]</td>\n",
       "      <td>False</td>\n",
       "      <td>143</td>\n",
       "      <td>4</td>\n",
       "      <td>PA</td>\n",
       "      <td>business</td>\n",
       "    </tr>\n",
       "    <tr>\n",
       "      <th>166</th>\n",
       "      <td>{u'Alcohol': u'full_bar', u'Noise Level': u'av...</td>\n",
       "      <td>IxQ1ATP_Wg_QujO9nywzcQ</td>\n",
       "      <td>[German, Pubs, Bars, Nightlife, Restaurants]</td>\n",
       "      <td>Pittsburgh</td>\n",
       "      <td>537 Suismon St\\nNorth Side\\nPittsburgh, PA 15212</td>\n",
       "      <td>{u'Monday': {u'close': u'22:00', u'open': u'11...</td>\n",
       "      <td>40.455167</td>\n",
       "      <td>-79.999815</td>\n",
       "      <td>Max's Allegheny Tavern</td>\n",
       "      <td>[North Side]</td>\n",
       "      <td>True</td>\n",
       "      <td>110</td>\n",
       "      <td>4</td>\n",
       "      <td>PA</td>\n",
       "      <td>business</td>\n",
       "    </tr>\n",
       "  </tbody>\n",
       "</table>\n",
       "</div>"
      ],
      "text/plain": [
       "                                            attributes  \\\n",
       "136  {u'Alcohol': u'full_bar', u'Noise Level': u'av...   \n",
       "137  {u'Take-out': True, u'Accepts Credit Cards': T...   \n",
       "166  {u'Alcohol': u'full_bar', u'Noise Level': u'av...   \n",
       "\n",
       "                business_id  \\\n",
       "136  2SwC8wqpZC4B9iFVTgYT9A   \n",
       "137  PzG0XmAmtXFs6Fdnubf41g   \n",
       "166  IxQ1ATP_Wg_QujO9nywzcQ   \n",
       "\n",
       "                                            categories        city  \\\n",
       "136  [Wine Bars, Bars, Mediterranean, Nightlife, Re...  Pittsburgh   \n",
       "137      [Food, Coffee & Tea, Vegetarian, Restaurants]  Pittsburgh   \n",
       "166       [German, Pubs, Bars, Nightlife, Restaurants]  Pittsburgh   \n",
       "\n",
       "                                          full_address  \\\n",
       "136  229 S Highland Ave\\nShadyside\\nPittsburgh, PA ...   \n",
       "137    5430 Penn Ave\\nBloomfield\\nPittsburgh, PA 15206   \n",
       "166   537 Suismon St\\nNorth Side\\nPittsburgh, PA 15212   \n",
       "\n",
       "                                                 hours   latitude  longitude  \\\n",
       "136  {u'Monday': {u'close': u'22:00', u'open': u'11...  40.458138 -79.924797   \n",
       "137  {u'Monday': {u'close': u'17:00', u'open': u'08...  40.464485 -79.935388   \n",
       "166  {u'Monday': {u'close': u'22:00', u'open': u'11...  40.455167 -79.999815   \n",
       "\n",
       "                                    name neighborhoods   open  review_count  \\\n",
       "136                               Casbah   [Shadyside]   True           199   \n",
       "137  Quiet Storm Vegetarian & Vegan Cafe  [Bloomfield]  False           143   \n",
       "166               Max's Allegheny Tavern  [North Side]   True           110   \n",
       "\n",
       "     stars state      type  \n",
       "136      4    PA  business  \n",
       "137      4    PA  business  \n",
       "166      4    PA  business  "
      ]
     },
     "execution_count": 5,
     "metadata": {},
     "output_type": "execute_result"
    }
   ],
   "source": [
    "business_restaurant.head(3)"
   ]
  },
  {
   "cell_type": "code",
   "execution_count": 6,
   "metadata": {
    "collapsed": false
   },
   "outputs": [
    {
     "data": {
      "text/plain": [
       "(2612, 249.32924961715162, 651248)"
      ]
     },
     "execution_count": 6,
     "metadata": {},
     "output_type": "execute_result"
    }
   ],
   "source": [
    "# total number of restaurants, mean number of reviews per restaurant, total number of reviews\n",
    "len(business_restaurant),business_restaurant['review_count'].mean(), business_restaurant['review_count'].sum()"
   ]
  },
  {
   "cell_type": "code",
   "execution_count": 7,
   "metadata": {
    "collapsed": false
   },
   "outputs": [],
   "source": [
    "# create df of restaurant business ids\n",
    "busid = pd.DataFrame(business_restaurant['business_id'])"
   ]
  },
  {
   "cell_type": "code",
   "execution_count": 8,
   "metadata": {
    "collapsed": false,
    "scrolled": true
   },
   "outputs": [
    {
     "data": {
      "text/html": [
       "<div>\n",
       "<table border=\"1\" class=\"dataframe\">\n",
       "  <thead>\n",
       "    <tr style=\"text-align: right;\">\n",
       "      <th></th>\n",
       "      <th>business_id</th>\n",
       "    </tr>\n",
       "  </thead>\n",
       "  <tbody>\n",
       "    <tr>\n",
       "      <th>136</th>\n",
       "      <td>2SwC8wqpZC4B9iFVTgYT9A</td>\n",
       "    </tr>\n",
       "    <tr>\n",
       "      <th>137</th>\n",
       "      <td>PzG0XmAmtXFs6Fdnubf41g</td>\n",
       "    </tr>\n",
       "    <tr>\n",
       "      <th>166</th>\n",
       "      <td>IxQ1ATP_Wg_QujO9nywzcQ</td>\n",
       "    </tr>\n",
       "  </tbody>\n",
       "</table>\n",
       "</div>"
      ],
      "text/plain": [
       "                business_id\n",
       "136  2SwC8wqpZC4B9iFVTgYT9A\n",
       "137  PzG0XmAmtXFs6Fdnubf41g\n",
       "166  IxQ1ATP_Wg_QujO9nywzcQ"
      ]
     },
     "execution_count": 8,
     "metadata": {},
     "output_type": "execute_result"
    }
   ],
   "source": [
    "busid.head(3)"
   ]
  },
  {
   "cell_type": "markdown",
   "metadata": {},
   "source": [
    "### Get list of  reviews for restaurants with >=100 reviews"
   ]
  },
  {
   "cell_type": "code",
   "execution_count": 9,
   "metadata": {
    "collapsed": false
   },
   "outputs": [],
   "source": [
    "# load reviews json file\n",
    "with open('yelp_academic_dataset_review.json', 'rb') as f:\n",
    "    data = f.readlines()\n",
    "data = map(lambda x: x.rstrip(), data)\n",
    "data_json_str = \"[\" + ','.join(data) + \"]\""
   ]
  },
  {
   "cell_type": "code",
   "execution_count": 10,
   "metadata": {
    "collapsed": false
   },
   "outputs": [],
   "source": [
    "# json file is too big (kernel will die attempting to load the full file)\n",
    "# split it into two segments and load each as pandas df\n",
    "# this step takes a while to run\n",
    "data_json_str_1 = data_json_str[0:713180745]\n",
    "data_json_str_1 = data_json_str_1 + \"]\"\n",
    "review = pd.read_json(data_json_str_1)\n",
    "\n",
    "data_json_str_2 = data_json_str[713180746:]\n",
    "data_json_str_2 = \"[\" + data_json_str_2\n",
    "review2 = pd.read_json(data_json_str_2)"
   ]
  },
  {
   "cell_type": "code",
   "execution_count": 11,
   "metadata": {
    "collapsed": false
   },
   "outputs": [
    {
     "data": {
      "text/html": [
       "<div>\n",
       "<table border=\"1\" class=\"dataframe\">\n",
       "  <thead>\n",
       "    <tr style=\"text-align: right;\">\n",
       "      <th></th>\n",
       "      <th>business_id</th>\n",
       "      <th>date</th>\n",
       "      <th>review_id</th>\n",
       "      <th>stars</th>\n",
       "      <th>text</th>\n",
       "      <th>type</th>\n",
       "      <th>user_id</th>\n",
       "      <th>votes</th>\n",
       "    </tr>\n",
       "  </thead>\n",
       "  <tbody>\n",
       "    <tr>\n",
       "      <th>0</th>\n",
       "      <td>vcNAWiLM4dR7D2nwwJ7nCA</td>\n",
       "      <td>2007-05-17</td>\n",
       "      <td>15SdjuK7DmYqUAj6rjGowg</td>\n",
       "      <td>5</td>\n",
       "      <td>dr. goldberg offers everything i look for in a...</td>\n",
       "      <td>review</td>\n",
       "      <td>Xqd0DzHaiyRqVH3WRG7hzg</td>\n",
       "      <td>{u'funny': 0, u'useful': 2, u'cool': 1}</td>\n",
       "    </tr>\n",
       "    <tr>\n",
       "      <th>1</th>\n",
       "      <td>vcNAWiLM4dR7D2nwwJ7nCA</td>\n",
       "      <td>2010-03-22</td>\n",
       "      <td>RF6UnRTtG7tWMcrO2GEoAg</td>\n",
       "      <td>2</td>\n",
       "      <td>Unfortunately, the frustration of being Dr. Go...</td>\n",
       "      <td>review</td>\n",
       "      <td>H1kH6QZV7Le4zqTRNxoZow</td>\n",
       "      <td>{u'funny': 0, u'useful': 2, u'cool': 0}</td>\n",
       "    </tr>\n",
       "    <tr>\n",
       "      <th>2</th>\n",
       "      <td>vcNAWiLM4dR7D2nwwJ7nCA</td>\n",
       "      <td>2012-02-14</td>\n",
       "      <td>-TsVN230RCkLYKBeLsuz7A</td>\n",
       "      <td>4</td>\n",
       "      <td>Dr. Goldberg has been my doctor for years and ...</td>\n",
       "      <td>review</td>\n",
       "      <td>zvJCcrpm2yOZrxKffwGQLA</td>\n",
       "      <td>{u'funny': 0, u'useful': 1, u'cool': 1}</td>\n",
       "    </tr>\n",
       "  </tbody>\n",
       "</table>\n",
       "</div>"
      ],
      "text/plain": [
       "              business_id       date               review_id  stars  \\\n",
       "0  vcNAWiLM4dR7D2nwwJ7nCA 2007-05-17  15SdjuK7DmYqUAj6rjGowg      5   \n",
       "1  vcNAWiLM4dR7D2nwwJ7nCA 2010-03-22  RF6UnRTtG7tWMcrO2GEoAg      2   \n",
       "2  vcNAWiLM4dR7D2nwwJ7nCA 2012-02-14  -TsVN230RCkLYKBeLsuz7A      4   \n",
       "\n",
       "                                                text    type  \\\n",
       "0  dr. goldberg offers everything i look for in a...  review   \n",
       "1  Unfortunately, the frustration of being Dr. Go...  review   \n",
       "2  Dr. Goldberg has been my doctor for years and ...  review   \n",
       "\n",
       "                  user_id                                    votes  \n",
       "0  Xqd0DzHaiyRqVH3WRG7hzg  {u'funny': 0, u'useful': 2, u'cool': 1}  \n",
       "1  H1kH6QZV7Le4zqTRNxoZow  {u'funny': 0, u'useful': 2, u'cool': 0}  \n",
       "2  zvJCcrpm2yOZrxKffwGQLA  {u'funny': 0, u'useful': 1, u'cool': 1}  "
      ]
     },
     "execution_count": 11,
     "metadata": {},
     "output_type": "execute_result"
    }
   ],
   "source": [
    "review.head(3)"
   ]
  },
  {
   "cell_type": "code",
   "execution_count": 12,
   "metadata": {
    "collapsed": false
   },
   "outputs": [
    {
     "data": {
      "text/html": [
       "<div>\n",
       "<table border=\"1\" class=\"dataframe\">\n",
       "  <thead>\n",
       "    <tr style=\"text-align: right;\">\n",
       "      <th></th>\n",
       "      <th>business_id</th>\n",
       "      <th>date</th>\n",
       "      <th>review_id</th>\n",
       "      <th>stars</th>\n",
       "      <th>text</th>\n",
       "      <th>type</th>\n",
       "      <th>user_id</th>\n",
       "      <th>votes</th>\n",
       "    </tr>\n",
       "  </thead>\n",
       "  <tbody>\n",
       "    <tr>\n",
       "      <th>783966</th>\n",
       "      <td>3-wjIKCaFP1vt_SllQz-8Q</td>\n",
       "      <td>2010-06-29</td>\n",
       "      <td>iiFZdNCNyiyGfG-DjuVapg</td>\n",
       "      <td>4</td>\n",
       "      <td>I'm glad the intoxicating sweet aroma of crepe...</td>\n",
       "      <td>review</td>\n",
       "      <td>MC1WsHPEfhfu9mGwK4VXDA</td>\n",
       "      <td>{u'funny': 0, u'useful': 0, u'cool': 0}</td>\n",
       "    </tr>\n",
       "    <tr>\n",
       "      <th>783967</th>\n",
       "      <td>3-wjIKCaFP1vt_SllQz-8Q</td>\n",
       "      <td>2010-09-19</td>\n",
       "      <td>sOjj_2YxSZ1SjGtzuIUGZw</td>\n",
       "      <td>1</td>\n",
       "      <td>We waited and waited and waited to be served.....</td>\n",
       "      <td>review</td>\n",
       "      <td>8VebNTOaFYabe-eHyylOLQ</td>\n",
       "      <td>{u'funny': 0, u'useful': 1, u'cool': 0}</td>\n",
       "    </tr>\n",
       "    <tr>\n",
       "      <th>783968</th>\n",
       "      <td>3-wjIKCaFP1vt_SllQz-8Q</td>\n",
       "      <td>2011-04-01</td>\n",
       "      <td>xS1y6FKNVZALkGc4FzLW-w</td>\n",
       "      <td>1</td>\n",
       "      <td>Their service here really is abysmal. I droppe...</td>\n",
       "      <td>review</td>\n",
       "      <td>bIQM5V625Tb_qnUdN-h-mQ</td>\n",
       "      <td>{u'funny': 0, u'useful': 0, u'cool': 0}</td>\n",
       "    </tr>\n",
       "  </tbody>\n",
       "</table>\n",
       "</div>"
      ],
      "text/plain": [
       "                   business_id       date               review_id  stars  \\\n",
       "783966  3-wjIKCaFP1vt_SllQz-8Q 2010-06-29  iiFZdNCNyiyGfG-DjuVapg      4   \n",
       "783967  3-wjIKCaFP1vt_SllQz-8Q 2010-09-19  sOjj_2YxSZ1SjGtzuIUGZw      1   \n",
       "783968  3-wjIKCaFP1vt_SllQz-8Q 2011-04-01  xS1y6FKNVZALkGc4FzLW-w      1   \n",
       "\n",
       "                                                     text    type  \\\n",
       "783966  I'm glad the intoxicating sweet aroma of crepe...  review   \n",
       "783967  We waited and waited and waited to be served.....  review   \n",
       "783968  Their service here really is abysmal. I droppe...  review   \n",
       "\n",
       "                       user_id                                    votes  \n",
       "783966  MC1WsHPEfhfu9mGwK4VXDA  {u'funny': 0, u'useful': 0, u'cool': 0}  \n",
       "783967  8VebNTOaFYabe-eHyylOLQ  {u'funny': 0, u'useful': 1, u'cool': 0}  \n",
       "783968  bIQM5V625Tb_qnUdN-h-mQ  {u'funny': 0, u'useful': 0, u'cool': 0}  "
      ]
     },
     "execution_count": 12,
     "metadata": {},
     "output_type": "execute_result"
    }
   ],
   "source": [
    "review.tail(3)"
   ]
  },
  {
   "cell_type": "code",
   "execution_count": 13,
   "metadata": {
    "collapsed": false
   },
   "outputs": [
    {
     "data": {
      "text/html": [
       "<div>\n",
       "<table border=\"1\" class=\"dataframe\">\n",
       "  <thead>\n",
       "    <tr style=\"text-align: right;\">\n",
       "      <th></th>\n",
       "      <th>business_id</th>\n",
       "      <th>date</th>\n",
       "      <th>review_id</th>\n",
       "      <th>stars</th>\n",
       "      <th>text</th>\n",
       "      <th>type</th>\n",
       "      <th>user_id</th>\n",
       "      <th>votes</th>\n",
       "    </tr>\n",
       "  </thead>\n",
       "  <tbody>\n",
       "    <tr>\n",
       "      <th>0</th>\n",
       "      <td>7urQrSzJ70zKeVnrbRgGKQ</td>\n",
       "      <td>2011-04-22</td>\n",
       "      <td>9i0buGP1OERTtiH-javEgw</td>\n",
       "      <td>1</td>\n",
       "      <td>I am very sorry to write a bad review of this ...</td>\n",
       "      <td>review</td>\n",
       "      <td>3fro9yPEszxCZzbwNplr1w</td>\n",
       "      <td>{u'funny': 0, u'useful': 0, u'cool': 0}</td>\n",
       "    </tr>\n",
       "    <tr>\n",
       "      <th>1</th>\n",
       "      <td>7urQrSzJ70zKeVnrbRgGKQ</td>\n",
       "      <td>2011-06-01</td>\n",
       "      <td>MmHedrmN0iHJJzsvox2U7g</td>\n",
       "      <td>2</td>\n",
       "      <td>on our first night in montreal, we were lookin...</td>\n",
       "      <td>review</td>\n",
       "      <td>er8rJl90t28AumG2gpjeow</td>\n",
       "      <td>{u'funny': 0, u'useful': 0, u'cool': 0}</td>\n",
       "    </tr>\n",
       "    <tr>\n",
       "      <th>2</th>\n",
       "      <td>7urQrSzJ70zKeVnrbRgGKQ</td>\n",
       "      <td>2012-07-08</td>\n",
       "      <td>H6UvG1ED16j9OqcOcjRxIw</td>\n",
       "      <td>3</td>\n",
       "      <td>I had BBQ pork and BBQ spare ribs over rice......</td>\n",
       "      <td>review</td>\n",
       "      <td>dxEDclAzRBeukerPgzkTcQ</td>\n",
       "      <td>{u'funny': 0, u'useful': 0, u'cool': 0}</td>\n",
       "    </tr>\n",
       "  </tbody>\n",
       "</table>\n",
       "</div>"
      ],
      "text/plain": [
       "              business_id       date               review_id  stars  \\\n",
       "0  7urQrSzJ70zKeVnrbRgGKQ 2011-04-22  9i0buGP1OERTtiH-javEgw      1   \n",
       "1  7urQrSzJ70zKeVnrbRgGKQ 2011-06-01  MmHedrmN0iHJJzsvox2U7g      2   \n",
       "2  7urQrSzJ70zKeVnrbRgGKQ 2012-07-08  H6UvG1ED16j9OqcOcjRxIw      3   \n",
       "\n",
       "                                                text    type  \\\n",
       "0  I am very sorry to write a bad review of this ...  review   \n",
       "1  on our first night in montreal, we were lookin...  review   \n",
       "2  I had BBQ pork and BBQ spare ribs over rice......  review   \n",
       "\n",
       "                  user_id                                    votes  \n",
       "0  3fro9yPEszxCZzbwNplr1w  {u'funny': 0, u'useful': 0, u'cool': 0}  \n",
       "1  er8rJl90t28AumG2gpjeow  {u'funny': 0, u'useful': 0, u'cool': 0}  \n",
       "2  dxEDclAzRBeukerPgzkTcQ  {u'funny': 0, u'useful': 0, u'cool': 0}  "
      ]
     },
     "execution_count": 13,
     "metadata": {},
     "output_type": "execute_result"
    }
   ],
   "source": [
    "review2.head(3)"
   ]
  },
  {
   "cell_type": "code",
   "execution_count": 14,
   "metadata": {
    "collapsed": false
   },
   "outputs": [
    {
     "data": {
      "text/plain": [
       "(783969, 785295)"
      ]
     },
     "execution_count": 14,
     "metadata": {},
     "output_type": "execute_result"
    }
   ],
   "source": [
    "# total number of reviews in each segment\n",
    "len(review), len(review2)"
   ]
  },
  {
   "cell_type": "code",
   "execution_count": 15,
   "metadata": {
    "collapsed": false
   },
   "outputs": [],
   "source": [
    "# extract retaurant reviews only\n",
    "review_restaurant_1 = pd.merge(busid,review,how='inner',on='business_id')\n",
    "review_restaurant_2 = pd.merge(busid,review2,how='inner',on='business_id')"
   ]
  },
  {
   "cell_type": "code",
   "execution_count": 16,
   "metadata": {
    "collapsed": false
   },
   "outputs": [
    {
     "data": {
      "text/plain": [
       "(326874, 270327)"
      ]
     },
     "execution_count": 16,
     "metadata": {},
     "output_type": "execute_result"
    }
   ],
   "source": [
    "# number of restaurant reviews in each segment\n",
    "len(review_restaurant_1), len(review_restaurant_2)"
   ]
  },
  {
   "cell_type": "code",
   "execution_count": 17,
   "metadata": {
    "collapsed": false
   },
   "outputs": [
    {
     "data": {
      "text/plain": [
       "(1376, 1236)"
      ]
     },
     "execution_count": 17,
     "metadata": {},
     "output_type": "execute_result"
    }
   ],
   "source": [
    "# number of restaurants in each segment\n",
    "# sanity check: 1,376 + 1,236 = 2,612\n",
    "len(review_restaurant_1.business_id.unique()), len(review_restaurant_2.business_id.unique())"
   ]
  },
  {
   "cell_type": "code",
   "execution_count": 18,
   "metadata": {
    "collapsed": false
   },
   "outputs": [
    {
     "data": {
      "text/html": [
       "<div>\n",
       "<table border=\"1\" class=\"dataframe\">\n",
       "  <thead>\n",
       "    <tr style=\"text-align: right;\">\n",
       "      <th></th>\n",
       "      <th>business_id</th>\n",
       "      <th>date</th>\n",
       "      <th>review_id</th>\n",
       "      <th>stars</th>\n",
       "      <th>text</th>\n",
       "      <th>type</th>\n",
       "      <th>user_id</th>\n",
       "      <th>votes</th>\n",
       "    </tr>\n",
       "  </thead>\n",
       "  <tbody>\n",
       "    <tr>\n",
       "      <th>0</th>\n",
       "      <td>2SwC8wqpZC4B9iFVTgYT9A</td>\n",
       "      <td>2007-04-25</td>\n",
       "      <td>RWU0-370PJUlEzz5AX_u4w</td>\n",
       "      <td>4</td>\n",
       "      <td>Great stuff here...The cheese plates are great...</td>\n",
       "      <td>review</td>\n",
       "      <td>kdljP-HPIz1SMPZ2-B3NHA</td>\n",
       "      <td>{u'funny': 0, u'useful': 0, u'cool': 0}</td>\n",
       "    </tr>\n",
       "    <tr>\n",
       "      <th>1</th>\n",
       "      <td>2SwC8wqpZC4B9iFVTgYT9A</td>\n",
       "      <td>2007-07-16</td>\n",
       "      <td>8rMME0OWVJQ2FeeHG7wUfQ</td>\n",
       "      <td>4</td>\n",
       "      <td>This place used to have a great bar/tapas menu...</td>\n",
       "      <td>review</td>\n",
       "      <td>UzqOYLCssQS2FBcDq5HwkA</td>\n",
       "      <td>{u'funny': 0, u'useful': 1, u'cool': 0}</td>\n",
       "    </tr>\n",
       "    <tr>\n",
       "      <th>2</th>\n",
       "      <td>2SwC8wqpZC4B9iFVTgYT9A</td>\n",
       "      <td>2008-06-24</td>\n",
       "      <td>oulyefOGLSaeYDwwWSuZZg</td>\n",
       "      <td>4</td>\n",
       "      <td>Well it's official Shadyside is becoming my ne...</td>\n",
       "      <td>review</td>\n",
       "      <td>TckShYnQa0eD3WQxdoE3GQ</td>\n",
       "      <td>{u'funny': 0, u'useful': 1, u'cool': 0}</td>\n",
       "    </tr>\n",
       "  </tbody>\n",
       "</table>\n",
       "</div>"
      ],
      "text/plain": [
       "              business_id       date               review_id  stars  \\\n",
       "0  2SwC8wqpZC4B9iFVTgYT9A 2007-04-25  RWU0-370PJUlEzz5AX_u4w      4   \n",
       "1  2SwC8wqpZC4B9iFVTgYT9A 2007-07-16  8rMME0OWVJQ2FeeHG7wUfQ      4   \n",
       "2  2SwC8wqpZC4B9iFVTgYT9A 2008-06-24  oulyefOGLSaeYDwwWSuZZg      4   \n",
       "\n",
       "                                                text    type  \\\n",
       "0  Great stuff here...The cheese plates are great...  review   \n",
       "1  This place used to have a great bar/tapas menu...  review   \n",
       "2  Well it's official Shadyside is becoming my ne...  review   \n",
       "\n",
       "                  user_id                                    votes  \n",
       "0  kdljP-HPIz1SMPZ2-B3NHA  {u'funny': 0, u'useful': 0, u'cool': 0}  \n",
       "1  UzqOYLCssQS2FBcDq5HwkA  {u'funny': 0, u'useful': 1, u'cool': 0}  \n",
       "2  TckShYnQa0eD3WQxdoE3GQ  {u'funny': 0, u'useful': 1, u'cool': 0}  "
      ]
     },
     "execution_count": 18,
     "metadata": {},
     "output_type": "execute_result"
    }
   ],
   "source": [
    "review_restaurant_1.head(3)"
   ]
  },
  {
   "cell_type": "code",
   "execution_count": 19,
   "metadata": {
    "collapsed": false
   },
   "outputs": [
    {
     "data": {
      "text/html": [
       "<div>\n",
       "<table border=\"1\" class=\"dataframe\">\n",
       "  <thead>\n",
       "    <tr style=\"text-align: right;\">\n",
       "      <th></th>\n",
       "      <th>business_id</th>\n",
       "      <th>date</th>\n",
       "      <th>review_id</th>\n",
       "      <th>stars</th>\n",
       "      <th>text</th>\n",
       "      <th>type</th>\n",
       "      <th>user_id</th>\n",
       "      <th>votes</th>\n",
       "    </tr>\n",
       "  </thead>\n",
       "  <tbody>\n",
       "    <tr>\n",
       "      <th>0</th>\n",
       "      <td>3StNFdnfDPYWYsMZyvGFpA</td>\n",
       "      <td>2008-08-06</td>\n",
       "      <td>2JLwObrbCqS9geaQW3811Q</td>\n",
       "      <td>4</td>\n",
       "      <td>After a cold hike around Old Montreal, we stop...</td>\n",
       "      <td>review</td>\n",
       "      <td>92j9xiUMOsM3HviIGoR8Yg</td>\n",
       "      <td>{u'funny': 1, u'useful': 1, u'cool': 1}</td>\n",
       "    </tr>\n",
       "    <tr>\n",
       "      <th>1</th>\n",
       "      <td>3StNFdnfDPYWYsMZyvGFpA</td>\n",
       "      <td>2008-08-26</td>\n",
       "      <td>y2WimmzVZcnvN3zftrzLOQ</td>\n",
       "      <td>4</td>\n",
       "      <td>Housed in a small three story building in Old ...</td>\n",
       "      <td>review</td>\n",
       "      <td>AP6udBIStvWLY0T5rS_24A</td>\n",
       "      <td>{u'funny': 0, u'useful': 3, u'cool': 1}</td>\n",
       "    </tr>\n",
       "    <tr>\n",
       "      <th>2</th>\n",
       "      <td>3StNFdnfDPYWYsMZyvGFpA</td>\n",
       "      <td>2008-10-14</td>\n",
       "      <td>uK07iRbIYZnWhthCPl3KIg</td>\n",
       "      <td>5</td>\n",
       "      <td>Absolutely divine crepes, very indulgent and y...</td>\n",
       "      <td>review</td>\n",
       "      <td>7QiZtwCBVytrdkHDMqhipw</td>\n",
       "      <td>{u'funny': 0, u'useful': 1, u'cool': 0}</td>\n",
       "    </tr>\n",
       "  </tbody>\n",
       "</table>\n",
       "</div>"
      ],
      "text/plain": [
       "              business_id       date               review_id  stars  \\\n",
       "0  3StNFdnfDPYWYsMZyvGFpA 2008-08-06  2JLwObrbCqS9geaQW3811Q      4   \n",
       "1  3StNFdnfDPYWYsMZyvGFpA 2008-08-26  y2WimmzVZcnvN3zftrzLOQ      4   \n",
       "2  3StNFdnfDPYWYsMZyvGFpA 2008-10-14  uK07iRbIYZnWhthCPl3KIg      5   \n",
       "\n",
       "                                                text    type  \\\n",
       "0  After a cold hike around Old Montreal, we stop...  review   \n",
       "1  Housed in a small three story building in Old ...  review   \n",
       "2  Absolutely divine crepes, very indulgent and y...  review   \n",
       "\n",
       "                  user_id                                    votes  \n",
       "0  92j9xiUMOsM3HviIGoR8Yg  {u'funny': 1, u'useful': 1, u'cool': 1}  \n",
       "1  AP6udBIStvWLY0T5rS_24A  {u'funny': 0, u'useful': 3, u'cool': 1}  \n",
       "2  7QiZtwCBVytrdkHDMqhipw  {u'funny': 0, u'useful': 1, u'cool': 0}  "
      ]
     },
     "execution_count": 19,
     "metadata": {},
     "output_type": "execute_result"
    }
   ],
   "source": [
    "review_restaurant_2.head(3)"
   ]
  },
  {
   "cell_type": "code",
   "execution_count": 29,
   "metadata": {
    "collapsed": false
   },
   "outputs": [],
   "source": [
    "# sort reviews segment 1 by restaurant\n",
    "test = review_restaurant_1.groupby('business_id').count()\n",
    "test = test.sort('date',ascending=0)\n",
    "# sort reviews segment 2 by restaurant\n",
    "test2 = review_restaurant_2.groupby('business_id').count()\n",
    "test2 = test2.sort('date',ascending=0)"
   ]
  },
  {
   "cell_type": "code",
   "execution_count": 30,
   "metadata": {
    "collapsed": false
   },
   "outputs": [
    {
     "data": {
      "text/html": [
       "<div>\n",
       "<table border=\"1\" class=\"dataframe\">\n",
       "  <thead>\n",
       "    <tr style=\"text-align: right;\">\n",
       "      <th></th>\n",
       "      <th>date</th>\n",
       "      <th>review_id</th>\n",
       "      <th>stars</th>\n",
       "      <th>text</th>\n",
       "      <th>type</th>\n",
       "      <th>user_id</th>\n",
       "      <th>votes</th>\n",
       "    </tr>\n",
       "    <tr>\n",
       "      <th>business_id</th>\n",
       "      <th></th>\n",
       "      <th></th>\n",
       "      <th></th>\n",
       "      <th></th>\n",
       "      <th></th>\n",
       "      <th></th>\n",
       "      <th></th>\n",
       "    </tr>\n",
       "  </thead>\n",
       "  <tbody>\n",
       "    <tr>\n",
       "      <th>ishjLG3Sc94ZOelXZZhaIw</th>\n",
       "      <td>89</td>\n",
       "      <td>89</td>\n",
       "      <td>89</td>\n",
       "      <td>89</td>\n",
       "      <td>89</td>\n",
       "      <td>89</td>\n",
       "      <td>89</td>\n",
       "    </tr>\n",
       "    <tr>\n",
       "      <th>tivpU-VNABjNlHZ_sMUDGw</th>\n",
       "      <td>89</td>\n",
       "      <td>89</td>\n",
       "      <td>89</td>\n",
       "      <td>89</td>\n",
       "      <td>89</td>\n",
       "      <td>89</td>\n",
       "      <td>89</td>\n",
       "    </tr>\n",
       "    <tr>\n",
       "      <th>OVtSFFNohXIz9vdWDvbnEw</th>\n",
       "      <td>87</td>\n",
       "      <td>87</td>\n",
       "      <td>87</td>\n",
       "      <td>87</td>\n",
       "      <td>87</td>\n",
       "      <td>87</td>\n",
       "      <td>87</td>\n",
       "    </tr>\n",
       "    <tr>\n",
       "      <th>VpSiOW1PapVmZyyRBK_GBQ</th>\n",
       "      <td>85</td>\n",
       "      <td>85</td>\n",
       "      <td>85</td>\n",
       "      <td>85</td>\n",
       "      <td>85</td>\n",
       "      <td>85</td>\n",
       "      <td>85</td>\n",
       "    </tr>\n",
       "    <tr>\n",
       "      <th>JtvwIwSl6rXVKacqP8avyw</th>\n",
       "      <td>85</td>\n",
       "      <td>85</td>\n",
       "      <td>85</td>\n",
       "      <td>85</td>\n",
       "      <td>85</td>\n",
       "      <td>85</td>\n",
       "      <td>85</td>\n",
       "    </tr>\n",
       "  </tbody>\n",
       "</table>\n",
       "</div>"
      ],
      "text/plain": [
       "                        date  review_id  stars  text  type  user_id  votes\n",
       "business_id                                                               \n",
       "ishjLG3Sc94ZOelXZZhaIw    89         89     89    89    89       89     89\n",
       "tivpU-VNABjNlHZ_sMUDGw    89         89     89    89    89       89     89\n",
       "OVtSFFNohXIz9vdWDvbnEw    87         87     87    87    87       87     87\n",
       "VpSiOW1PapVmZyyRBK_GBQ    85         85     85    85    85       85     85\n",
       "JtvwIwSl6rXVKacqP8avyw    85         85     85    85    85       85     85"
      ]
     },
     "execution_count": 30,
     "metadata": {},
     "output_type": "execute_result"
    }
   ],
   "source": [
    "# notice that even if i pre-selected the restaurants with >100 reviews in the businesses json file,\n",
    "# some of them have < 100 reviews in the reviews json file\n",
    "test.tail()"
   ]
  },
  {
   "cell_type": "code",
   "execution_count": 31,
   "metadata": {
    "collapsed": false
   },
   "outputs": [
    {
     "data": {
      "text/html": [
       "<div>\n",
       "<table border=\"1\" class=\"dataframe\">\n",
       "  <thead>\n",
       "    <tr style=\"text-align: right;\">\n",
       "      <th></th>\n",
       "      <th>date</th>\n",
       "      <th>review_id</th>\n",
       "      <th>stars</th>\n",
       "      <th>text</th>\n",
       "      <th>type</th>\n",
       "      <th>user_id</th>\n",
       "      <th>votes</th>\n",
       "    </tr>\n",
       "    <tr>\n",
       "      <th>business_id</th>\n",
       "      <th></th>\n",
       "      <th></th>\n",
       "      <th></th>\n",
       "      <th></th>\n",
       "      <th></th>\n",
       "      <th></th>\n",
       "      <th></th>\n",
       "    </tr>\n",
       "  </thead>\n",
       "  <tbody>\n",
       "    <tr>\n",
       "      <th>WGy_8cFLvOYIw4EvV2HXAg</th>\n",
       "      <td>77</td>\n",
       "      <td>77</td>\n",
       "      <td>77</td>\n",
       "      <td>77</td>\n",
       "      <td>77</td>\n",
       "      <td>77</td>\n",
       "      <td>77</td>\n",
       "    </tr>\n",
       "    <tr>\n",
       "      <th>l5geRDF0zXr6l9A-42z8qQ</th>\n",
       "      <td>74</td>\n",
       "      <td>74</td>\n",
       "      <td>74</td>\n",
       "      <td>74</td>\n",
       "      <td>74</td>\n",
       "      <td>74</td>\n",
       "      <td>74</td>\n",
       "    </tr>\n",
       "    <tr>\n",
       "      <th>4dIzmqGAhFIcuHfI8CySig</th>\n",
       "      <td>73</td>\n",
       "      <td>73</td>\n",
       "      <td>73</td>\n",
       "      <td>73</td>\n",
       "      <td>73</td>\n",
       "      <td>73</td>\n",
       "      <td>73</td>\n",
       "    </tr>\n",
       "    <tr>\n",
       "      <th>QbS8kEuBXfN6FN_JCuFLuw</th>\n",
       "      <td>71</td>\n",
       "      <td>71</td>\n",
       "      <td>71</td>\n",
       "      <td>71</td>\n",
       "      <td>71</td>\n",
       "      <td>71</td>\n",
       "      <td>71</td>\n",
       "    </tr>\n",
       "    <tr>\n",
       "      <th>QhwkFogGQA-Ar176Ul5PUQ</th>\n",
       "      <td>62</td>\n",
       "      <td>62</td>\n",
       "      <td>62</td>\n",
       "      <td>62</td>\n",
       "      <td>62</td>\n",
       "      <td>62</td>\n",
       "      <td>62</td>\n",
       "    </tr>\n",
       "  </tbody>\n",
       "</table>\n",
       "</div>"
      ],
      "text/plain": [
       "                        date  review_id  stars  text  type  user_id  votes\n",
       "business_id                                                               \n",
       "WGy_8cFLvOYIw4EvV2HXAg    77         77     77    77    77       77     77\n",
       "l5geRDF0zXr6l9A-42z8qQ    74         74     74    74    74       74     74\n",
       "4dIzmqGAhFIcuHfI8CySig    73         73     73    73    73       73     73\n",
       "QbS8kEuBXfN6FN_JCuFLuw    71         71     71    71    71       71     71\n",
       "QhwkFogGQA-Ar176Ul5PUQ    62         62     62    62    62       62     62"
      ]
     },
     "execution_count": 31,
     "metadata": {},
     "output_type": "execute_result"
    }
   ],
   "source": [
    "test2.tail()"
   ]
  },
  {
   "cell_type": "code",
   "execution_count": 32,
   "metadata": {
    "collapsed": false
   },
   "outputs": [
    {
     "data": {
      "text/plain": [
       "(1263, 316034, 250.22486144101347)"
      ]
     },
     "execution_count": 32,
     "metadata": {},
     "output_type": "execute_result"
    }
   ],
   "source": [
    "# review segment 1\n",
    "# number of restaurants with >100 reviews, total number of reviews, mean number of reviews per restaurant\n",
    "test['date'][test['date']>100].count(), test['date'][test['date']>100].sum(), test['date'][test['date']>100].mean()"
   ]
  },
  {
   "cell_type": "code",
   "execution_count": 33,
   "metadata": {
    "collapsed": false
   },
   "outputs": [
    {
     "data": {
      "text/plain": [
       "(1121, 259508, 231.49687778768956)"
      ]
     },
     "execution_count": 33,
     "metadata": {},
     "output_type": "execute_result"
    }
   ],
   "source": [
    "# review segment 2\n",
    "# number of restaurants with >100 reviews, total number of reviews, mean number of reviews per restaurant\n",
    "test2['date'][test2['date']>100].count(), test2['date'][test2['date']>100].sum(),test2['date'][test2['date']>100].mean()"
   ]
  },
  {
   "cell_type": "code",
   "execution_count": 34,
   "metadata": {
    "collapsed": false
   },
   "outputs": [],
   "source": [
    "# get list of business ids with > 100 reviews in reviews json file\n",
    "busid_1 = pd.DataFrame(test[test['date']>100].index.values, columns=['business_id'])\n",
    "busid_2 = pd.DataFrame(test2[test2['date']>100].index.values, columns=['business_id'])"
   ]
  },
  {
   "cell_type": "code",
   "execution_count": 35,
   "metadata": {
    "collapsed": false
   },
   "outputs": [
    {
     "data": {
      "text/html": [
       "<div>\n",
       "<table border=\"1\" class=\"dataframe\">\n",
       "  <thead>\n",
       "    <tr style=\"text-align: right;\">\n",
       "      <th></th>\n",
       "      <th>business_id</th>\n",
       "    </tr>\n",
       "  </thead>\n",
       "  <tbody>\n",
       "    <tr>\n",
       "      <th>0</th>\n",
       "      <td>4bEjOyTaDG24SY5TxsaUNQ</td>\n",
       "    </tr>\n",
       "    <tr>\n",
       "      <th>1</th>\n",
       "      <td>2e2e7WgqU1BnpxmQL5jbfw</td>\n",
       "    </tr>\n",
       "    <tr>\n",
       "      <th>2</th>\n",
       "      <td>YNQgak-ZLtYJQxlDwN-qIg</td>\n",
       "    </tr>\n",
       "  </tbody>\n",
       "</table>\n",
       "</div>"
      ],
      "text/plain": [
       "              business_id\n",
       "0  4bEjOyTaDG24SY5TxsaUNQ\n",
       "1  2e2e7WgqU1BnpxmQL5jbfw\n",
       "2  YNQgak-ZLtYJQxlDwN-qIg"
      ]
     },
     "execution_count": 35,
     "metadata": {},
     "output_type": "execute_result"
    }
   ],
   "source": [
    "busid_1.head(3)"
   ]
  },
  {
   "cell_type": "code",
   "execution_count": 36,
   "metadata": {
    "collapsed": false
   },
   "outputs": [
    {
     "data": {
      "text/html": [
       "<div>\n",
       "<table border=\"1\" class=\"dataframe\">\n",
       "  <thead>\n",
       "    <tr style=\"text-align: right;\">\n",
       "      <th></th>\n",
       "      <th>business_id</th>\n",
       "    </tr>\n",
       "  </thead>\n",
       "  <tbody>\n",
       "    <tr>\n",
       "      <th>0</th>\n",
       "      <td>zt1TpTuJ6y9n551sw9TaEg</td>\n",
       "    </tr>\n",
       "    <tr>\n",
       "      <th>1</th>\n",
       "      <td>Xhg93cMdemu5pAMkDoEdtQ</td>\n",
       "    </tr>\n",
       "    <tr>\n",
       "      <th>2</th>\n",
       "      <td>sIyHTizqAiGu12XMLX3N3g</td>\n",
       "    </tr>\n",
       "  </tbody>\n",
       "</table>\n",
       "</div>"
      ],
      "text/plain": [
       "              business_id\n",
       "0  zt1TpTuJ6y9n551sw9TaEg\n",
       "1  Xhg93cMdemu5pAMkDoEdtQ\n",
       "2  sIyHTizqAiGu12XMLX3N3g"
      ]
     },
     "execution_count": 36,
     "metadata": {},
     "output_type": "execute_result"
    }
   ],
   "source": [
    "busid_2.head(3)"
   ]
  },
  {
   "cell_type": "code",
   "execution_count": 37,
   "metadata": {
    "collapsed": false
   },
   "outputs": [
    {
     "data": {
      "text/plain": [
       "(1263, 1121)"
      ]
     },
     "execution_count": 37,
     "metadata": {},
     "output_type": "execute_result"
    }
   ],
   "source": [
    "len(busid_1), len(busid_2)"
   ]
  },
  {
   "cell_type": "markdown",
   "metadata": {},
   "source": [
    "### Extract and save businesses and reviews dataset"
   ]
  },
  {
   "cell_type": "code",
   "execution_count": 38,
   "metadata": {
    "collapsed": true
   },
   "outputs": [],
   "source": [
    "# extract the business info of all businesses in busid_1, busid_2\n",
    "businesses_1 = pd.merge(busid_1,business_restaurant,how='inner',on='business_id')\n",
    "businesses_2 = pd.merge(busid_2,business_restaurant,how='inner',on='business_id')"
   ]
  },
  {
   "cell_type": "code",
   "execution_count": 39,
   "metadata": {
    "collapsed": false
   },
   "outputs": [],
   "source": [
    "# extract the review info of all businesses in busid_1, busid_2\n",
    "reviews_1 = pd.merge(busid_1,review_restaurant_1,how='inner',on='business_id')\n",
    "reviews_2 = pd.merge(busid_2,review_restaurant_2,how='inner',on='business_id')"
   ]
  },
  {
   "cell_type": "code",
   "execution_count": 40,
   "metadata": {
    "collapsed": false
   },
   "outputs": [
    {
     "data": {
      "text/plain": [
       "(2384, 2384, 575542)"
      ]
     },
     "execution_count": 40,
     "metadata": {},
     "output_type": "execute_result"
    }
   ],
   "source": [
    "# join both segments into one df\n",
    "businessid_final = pd.concat([busid_1, busid_2], ignore_index=True)\n",
    "business_final = pd.concat([businesses_1, businesses_2], ignore_index=True)\n",
    "review_final = pd.concat([reviews_1, reviews_2], ignore_index=True)\n",
    "len(businessid_final), len(business_final), len(review_final)"
   ]
  },
  {
   "cell_type": "code",
   "execution_count": 41,
   "metadata": {
    "collapsed": false
   },
   "outputs": [
    {
     "data": {
      "text/html": [
       "<div>\n",
       "<table border=\"1\" class=\"dataframe\">\n",
       "  <thead>\n",
       "    <tr style=\"text-align: right;\">\n",
       "      <th></th>\n",
       "      <th>business_id</th>\n",
       "      <th>attributes</th>\n",
       "      <th>categories</th>\n",
       "      <th>city</th>\n",
       "      <th>full_address</th>\n",
       "      <th>hours</th>\n",
       "      <th>latitude</th>\n",
       "      <th>longitude</th>\n",
       "      <th>name</th>\n",
       "      <th>neighborhoods</th>\n",
       "      <th>open</th>\n",
       "      <th>review_count</th>\n",
       "      <th>stars</th>\n",
       "      <th>state</th>\n",
       "      <th>type</th>\n",
       "    </tr>\n",
       "  </thead>\n",
       "  <tbody>\n",
       "    <tr>\n",
       "      <th>0</th>\n",
       "      <td>4bEjOyTaDG24SY5TxsaUNQ</td>\n",
       "      <td>{u'Alcohol': u'full_bar', u'Open 24 Hours': Fa...</td>\n",
       "      <td>[Breakfast &amp; Brunch, Steakhouses, French, Rest...</td>\n",
       "      <td>Las Vegas</td>\n",
       "      <td>3655 Las Vegas Blvd S\\nThe Strip\\nLas Vegas, N...</td>\n",
       "      <td>{u'Monday': {u'close': u'23:00', u'open': u'07...</td>\n",
       "      <td>36.112952</td>\n",
       "      <td>-115.172589</td>\n",
       "      <td>Mon Ami Gabi</td>\n",
       "      <td>[The Strip]</td>\n",
       "      <td>True</td>\n",
       "      <td>4578</td>\n",
       "      <td>4.0</td>\n",
       "      <td>NV</td>\n",
       "      <td>business</td>\n",
       "    </tr>\n",
       "    <tr>\n",
       "      <th>1</th>\n",
       "      <td>2e2e7WgqU1BnpxmQL5jbfw</td>\n",
       "      <td>{u'Take-out': True, u'Accepts Credit Cards': T...</td>\n",
       "      <td>[Sandwiches, Restaurants]</td>\n",
       "      <td>Las Vegas</td>\n",
       "      <td>3667 Las Vegas Blvd. S.\\nPlanet Hollywood Reso...</td>\n",
       "      <td>{u'Monday': {u'close': u'00:00', u'open': u'00...</td>\n",
       "      <td>36.110266</td>\n",
       "      <td>-115.170553</td>\n",
       "      <td>Earl of Sandwich</td>\n",
       "      <td>[The Strip]</td>\n",
       "      <td>True</td>\n",
       "      <td>3984</td>\n",
       "      <td>4.5</td>\n",
       "      <td>NV</td>\n",
       "      <td>business</td>\n",
       "    </tr>\n",
       "    <tr>\n",
       "      <th>2</th>\n",
       "      <td>YNQgak-ZLtYJQxlDwN-qIg</td>\n",
       "      <td>{u'Alcohol': u'full_bar', u'Noise Level': u'av...</td>\n",
       "      <td>[Buffets, Restaurants]</td>\n",
       "      <td>Las Vegas</td>\n",
       "      <td>Wynn Las Vegas\\n3131 Las Vegas Blvd S\\nThe Str...</td>\n",
       "      <td>{u'Monday': {u'close': u'22:00', u'open': u'08...</td>\n",
       "      <td>36.126887</td>\n",
       "      <td>-115.165590</td>\n",
       "      <td>The Buffet</td>\n",
       "      <td>[The Strip]</td>\n",
       "      <td>True</td>\n",
       "      <td>2949</td>\n",
       "      <td>3.5</td>\n",
       "      <td>NV</td>\n",
       "      <td>business</td>\n",
       "    </tr>\n",
       "  </tbody>\n",
       "</table>\n",
       "</div>"
      ],
      "text/plain": [
       "              business_id                                         attributes  \\\n",
       "0  4bEjOyTaDG24SY5TxsaUNQ  {u'Alcohol': u'full_bar', u'Open 24 Hours': Fa...   \n",
       "1  2e2e7WgqU1BnpxmQL5jbfw  {u'Take-out': True, u'Accepts Credit Cards': T...   \n",
       "2  YNQgak-ZLtYJQxlDwN-qIg  {u'Alcohol': u'full_bar', u'Noise Level': u'av...   \n",
       "\n",
       "                                          categories       city  \\\n",
       "0  [Breakfast & Brunch, Steakhouses, French, Rest...  Las Vegas   \n",
       "1                          [Sandwiches, Restaurants]  Las Vegas   \n",
       "2                             [Buffets, Restaurants]  Las Vegas   \n",
       "\n",
       "                                        full_address  \\\n",
       "0  3655 Las Vegas Blvd S\\nThe Strip\\nLas Vegas, N...   \n",
       "1  3667 Las Vegas Blvd. S.\\nPlanet Hollywood Reso...   \n",
       "2  Wynn Las Vegas\\n3131 Las Vegas Blvd S\\nThe Str...   \n",
       "\n",
       "                                               hours   latitude   longitude  \\\n",
       "0  {u'Monday': {u'close': u'23:00', u'open': u'07...  36.112952 -115.172589   \n",
       "1  {u'Monday': {u'close': u'00:00', u'open': u'00...  36.110266 -115.170553   \n",
       "2  {u'Monday': {u'close': u'22:00', u'open': u'08...  36.126887 -115.165590   \n",
       "\n",
       "               name neighborhoods  open  review_count  stars state      type  \n",
       "0      Mon Ami Gabi   [The Strip]  True          4578    4.0    NV  business  \n",
       "1  Earl of Sandwich   [The Strip]  True          3984    4.5    NV  business  \n",
       "2        The Buffet   [The Strip]  True          2949    3.5    NV  business  "
      ]
     },
     "execution_count": 41,
     "metadata": {},
     "output_type": "execute_result"
    }
   ],
   "source": [
    "business_final.head(3)"
   ]
  },
  {
   "cell_type": "code",
   "execution_count": 43,
   "metadata": {
    "collapsed": false
   },
   "outputs": [
    {
     "data": {
      "text/html": [
       "<div>\n",
       "<table border=\"1\" class=\"dataframe\">\n",
       "  <thead>\n",
       "    <tr style=\"text-align: right;\">\n",
       "      <th></th>\n",
       "      <th>business_id</th>\n",
       "      <th>date</th>\n",
       "      <th>review_id</th>\n",
       "      <th>stars</th>\n",
       "      <th>text</th>\n",
       "      <th>type</th>\n",
       "      <th>user_id</th>\n",
       "      <th>votes</th>\n",
       "    </tr>\n",
       "  </thead>\n",
       "  <tbody>\n",
       "    <tr>\n",
       "      <th>0</th>\n",
       "      <td>4bEjOyTaDG24SY5TxsaUNQ</td>\n",
       "      <td>2005-06-23</td>\n",
       "      <td>UpKdXO3jEElnqtsWjYxQ2w</td>\n",
       "      <td>5</td>\n",
       "      <td>Excellent food, great atmosphere, a bit noisy....</td>\n",
       "      <td>review</td>\n",
       "      <td>LAOHN2Z6INbwuGa3fx9UTw</td>\n",
       "      <td>{u'funny': 0, u'useful': 0, u'cool': 0}</td>\n",
       "    </tr>\n",
       "    <tr>\n",
       "      <th>1</th>\n",
       "      <td>4bEjOyTaDG24SY5TxsaUNQ</td>\n",
       "      <td>2005-10-10</td>\n",
       "      <td>qYJV5kIViwer1P1Cb2OSfw</td>\n",
       "      <td>5</td>\n",
       "      <td>If you enjoy a little people watching with you...</td>\n",
       "      <td>review</td>\n",
       "      <td>H43f_rD3czq0UqY-4zhWjA</td>\n",
       "      <td>{u'funny': 0, u'useful': 0, u'cool': 0}</td>\n",
       "    </tr>\n",
       "    <tr>\n",
       "      <th>2</th>\n",
       "      <td>4bEjOyTaDG24SY5TxsaUNQ</td>\n",
       "      <td>2005-10-14</td>\n",
       "      <td>dvSLFLzijuT5HLRlmt5FaA</td>\n",
       "      <td>5</td>\n",
       "      <td>affordable, fairly classic french food\\n\\nsit ...</td>\n",
       "      <td>review</td>\n",
       "      <td>ytjqLRFobRxl0DDJgoR-Eg</td>\n",
       "      <td>{u'funny': 2, u'useful': 2, u'cool': 2}</td>\n",
       "    </tr>\n",
       "  </tbody>\n",
       "</table>\n",
       "</div>"
      ],
      "text/plain": [
       "              business_id       date               review_id  stars  \\\n",
       "0  4bEjOyTaDG24SY5TxsaUNQ 2005-06-23  UpKdXO3jEElnqtsWjYxQ2w      5   \n",
       "1  4bEjOyTaDG24SY5TxsaUNQ 2005-10-10  qYJV5kIViwer1P1Cb2OSfw      5   \n",
       "2  4bEjOyTaDG24SY5TxsaUNQ 2005-10-14  dvSLFLzijuT5HLRlmt5FaA      5   \n",
       "\n",
       "                                                text    type  \\\n",
       "0  Excellent food, great atmosphere, a bit noisy....  review   \n",
       "1  If you enjoy a little people watching with you...  review   \n",
       "2  affordable, fairly classic french food\\n\\nsit ...  review   \n",
       "\n",
       "                  user_id                                    votes  \n",
       "0  LAOHN2Z6INbwuGa3fx9UTw  {u'funny': 0, u'useful': 0, u'cool': 0}  \n",
       "1  H43f_rD3czq0UqY-4zhWjA  {u'funny': 0, u'useful': 0, u'cool': 0}  \n",
       "2  ytjqLRFobRxl0DDJgoR-Eg  {u'funny': 2, u'useful': 2, u'cool': 2}  "
      ]
     },
     "execution_count": 43,
     "metadata": {},
     "output_type": "execute_result"
    }
   ],
   "source": [
    "review_final.head(3)"
   ]
  },
  {
   "cell_type": "code",
   "execution_count": 44,
   "metadata": {
    "collapsed": false
   },
   "outputs": [
    {
     "data": {
      "text/html": [
       "<div>\n",
       "<table border=\"1\" class=\"dataframe\">\n",
       "  <thead>\n",
       "    <tr style=\"text-align: right;\">\n",
       "      <th></th>\n",
       "      <th>min</th>\n",
       "      <th>max</th>\n",
       "    </tr>\n",
       "    <tr>\n",
       "      <th>business_id</th>\n",
       "      <th></th>\n",
       "      <th></th>\n",
       "    </tr>\n",
       "  </thead>\n",
       "  <tbody>\n",
       "    <tr>\n",
       "      <th>--pOlFxITWnhzc7SHSIP0A</th>\n",
       "      <td>2013-03-18</td>\n",
       "      <td>2015-01-08</td>\n",
       "    </tr>\n",
       "    <tr>\n",
       "      <th>-1ERbsOf9XOC9wGbZYFr7g</th>\n",
       "      <td>2013-11-02</td>\n",
       "      <td>2014-12-29</td>\n",
       "    </tr>\n",
       "    <tr>\n",
       "      <th>-2n-OHbbwIv3SY8RP9bgTQ</th>\n",
       "      <td>2006-04-23</td>\n",
       "      <td>2015-01-04</td>\n",
       "    </tr>\n",
       "  </tbody>\n",
       "</table>\n",
       "</div>"
      ],
      "text/plain": [
       "                              min        max\n",
       "business_id                                 \n",
       "--pOlFxITWnhzc7SHSIP0A 2013-03-18 2015-01-08\n",
       "-1ERbsOf9XOC9wGbZYFr7g 2013-11-02 2014-12-29\n",
       "-2n-OHbbwIv3SY8RP9bgTQ 2006-04-23 2015-01-04"
      ]
     },
     "execution_count": 44,
     "metadata": {},
     "output_type": "execute_result"
    }
   ],
   "source": [
    "# find earliest and latest review date for each restaurant\n",
    "mindate = review_final['date'].groupby([review_final['business_id']]).min()\n",
    "maxdate = review_final['date'].groupby([review_final['business_id']]).max()\n",
    "date_min_and_max = pd.concat([mindate, maxdate], \n",
    "                               axis=1, keys=['min', 'max'])\n",
    "date_min_and_max.head(3)"
   ]
  },
  {
   "cell_type": "code",
   "execution_count": 45,
   "metadata": {
    "collapsed": false
   },
   "outputs": [
    {
     "data": {
      "text/html": [
       "<div>\n",
       "<table border=\"1\" class=\"dataframe\">\n",
       "  <thead>\n",
       "    <tr style=\"text-align: right;\">\n",
       "      <th></th>\n",
       "      <th>min</th>\n",
       "      <th>max</th>\n",
       "      <th>difference</th>\n",
       "    </tr>\n",
       "    <tr>\n",
       "      <th>business_id</th>\n",
       "      <th></th>\n",
       "      <th></th>\n",
       "      <th></th>\n",
       "    </tr>\n",
       "  </thead>\n",
       "  <tbody>\n",
       "    <tr>\n",
       "      <th>Ax2VRlmMuT1RsSvQHsOJTg</th>\n",
       "      <td>2014-10-15</td>\n",
       "      <td>2015-01-05</td>\n",
       "      <td>82 days</td>\n",
       "    </tr>\n",
       "    <tr>\n",
       "      <th>wmr3ROnBokPZXKZGLGLp8A</th>\n",
       "      <td>2014-10-09</td>\n",
       "      <td>2015-01-08</td>\n",
       "      <td>91 days</td>\n",
       "    </tr>\n",
       "    <tr>\n",
       "      <th>VgLiSW1iGkpzIEXOgvUBEw</th>\n",
       "      <td>2014-10-03</td>\n",
       "      <td>2015-01-08</td>\n",
       "      <td>97 days</td>\n",
       "    </tr>\n",
       "  </tbody>\n",
       "</table>\n",
       "</div>"
      ],
      "text/plain": [
       "                              min        max  difference\n",
       "business_id                                             \n",
       "Ax2VRlmMuT1RsSvQHsOJTg 2014-10-15 2015-01-05     82 days\n",
       "wmr3ROnBokPZXKZGLGLp8A 2014-10-09 2015-01-08     91 days\n",
       "VgLiSW1iGkpzIEXOgvUBEw 2014-10-03 2015-01-08     97 days"
      ]
     },
     "execution_count": 45,
     "metadata": {},
     "output_type": "execute_result"
    }
   ],
   "source": [
    "# check that reviews are at least a month long\n",
    "date_min_and_max['difference'] = date_min_and_max['max'] - date_min_and_max['min']\n",
    "date_min_and_max.sort('difference').head(3)"
   ]
  },
  {
   "cell_type": "code",
   "execution_count": 47,
   "metadata": {
    "collapsed": false
   },
   "outputs": [],
   "source": [
    "# write final dfs as csv files\n",
    "business_final.to_csv('business_final.csv', encoding='utf-8')\n",
    "review_final.to_csv('review_final.csv', encoding='utf-8')"
   ]
  },
  {
   "cell_type": "code",
   "execution_count": 48,
   "metadata": {
    "collapsed": false
   },
   "outputs": [
    {
     "name": "stderr",
     "output_type": "stream",
     "text": [
      "/Users/Francine/anaconda/lib/python2.7/site-packages/pandas/io/parsers.py:1170: DtypeWarning: Columns (0) have mixed types. Specify dtype option on import or set low_memory=False.\n",
      "  data = self._reader.read(nrows)\n"
     ]
    }
   ],
   "source": [
    "reviewtest = pd.read_csv('review_final.csv')"
   ]
  },
  {
   "cell_type": "code",
   "execution_count": 49,
   "metadata": {
    "collapsed": false
   },
   "outputs": [
    {
     "data": {
      "text/html": [
       "<div>\n",
       "<table border=\"1\" class=\"dataframe\">\n",
       "  <thead>\n",
       "    <tr style=\"text-align: right;\">\n",
       "      <th></th>\n",
       "      <th>Unnamed: 0</th>\n",
       "      <th>business_id</th>\n",
       "      <th>date</th>\n",
       "      <th>review_id</th>\n",
       "      <th>stars</th>\n",
       "      <th>text</th>\n",
       "      <th>type</th>\n",
       "      <th>user_id</th>\n",
       "      <th>votes</th>\n",
       "    </tr>\n",
       "  </thead>\n",
       "  <tbody>\n",
       "    <tr>\n",
       "      <th>0</th>\n",
       "      <td>0</td>\n",
       "      <td>4bEjOyTaDG24SY5TxsaUNQ</td>\n",
       "      <td>2005-06-23</td>\n",
       "      <td>UpKdXO3jEElnqtsWjYxQ2w</td>\n",
       "      <td>5</td>\n",
       "      <td>Excellent food, great atmosphere, a bit noisy....</td>\n",
       "      <td>review</td>\n",
       "      <td>LAOHN2Z6INbwuGa3fx9UTw</td>\n",
       "      <td>{u'funny': 0, u'useful': 0, u'cool': 0}</td>\n",
       "    </tr>\n",
       "    <tr>\n",
       "      <th>1</th>\n",
       "      <td>1</td>\n",
       "      <td>4bEjOyTaDG24SY5TxsaUNQ</td>\n",
       "      <td>2005-10-10</td>\n",
       "      <td>qYJV5kIViwer1P1Cb2OSfw</td>\n",
       "      <td>5</td>\n",
       "      <td>If you enjoy a little people watching with you...</td>\n",
       "      <td>review</td>\n",
       "      <td>H43f_rD3czq0UqY-4zhWjA</td>\n",
       "      <td>{u'funny': 0, u'useful': 0, u'cool': 0}</td>\n",
       "    </tr>\n",
       "    <tr>\n",
       "      <th>2</th>\n",
       "      <td>2</td>\n",
       "      <td>4bEjOyTaDG24SY5TxsaUNQ</td>\n",
       "      <td>2005-10-14</td>\n",
       "      <td>dvSLFLzijuT5HLRlmt5FaA</td>\n",
       "      <td>5</td>\n",
       "      <td>affordable, fairly classic french food\\n\\nsit ...</td>\n",
       "      <td>review</td>\n",
       "      <td>ytjqLRFobRxl0DDJgoR-Eg</td>\n",
       "      <td>{u'funny': 2, u'useful': 2, u'cool': 2}</td>\n",
       "    </tr>\n",
       "  </tbody>\n",
       "</table>\n",
       "</div>"
      ],
      "text/plain": [
       "  Unnamed: 0             business_id        date               review_id  \\\n",
       "0          0  4bEjOyTaDG24SY5TxsaUNQ  2005-06-23  UpKdXO3jEElnqtsWjYxQ2w   \n",
       "1          1  4bEjOyTaDG24SY5TxsaUNQ  2005-10-10  qYJV5kIViwer1P1Cb2OSfw   \n",
       "2          2  4bEjOyTaDG24SY5TxsaUNQ  2005-10-14  dvSLFLzijuT5HLRlmt5FaA   \n",
       "\n",
       "   stars                                               text    type  \\\n",
       "0      5  Excellent food, great atmosphere, a bit noisy....  review   \n",
       "1      5  If you enjoy a little people watching with you...  review   \n",
       "2      5  affordable, fairly classic french food\\n\\nsit ...  review   \n",
       "\n",
       "                  user_id                                    votes  \n",
       "0  LAOHN2Z6INbwuGa3fx9UTw  {u'funny': 0, u'useful': 0, u'cool': 0}  \n",
       "1  H43f_rD3czq0UqY-4zhWjA  {u'funny': 0, u'useful': 0, u'cool': 0}  \n",
       "2  ytjqLRFobRxl0DDJgoR-Eg  {u'funny': 2, u'useful': 2, u'cool': 2}  "
      ]
     },
     "execution_count": 49,
     "metadata": {},
     "output_type": "execute_result"
    }
   ],
   "source": [
    "# not really sure why there's an additional column \"unamed: 0\", but i guess that can be easily removed\n",
    "reviewtest.head(3)"
   ]
  },
  {
   "cell_type": "code",
   "execution_count": 50,
   "metadata": {
    "collapsed": true
   },
   "outputs": [],
   "source": [
    "businesstest = pd.read_csv('business_final.csv')"
   ]
  },
  {
   "cell_type": "code",
   "execution_count": 51,
   "metadata": {
    "collapsed": false
   },
   "outputs": [
    {
     "data": {
      "text/html": [
       "<div>\n",
       "<table border=\"1\" class=\"dataframe\">\n",
       "  <thead>\n",
       "    <tr style=\"text-align: right;\">\n",
       "      <th></th>\n",
       "      <th>Unnamed: 0</th>\n",
       "      <th>business_id</th>\n",
       "      <th>attributes</th>\n",
       "      <th>categories</th>\n",
       "      <th>city</th>\n",
       "      <th>full_address</th>\n",
       "      <th>hours</th>\n",
       "      <th>latitude</th>\n",
       "      <th>longitude</th>\n",
       "      <th>name</th>\n",
       "      <th>neighborhoods</th>\n",
       "      <th>open</th>\n",
       "      <th>review_count</th>\n",
       "      <th>stars</th>\n",
       "      <th>state</th>\n",
       "      <th>type</th>\n",
       "    </tr>\n",
       "  </thead>\n",
       "  <tbody>\n",
       "    <tr>\n",
       "      <th>0</th>\n",
       "      <td>0</td>\n",
       "      <td>4bEjOyTaDG24SY5TxsaUNQ</td>\n",
       "      <td>{u'Alcohol': u'full_bar', u'Open 24 Hours': Fa...</td>\n",
       "      <td>[Breakfast &amp; Brunch, Steakhouses, French, Rest...</td>\n",
       "      <td>Las Vegas</td>\n",
       "      <td>3655 Las Vegas Blvd S\\nThe Strip\\nLas Vegas, N...</td>\n",
       "      <td>{u'Monday': {u'close': u'23:00', u'open': u'07...</td>\n",
       "      <td>36.112952</td>\n",
       "      <td>-115.172589</td>\n",
       "      <td>Mon Ami Gabi</td>\n",
       "      <td>[The Strip]</td>\n",
       "      <td>True</td>\n",
       "      <td>4578</td>\n",
       "      <td>4.0</td>\n",
       "      <td>NV</td>\n",
       "      <td>business</td>\n",
       "    </tr>\n",
       "    <tr>\n",
       "      <th>1</th>\n",
       "      <td>1</td>\n",
       "      <td>2e2e7WgqU1BnpxmQL5jbfw</td>\n",
       "      <td>{u'Take-out': True, u'Accepts Credit Cards': T...</td>\n",
       "      <td>[Sandwiches, Restaurants]</td>\n",
       "      <td>Las Vegas</td>\n",
       "      <td>3667 Las Vegas Blvd. S.\\nPlanet Hollywood Reso...</td>\n",
       "      <td>{u'Monday': {u'close': u'00:00', u'open': u'00...</td>\n",
       "      <td>36.110266</td>\n",
       "      <td>-115.170553</td>\n",
       "      <td>Earl of Sandwich</td>\n",
       "      <td>[The Strip]</td>\n",
       "      <td>True</td>\n",
       "      <td>3984</td>\n",
       "      <td>4.5</td>\n",
       "      <td>NV</td>\n",
       "      <td>business</td>\n",
       "    </tr>\n",
       "    <tr>\n",
       "      <th>2</th>\n",
       "      <td>2</td>\n",
       "      <td>YNQgak-ZLtYJQxlDwN-qIg</td>\n",
       "      <td>{u'Alcohol': u'full_bar', u'Noise Level': u'av...</td>\n",
       "      <td>[Buffets, Restaurants]</td>\n",
       "      <td>Las Vegas</td>\n",
       "      <td>Wynn Las Vegas\\n3131 Las Vegas Blvd S\\nThe Str...</td>\n",
       "      <td>{u'Monday': {u'close': u'22:00', u'open': u'08...</td>\n",
       "      <td>36.126887</td>\n",
       "      <td>-115.165590</td>\n",
       "      <td>The Buffet</td>\n",
       "      <td>[The Strip]</td>\n",
       "      <td>True</td>\n",
       "      <td>2949</td>\n",
       "      <td>3.5</td>\n",
       "      <td>NV</td>\n",
       "      <td>business</td>\n",
       "    </tr>\n",
       "  </tbody>\n",
       "</table>\n",
       "</div>"
      ],
      "text/plain": [
       "   Unnamed: 0             business_id  \\\n",
       "0           0  4bEjOyTaDG24SY5TxsaUNQ   \n",
       "1           1  2e2e7WgqU1BnpxmQL5jbfw   \n",
       "2           2  YNQgak-ZLtYJQxlDwN-qIg   \n",
       "\n",
       "                                          attributes  \\\n",
       "0  {u'Alcohol': u'full_bar', u'Open 24 Hours': Fa...   \n",
       "1  {u'Take-out': True, u'Accepts Credit Cards': T...   \n",
       "2  {u'Alcohol': u'full_bar', u'Noise Level': u'av...   \n",
       "\n",
       "                                          categories       city  \\\n",
       "0  [Breakfast & Brunch, Steakhouses, French, Rest...  Las Vegas   \n",
       "1                          [Sandwiches, Restaurants]  Las Vegas   \n",
       "2                             [Buffets, Restaurants]  Las Vegas   \n",
       "\n",
       "                                        full_address  \\\n",
       "0  3655 Las Vegas Blvd S\\nThe Strip\\nLas Vegas, N...   \n",
       "1  3667 Las Vegas Blvd. S.\\nPlanet Hollywood Reso...   \n",
       "2  Wynn Las Vegas\\n3131 Las Vegas Blvd S\\nThe Str...   \n",
       "\n",
       "                                               hours   latitude   longitude  \\\n",
       "0  {u'Monday': {u'close': u'23:00', u'open': u'07...  36.112952 -115.172589   \n",
       "1  {u'Monday': {u'close': u'00:00', u'open': u'00...  36.110266 -115.170553   \n",
       "2  {u'Monday': {u'close': u'22:00', u'open': u'08...  36.126887 -115.165590   \n",
       "\n",
       "               name neighborhoods  open  review_count  stars state      type  \n",
       "0      Mon Ami Gabi   [The Strip]  True          4578    4.0    NV  business  \n",
       "1  Earl of Sandwich   [The Strip]  True          3984    4.5    NV  business  \n",
       "2        The Buffet   [The Strip]  True          2949    3.5    NV  business  "
      ]
     },
     "execution_count": 51,
     "metadata": {},
     "output_type": "execute_result"
    }
   ],
   "source": [
    "businesstest.head(3)"
   ]
  },
  {
   "cell_type": "code",
   "execution_count": null,
   "metadata": {
    "collapsed": true
   },
   "outputs": [],
   "source": []
  }
 ],
 "metadata": {
  "kernelspec": {
   "display_name": "Python 2",
   "language": "python",
   "name": "python2"
  },
  "language_info": {
   "codemirror_mode": {
    "name": "ipython",
    "version": 2
   },
   "file_extension": ".py",
   "mimetype": "text/x-python",
   "name": "python",
   "nbconvert_exporter": "python",
   "pygments_lexer": "ipython2",
   "version": "2.7.10"
  }
 },
 "nbformat": 4,
 "nbformat_minor": 0
}
