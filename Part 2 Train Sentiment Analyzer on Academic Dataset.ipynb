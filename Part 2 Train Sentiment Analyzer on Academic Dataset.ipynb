{
 "cells": [
  {
   "cell_type": "code",
   "execution_count": 1,
   "metadata": {
    "collapsed": true
   },
   "outputs": [],
   "source": [
    "import pandas as pd\n",
    "import re\n",
    "from sklearn.utils import shuffle"
   ]
  },
  {
   "cell_type": "code",
   "execution_count": 2,
   "metadata": {
    "collapsed": false
   },
   "outputs": [
    {
     "data": {
      "text/html": [
       "<div style=\"max-height:1000px;max-width:1500px;overflow:auto;\">\n",
       "<table border=\"1\" class=\"dataframe\">\n",
       "  <thead>\n",
       "    <tr style=\"text-align: right;\">\n",
       "      <th></th>\n",
       "      <th>business_id</th>\n",
       "      <th>date</th>\n",
       "      <th>review_id</th>\n",
       "      <th>stars</th>\n",
       "      <th>text</th>\n",
       "      <th>type</th>\n",
       "      <th>user_id</th>\n",
       "      <th>votes</th>\n",
       "    </tr>\n",
       "  </thead>\n",
       "  <tbody>\n",
       "    <tr>\n",
       "      <th>122655</th>\n",
       "      <td>Fh2vlptKk8jyedzCDPbXbw</td>\n",
       "      <td>2011-07-04</td>\n",
       "      <td>B0DlRa0upq4RHGFUVWY6xQ</td>\n",
       "      <td>5</td>\n",
       "      <td>My daughter and I got the 2 meals for $30 whic...</td>\n",
       "      <td>review</td>\n",
       "      <td>7TmlplDISrIVy1QVuRcJyA</td>\n",
       "      <td>{u'funny': 1, u'useful': 1, u'cool': 1}</td>\n",
       "    </tr>\n",
       "    <tr>\n",
       "      <th>122656</th>\n",
       "      <td>Fh2vlptKk8jyedzCDPbXbw</td>\n",
       "      <td>2011-02-25</td>\n",
       "      <td>opL37nyZ2cTqkcN97rwXYA</td>\n",
       "      <td>4</td>\n",
       "      <td>OhhhMeeeGeee. I love the idea of bakery cafés ...</td>\n",
       "      <td>review</td>\n",
       "      <td>5ZxXCGvKBWfDZCKk-_FRNg</td>\n",
       "      <td>{u'funny': 0, u'useful': 1, u'cool': 0}</td>\n",
       "    </tr>\n",
       "  </tbody>\n",
       "</table>\n",
       "</div>"
      ],
      "text/plain": [
       "                   business_id        date               review_id  stars  \\\n",
       "122655  Fh2vlptKk8jyedzCDPbXbw  2011-07-04  B0DlRa0upq4RHGFUVWY6xQ      5   \n",
       "122656  Fh2vlptKk8jyedzCDPbXbw  2011-02-25  opL37nyZ2cTqkcN97rwXYA      4   \n",
       "\n",
       "                                                     text    type  \\\n",
       "122655  My daughter and I got the 2 meals for $30 whic...  review   \n",
       "122656  OhhhMeeeGeee. I love the idea of bakery caf��s ...  review   \n",
       "\n",
       "                       user_id                                    votes  \n",
       "122655  7TmlplDISrIVy1QVuRcJyA  {u'funny': 1, u'useful': 1, u'cool': 1}  \n",
       "122656  5ZxXCGvKBWfDZCKk-_FRNg  {u'funny': 0, u'useful': 1, u'cool': 0}  "
      ]
     },
     "execution_count": 2,
     "metadata": {},
     "output_type": "execute_result"
    }
   ],
   "source": [
    "original = pd.read_csv(\"review_final_academic.csv\", index_col = 0)\n",
    "original.tail(2)"
   ]
  },
  {
   "cell_type": "code",
   "execution_count": 3,
   "metadata": {
    "collapsed": false
   },
   "outputs": [
    {
     "name": "stdout",
     "output_type": "stream",
     "text": [
      "122657\n",
      "122641\n"
     ]
    },
    {
     "data": {
      "text/html": [
       "<div style=\"max-height:1000px;max-width:1500px;overflow:auto;\">\n",
       "<table border=\"1\" class=\"dataframe\">\n",
       "  <thead>\n",
       "    <tr style=\"text-align: right;\">\n",
       "      <th></th>\n",
       "      <th>business_id</th>\n",
       "      <th>date</th>\n",
       "      <th>review_id</th>\n",
       "      <th>stars</th>\n",
       "      <th>text</th>\n",
       "      <th>type</th>\n",
       "      <th>user_id</th>\n",
       "      <th>votes</th>\n",
       "    </tr>\n",
       "  </thead>\n",
       "  <tbody>\n",
       "    <tr>\n",
       "      <th>122640</th>\n",
       "      <td>Fh2vlptKk8jyedzCDPbXbw</td>\n",
       "      <td>2011-02-25</td>\n",
       "      <td>opL37nyZ2cTqkcN97rwXYA</td>\n",
       "      <td>4</td>\n",
       "      <td>OhhhMeeeGeee. I love the idea of bakery cafés ...</td>\n",
       "      <td>review</td>\n",
       "      <td>5ZxXCGvKBWfDZCKk-_FRNg</td>\n",
       "      <td>{u'funny': 0, u'useful': 1, u'cool': 0}</td>\n",
       "    </tr>\n",
       "  </tbody>\n",
       "</table>\n",
       "</div>"
      ],
      "text/plain": [
       "                   business_id        date               review_id  stars  \\\n",
       "122640  Fh2vlptKk8jyedzCDPbXbw  2011-02-25  opL37nyZ2cTqkcN97rwXYA      4   \n",
       "\n",
       "                                                     text    type  \\\n",
       "122640  OhhhMeeeGeee. I love the idea of bakery caf��s ...  review   \n",
       "\n",
       "                       user_id                                    votes  \n",
       "122640  5ZxXCGvKBWfDZCKk-_FRNg  {u'funny': 0, u'useful': 1, u'cool': 0}  "
      ]
     },
     "execution_count": 3,
     "metadata": {},
     "output_type": "execute_result"
    }
   ],
   "source": [
    "def decodeArray(text):\n",
    "    try:\n",
    "        return text.decode('utf-8','replace')\n",
    "    except:\n",
    "        return 0\n",
    "    \n",
    "print len(original)\n",
    "original=original[pd.isnull(original.text) == False]\n",
    "original.reset_index(inplace = True, drop = True)\n",
    "\n",
    "text_decode = original.text.apply(decodeArray).values\n",
    "\n",
    "original['text'] = text_decode\n",
    "print len(original)\n",
    "original.tail(1)"
   ]
  },
  {
   "cell_type": "code",
   "execution_count": 4,
   "metadata": {
    "collapsed": false
   },
   "outputs": [],
   "source": [
    "def cleantext(text):\n",
    "    text = re.sub(\"[^a-zA-Z]\", \" \", text).lower()  #This removes everything that isn't a letter\n",
    "    return re.sub( '\\s+', ' ', text).strip()  #This removes excess spaces\n",
    "\n",
    "clean = original.text.apply(cleantext).values\n",
    "original['clean'] = clean"
   ]
  },
  {
   "cell_type": "code",
   "execution_count": 5,
   "metadata": {
    "collapsed": false
   },
   "outputs": [
    {
     "name": "stdout",
     "output_type": "stream",
     "text": [
      "Original: \n",
      "Are you drunk? Is it around 3am? Are you in downtown Berkeley? Well then, you better head down to Top Dog, purveyor of quality dogs to drunken students for many a year. They have around, what, 25, 30 different kinds of meat dogs, and exactly 1 kind of veggie dog, called the \"weenie\". When I was there one time with my vegetarian friend, he naturally ordered the veggie option. When it was done, the owner shouts out: \"One weenie, who's got the weenie here?\" 40 drunken college students couldn't have been happier. Aah, the old ones are the best ones.\n",
      "================================================================================ \n",
      "Cleaned: \n",
      "are you drunk is it around am are you in downtown berkeley well then you better head down to top dog purveyor of quality dogs to drunken students for many a year they have around what different kinds of meat dogs and exactly kind of veggie dog called the weenie when i was there one time with my vegetarian friend he naturally ordered the veggie option when it was done the owner shouts out one weenie who s got the weenie here drunken college students couldn t have been happier aah the old ones are the best ones\n"
     ]
    }
   ],
   "source": [
    "#See!  Clean\n",
    "print \"Original: \\n\", original.text[0]\n",
    "print \"=\"*80, \"\\nCleaned: \\n\", original.clean[0]"
   ]
  },
  {
   "cell_type": "code",
   "execution_count": 6,
   "metadata": {
    "collapsed": false
   },
   "outputs": [
    {
     "name": "stdout",
     "output_type": "stream",
     "text": [
      "The total # of extreme reviews is 50700, equal to 41% of total.\n"
     ]
    }
   ],
   "source": [
    "extremerevnum = len(original[original.stars >4]) + len (original[original.stars <3])\n",
    "\n",
    "print \"The total # of extreme reviews is %d, equal to %d%% of total.\" % (extremerevnum,(extremerevnum*100.0)/len(original))"
   ]
  },
  {
   "cell_type": "code",
   "execution_count": 7,
   "metadata": {
    "collapsed": false
   },
   "outputs": [
    {
     "data": {
      "text/html": [
       "<div style=\"max-height:1000px;max-width:1500px;overflow:auto;\">\n",
       "<table border=\"1\" class=\"dataframe\">\n",
       "  <thead>\n",
       "    <tr style=\"text-align: right;\">\n",
       "      <th></th>\n",
       "      <th>business_id</th>\n",
       "      <th>date</th>\n",
       "      <th>review_id</th>\n",
       "      <th>stars</th>\n",
       "      <th>text</th>\n",
       "      <th>type</th>\n",
       "      <th>user_id</th>\n",
       "      <th>votes</th>\n",
       "      <th>clean</th>\n",
       "      <th>score</th>\n",
       "    </tr>\n",
       "  </thead>\n",
       "  <tbody>\n",
       "    <tr>\n",
       "      <th>30907</th>\n",
       "      <td>Fh2vlptKk8jyedzCDPbXbw</td>\n",
       "      <td>2011-07-04</td>\n",
       "      <td>B0DlRa0upq4RHGFUVWY6xQ</td>\n",
       "      <td>5</td>\n",
       "      <td>My daughter and I got the 2 meals for $30 whic...</td>\n",
       "      <td>review</td>\n",
       "      <td>7TmlplDISrIVy1QVuRcJyA</td>\n",
       "      <td>{u'funny': 1, u'useful': 1, u'cool': 1}</td>\n",
       "      <td>my daughter and i got the meals for which came...</td>\n",
       "      <td>1</td>\n",
       "    </tr>\n",
       "  </tbody>\n",
       "</table>\n",
       "</div>"
      ],
      "text/plain": [
       "                  business_id        date               review_id  stars  \\\n",
       "30907  Fh2vlptKk8jyedzCDPbXbw  2011-07-04  B0DlRa0upq4RHGFUVWY6xQ      5   \n",
       "\n",
       "                                                    text    type  \\\n",
       "30907  My daughter and I got the 2 meals for $30 whic...  review   \n",
       "\n",
       "                      user_id                                    votes  \\\n",
       "30907  7TmlplDISrIVy1QVuRcJyA  {u'funny': 1, u'useful': 1, u'cool': 1}   \n",
       "\n",
       "                                                   clean  score  \n",
       "30907  my daughter and i got the meals for which came...      1  "
      ]
     },
     "execution_count": 7,
     "metadata": {},
     "output_type": "execute_result"
    }
   ],
   "source": [
    "high = pd.DataFrame(original[original.stars.isin([5])])\n",
    "high.reset_index(inplace = True, drop = True)\n",
    "high['score'] = 1\n",
    "high.tail(1)"
   ]
  },
  {
   "cell_type": "code",
   "execution_count": 8,
   "metadata": {
    "collapsed": false
   },
   "outputs": [
    {
     "data": {
      "text/html": [
       "<div style=\"max-height:1000px;max-width:1500px;overflow:auto;\">\n",
       "<table border=\"1\" class=\"dataframe\">\n",
       "  <thead>\n",
       "    <tr style=\"text-align: right;\">\n",
       "      <th></th>\n",
       "      <th>business_id</th>\n",
       "      <th>date</th>\n",
       "      <th>review_id</th>\n",
       "      <th>stars</th>\n",
       "      <th>text</th>\n",
       "      <th>type</th>\n",
       "      <th>user_id</th>\n",
       "      <th>votes</th>\n",
       "      <th>clean</th>\n",
       "      <th>score</th>\n",
       "    </tr>\n",
       "  </thead>\n",
       "  <tbody>\n",
       "    <tr>\n",
       "      <th>19791</th>\n",
       "      <td>Fh2vlptKk8jyedzCDPbXbw</td>\n",
       "      <td>2012-05-02</td>\n",
       "      <td>qZwOPwiM5-DP7qQNskImhA</td>\n",
       "      <td>1</td>\n",
       "      <td>This restaurant is getting a one star rating o...</td>\n",
       "      <td>review</td>\n",
       "      <td>0Y14aXmYAHptRTzzJOWUBg</td>\n",
       "      <td>{u'funny': 0, u'useful': 1, u'cool': 0}</td>\n",
       "      <td>this restaurant is getting a one star rating o...</td>\n",
       "      <td>0</td>\n",
       "    </tr>\n",
       "  </tbody>\n",
       "</table>\n",
       "</div>"
      ],
      "text/plain": [
       "                  business_id        date               review_id  stars  \\\n",
       "19791  Fh2vlptKk8jyedzCDPbXbw  2012-05-02  qZwOPwiM5-DP7qQNskImhA      1   \n",
       "\n",
       "                                                    text    type  \\\n",
       "19791  This restaurant is getting a one star rating o...  review   \n",
       "\n",
       "                      user_id                                    votes  \\\n",
       "19791  0Y14aXmYAHptRTzzJOWUBg  {u'funny': 0, u'useful': 1, u'cool': 0}   \n",
       "\n",
       "                                                   clean  score  \n",
       "19791  this restaurant is getting a one star rating o...      0  "
      ]
     },
     "execution_count": 8,
     "metadata": {},
     "output_type": "execute_result"
    }
   ],
   "source": [
    "low = pd.DataFrame(original[original.stars.isin([1,2])])\n",
    "low.reset_index(inplace = True, drop = True)\n",
    "low['score'] = 0\n",
    "low.tail(1)"
   ]
  },
  {
   "cell_type": "markdown",
   "metadata": {},
   "source": [
    "#Too many good reviews!\n",
    "Solution:  Shuffle and drop some."
   ]
  },
  {
   "cell_type": "code",
   "execution_count": 9,
   "metadata": {
    "collapsed": false
   },
   "outputs": [
    {
     "data": {
      "text/html": [
       "<div style=\"max-height:1000px;max-width:1500px;overflow:auto;\">\n",
       "<table border=\"1\" class=\"dataframe\">\n",
       "  <thead>\n",
       "    <tr style=\"text-align: right;\">\n",
       "      <th></th>\n",
       "      <th>business_id</th>\n",
       "      <th>date</th>\n",
       "      <th>review_id</th>\n",
       "      <th>stars</th>\n",
       "      <th>text</th>\n",
       "      <th>type</th>\n",
       "      <th>user_id</th>\n",
       "      <th>votes</th>\n",
       "      <th>clean</th>\n",
       "      <th>score</th>\n",
       "    </tr>\n",
       "  </thead>\n",
       "  <tbody>\n",
       "    <tr>\n",
       "      <th>22989</th>\n",
       "      <td>h_we4E3zofRTf4G0JTEF0A</td>\n",
       "      <td>2009-12-15</td>\n",
       "      <td>ZbdEwAsaFmXrqpggQhk8Rw</td>\n",
       "      <td>5</td>\n",
       "      <td>If you're looking for something different and ...</td>\n",
       "      <td>review</td>\n",
       "      <td>XljAAPbjkfCSWHkhxNnTiA</td>\n",
       "      <td>{u'funny': 0, u'useful': 0, u'cool': 0}</td>\n",
       "      <td>if you re looking for something different and ...</td>\n",
       "      <td>1</td>\n",
       "    </tr>\n",
       "    <tr>\n",
       "      <th>8216</th>\n",
       "      <td>KK-6rXbIo9B4-b_P5WO5Qg</td>\n",
       "      <td>2012-07-21</td>\n",
       "      <td>Sgng1kL5KA-urdO2-sbnDA</td>\n",
       "      <td>5</td>\n",
       "      <td>My first visit to The Clay Pit was great.  It ...</td>\n",
       "      <td>review</td>\n",
       "      <td>eooy2CjgVLGGOR_1IYmFfw</td>\n",
       "      <td>{u'funny': 0, u'useful': 2, u'cool': 0}</td>\n",
       "      <td>my first visit to the clay pit was great it wa...</td>\n",
       "      <td>1</td>\n",
       "    </tr>\n",
       "  </tbody>\n",
       "</table>\n",
       "</div>"
      ],
      "text/plain": [
       "                  business_id        date               review_id  stars  \\\n",
       "22989  h_we4E3zofRTf4G0JTEF0A  2009-12-15  ZbdEwAsaFmXrqpggQhk8Rw      5   \n",
       "8216   KK-6rXbIo9B4-b_P5WO5Qg  2012-07-21  Sgng1kL5KA-urdO2-sbnDA      5   \n",
       "\n",
       "                                                    text    type  \\\n",
       "22989  If you're looking for something different and ...  review   \n",
       "8216   My first visit to The Clay Pit was great.  It ...  review   \n",
       "\n",
       "                      user_id                                    votes  \\\n",
       "22989  XljAAPbjkfCSWHkhxNnTiA  {u'funny': 0, u'useful': 0, u'cool': 0}   \n",
       "8216   eooy2CjgVLGGOR_1IYmFfw  {u'funny': 0, u'useful': 2, u'cool': 0}   \n",
       "\n",
       "                                                   clean  score  \n",
       "22989  if you re looking for something different and ...      1  \n",
       "8216   my first visit to the clay pit was great it wa...      1  "
      ]
     },
     "execution_count": 9,
     "metadata": {},
     "output_type": "execute_result"
    }
   ],
   "source": [
    "high_shuffle = shuffle(high)\n",
    "high_shuffle.head(2)"
   ]
  },
  {
   "cell_type": "code",
   "execution_count": 10,
   "metadata": {
    "collapsed": false
   },
   "outputs": [
    {
     "data": {
      "text/html": [
       "<div style=\"max-height:1000px;max-width:1500px;overflow:auto;\">\n",
       "<table border=\"1\" class=\"dataframe\">\n",
       "  <thead>\n",
       "    <tr style=\"text-align: right;\">\n",
       "      <th></th>\n",
       "      <th>business_id</th>\n",
       "      <th>date</th>\n",
       "      <th>review_id</th>\n",
       "      <th>stars</th>\n",
       "      <th>text</th>\n",
       "      <th>type</th>\n",
       "      <th>user_id</th>\n",
       "      <th>votes</th>\n",
       "      <th>clean</th>\n",
       "      <th>score</th>\n",
       "    </tr>\n",
       "  </thead>\n",
       "  <tbody>\n",
       "    <tr>\n",
       "      <th>19790</th>\n",
       "      <td>cEC3lx06tjhMOAomZnD1Sw</td>\n",
       "      <td>2010-11-09</td>\n",
       "      <td>-7FmHJIZHVgSm8hXTIQmVg</td>\n",
       "      <td>5</td>\n",
       "      <td>This a great restaurant.  Chill atmosphere, gr...</td>\n",
       "      <td>review</td>\n",
       "      <td>WCX6J8lkGorzxp852GxJng</td>\n",
       "      <td>{u'funny': 0, u'useful': 0, u'cool': 0}</td>\n",
       "      <td>this a great restaurant chill atmosphere great...</td>\n",
       "      <td>1</td>\n",
       "    </tr>\n",
       "    <tr>\n",
       "      <th>19791</th>\n",
       "      <td>G0bkSEyElXerSXNy6P8BNQ</td>\n",
       "      <td>2010-05-15</td>\n",
       "      <td>FXF-wD6Yo3Xcz5OFs25lsg</td>\n",
       "      <td>5</td>\n",
       "      <td>I know, I know, I said I don't give 5 stars ea...</td>\n",
       "      <td>review</td>\n",
       "      <td>iyikxBidfb6afxC-fmFWhA</td>\n",
       "      <td>{u'funny': 2, u'useful': 2, u'cool': 2}</td>\n",
       "      <td>i know i know i said i don t give stars easily...</td>\n",
       "      <td>1</td>\n",
       "    </tr>\n",
       "  </tbody>\n",
       "</table>\n",
       "</div>"
      ],
      "text/plain": [
       "                  business_id        date               review_id  stars  \\\n",
       "19790  cEC3lx06tjhMOAomZnD1Sw  2010-11-09  -7FmHJIZHVgSm8hXTIQmVg      5   \n",
       "19791  G0bkSEyElXerSXNy6P8BNQ  2010-05-15  FXF-wD6Yo3Xcz5OFs25lsg      5   \n",
       "\n",
       "                                                    text    type  \\\n",
       "19790  This a great restaurant.  Chill atmosphere, gr...  review   \n",
       "19791  I know, I know, I said I don't give 5 stars ea...  review   \n",
       "\n",
       "                      user_id                                    votes  \\\n",
       "19790  WCX6J8lkGorzxp852GxJng  {u'funny': 0, u'useful': 0, u'cool': 0}   \n",
       "19791  iyikxBidfb6afxC-fmFWhA  {u'funny': 2, u'useful': 2, u'cool': 2}   \n",
       "\n",
       "                                                   clean  score  \n",
       "19790  this a great restaurant chill atmosphere great...      1  \n",
       "19791  i know i know i said i don t give stars easily...      1  "
      ]
     },
     "execution_count": 10,
     "metadata": {},
     "output_type": "execute_result"
    }
   ],
   "source": [
    "high_shuffle.reset_index(inplace = True, drop = True)\n",
    "high_shuffle_trim = high_shuffle.loc[:19791]\n",
    "high_shuffle_trim.tail(2)"
   ]
  },
  {
   "cell_type": "markdown",
   "metadata": {},
   "source": [
    "Great!  We've wittled them down to be exactly the same length.\n",
    "Now, recombine the reviews."
   ]
  },
  {
   "cell_type": "code",
   "execution_count": 11,
   "metadata": {
    "collapsed": true
   },
   "outputs": [],
   "source": [
    "extreme = high_shuffle_trim.append(low)\n",
    "extreme.reset_index(inplace = True, drop = True)"
   ]
  },
  {
   "cell_type": "code",
   "execution_count": 12,
   "metadata": {
    "collapsed": false
   },
   "outputs": [
    {
     "data": {
      "text/html": [
       "<div style=\"max-height:1000px;max-width:1500px;overflow:auto;\">\n",
       "<table border=\"1\" class=\"dataframe\">\n",
       "  <thead>\n",
       "    <tr style=\"text-align: right;\">\n",
       "      <th></th>\n",
       "      <th>business_id</th>\n",
       "      <th>date</th>\n",
       "      <th>review_id</th>\n",
       "      <th>stars</th>\n",
       "      <th>text</th>\n",
       "      <th>type</th>\n",
       "      <th>user_id</th>\n",
       "      <th>votes</th>\n",
       "      <th>clean</th>\n",
       "      <th>score</th>\n",
       "    </tr>\n",
       "  </thead>\n",
       "  <tbody>\n",
       "    <tr>\n",
       "      <th>0</th>\n",
       "      <td>h_we4E3zofRTf4G0JTEF0A</td>\n",
       "      <td>2009-12-15</td>\n",
       "      <td>ZbdEwAsaFmXrqpggQhk8Rw</td>\n",
       "      <td>5</td>\n",
       "      <td>If you're looking for something different and ...</td>\n",
       "      <td>review</td>\n",
       "      <td>XljAAPbjkfCSWHkhxNnTiA</td>\n",
       "      <td>{u'funny': 0, u'useful': 0, u'cool': 0}</td>\n",
       "      <td>if you re looking for something different and ...</td>\n",
       "      <td>1</td>\n",
       "    </tr>\n",
       "  </tbody>\n",
       "</table>\n",
       "</div>"
      ],
      "text/plain": [
       "              business_id        date               review_id  stars  \\\n",
       "0  h_we4E3zofRTf4G0JTEF0A  2009-12-15  ZbdEwAsaFmXrqpggQhk8Rw      5   \n",
       "\n",
       "                                                text    type  \\\n",
       "0  If you're looking for something different and ...  review   \n",
       "\n",
       "                  user_id                                    votes  \\\n",
       "0  XljAAPbjkfCSWHkhxNnTiA  {u'funny': 0, u'useful': 0, u'cool': 0}   \n",
       "\n",
       "                                               clean  score  \n",
       "0  if you re looking for something different and ...      1  "
      ]
     },
     "execution_count": 12,
     "metadata": {},
     "output_type": "execute_result"
    }
   ],
   "source": [
    "extreme.head(1)"
   ]
  },
  {
   "cell_type": "code",
   "execution_count": 13,
   "metadata": {
    "collapsed": false
   },
   "outputs": [
    {
     "data": {
      "text/html": [
       "<div style=\"max-height:1000px;max-width:1500px;overflow:auto;\">\n",
       "<table border=\"1\" class=\"dataframe\">\n",
       "  <thead>\n",
       "    <tr style=\"text-align: right;\">\n",
       "      <th></th>\n",
       "      <th>business_id</th>\n",
       "      <th>date</th>\n",
       "      <th>review_id</th>\n",
       "      <th>stars</th>\n",
       "      <th>text</th>\n",
       "      <th>type</th>\n",
       "      <th>user_id</th>\n",
       "      <th>votes</th>\n",
       "      <th>clean</th>\n",
       "      <th>score</th>\n",
       "    </tr>\n",
       "  </thead>\n",
       "  <tbody>\n",
       "    <tr>\n",
       "      <th>39583</th>\n",
       "      <td>Fh2vlptKk8jyedzCDPbXbw</td>\n",
       "      <td>2012-05-02</td>\n",
       "      <td>qZwOPwiM5-DP7qQNskImhA</td>\n",
       "      <td>1</td>\n",
       "      <td>This restaurant is getting a one star rating o...</td>\n",
       "      <td>review</td>\n",
       "      <td>0Y14aXmYAHptRTzzJOWUBg</td>\n",
       "      <td>{u'funny': 0, u'useful': 1, u'cool': 0}</td>\n",
       "      <td>this restaurant is getting a one star rating o...</td>\n",
       "      <td>0</td>\n",
       "    </tr>\n",
       "  </tbody>\n",
       "</table>\n",
       "</div>"
      ],
      "text/plain": [
       "                  business_id        date               review_id  stars  \\\n",
       "39583  Fh2vlptKk8jyedzCDPbXbw  2012-05-02  qZwOPwiM5-DP7qQNskImhA      1   \n",
       "\n",
       "                                                    text    type  \\\n",
       "39583  This restaurant is getting a one star rating o...  review   \n",
       "\n",
       "                      user_id                                    votes  \\\n",
       "39583  0Y14aXmYAHptRTzzJOWUBg  {u'funny': 0, u'useful': 1, u'cool': 0}   \n",
       "\n",
       "                                                   clean  score  \n",
       "39583  this restaurant is getting a one star rating o...      0  "
      ]
     },
     "execution_count": 13,
     "metadata": {},
     "output_type": "execute_result"
    }
   ],
   "source": [
    "extreme.tail(1)"
   ]
  },
  {
   "cell_type": "code",
   "execution_count": 18,
   "metadata": {
    "collapsed": false
   },
   "outputs": [],
   "source": [
    "extreme.to_csv(\"yelp_academic_extreme_cleaned_20150730.csv\", encoding = 'utf-8')"
   ]
  },
  {
   "cell_type": "code",
   "execution_count": 19,
   "metadata": {
    "collapsed": true
   },
   "outputs": [],
   "source": [
    "from __future__ import print_function\n",
    "import pandas as pd\n",
    "import math\n",
    "\n",
    "from pprint import pprint\n",
    "from time import time\n",
    "import logging\n",
    "\n",
    "from sklearn.feature_extraction.text import CountVectorizer\n",
    "from sklearn.feature_extraction.text import TfidfTransformer\n",
    "from sklearn.linear_model import LogisticRegression\n",
    "from sklearn.grid_search import GridSearchCV\n",
    "from sklearn.pipeline import Pipeline"
   ]
  },
  {
   "cell_type": "code",
   "execution_count": 20,
   "metadata": {
    "collapsed": false
   },
   "outputs": [],
   "source": [
    "logging.basicConfig(level=logging.INFO,\n",
    "                    format='%(asctime)s %(levelname)s %(message)s')\n",
    "\n",
    "\n",
    "###############################################################################\n",
    "# define a pipeline combining a text feature extractor with a simple\n",
    "# classifier\n",
    "pipeline = Pipeline([\n",
    "    ('vect', CountVectorizer()),\n",
    "    ('clf', LogisticRegression()),\n",
    "])\n",
    "#    ('tfidf', TfidfTransformer()),\n",
    "parameters = {\n",
    "    'vect__max_df': (0.9, 1.0),\n",
    "    'vect__stop_words': (None, 'english'),\n",
    "    'vect__max_features': (None, 5000, 10000, 50000),\n",
    "    'vect__ngram_range': ((1, 2), (1, 3)),  # unigrams or bigrams\n",
    "    #'tfidf__use_idf': (True, False),\n",
    "    #'tfidf__norm': ('l1', 'l2'),\n",
    "    'clf__penalty': ('l2', 'l1')\n",
    "    #'clf__n_iter': (10, 50, 80),\n",
    "}"
   ]
  },
  {
   "cell_type": "code",
   "execution_count": 21,
   "metadata": {
    "collapsed": true
   },
   "outputs": [],
   "source": [
    "X = extreme.clean\n",
    "y = extreme.score"
   ]
  },
  {
   "cell_type": "code",
   "execution_count": 24,
   "metadata": {
    "collapsed": false
   },
   "outputs": [
    {
     "name": "stdout",
     "output_type": "stream",
     "text": [
      "Performing grid search...\n",
      "pipeline: ['vect', 'clf']\n",
      "parameters:\n",
      "{'clf__penalty': ('l2', 'l1'),\n",
      " 'vect__max_df': (0.9, 1.0),\n",
      " 'vect__max_features': (None, 5000, 10000, 50000),\n",
      " 'vect__ngram_range': ((1, 2), (1, 3)),\n",
      " 'vect__stop_words': (None, 'english')}\n",
      "done in 0.000s\n",
      "\n"
     ]
    }
   ],
   "source": [
    "# find the best parameters for both the feature extraction and the\n",
    "# classifier\n",
    "grid_search = GridSearchCV(pipeline, parameters, n_jobs=-1, verbose=1)\n",
    "\n",
    "print(\"Performing grid search...\")\n",
    "print(\"pipeline:\", [name for name, _ in pipeline.steps])\n",
    "print(\"parameters:\")\n",
    "pprint(parameters)\n",
    "t0 = time()\n",
    "grid_search.fit(X, y)\n",
    "print(\"done in %0.3fs\" % (time() - t0))\n",
    "print()"
   ]
  },
  {
   "cell_type": "code",
   "execution_count": 25,
   "metadata": {
    "collapsed": false
   },
   "outputs": [
    {
     "name": "stdout",
     "output_type": "stream",
     "text": [
      "Best score: 0.943\n",
      "Best parameters set:\n",
      "\tclf__penalty: 'l2'\n",
      "\tvect__max_df: 1.0\n",
      "\tvect__max_features: 50000\n",
      "\tvect__ngram_range: (1, 3)\n",
      "\tvect__stop_words: None\n",
      "[[ 0.0850266  0.9149734]]\n",
      "[[ 0.14044718  0.85955282]]\n",
      "[[ 0.68818321  0.31181679]]\n"
     ]
    }
   ],
   "source": [
    "print(\"Best score: %0.3f\" % grid_search.best_score_)\n",
    "print(\"Best parameters set:\")\n",
    "best_parameters = grid_search.best_estimator_.get_params()\n",
    "for param_name in sorted(parameters.keys()):\n",
    "    print(\"\\t%s: %r\" % (param_name, best_parameters[param_name]))\n",
    "print(grid_search.best_estimator_.predict_proba([\"the food was amazing\"]))\n",
    "print(grid_search.best_estimator_.predict_proba([\"the food was delicious\"]))\n",
    "print(grid_search.best_estimator_.predict_proba([\"the food was not delicious at all\"]))"
   ]
  },
  {
   "cell_type": "markdown",
   "metadata": {
    "collapsed": true
   },
   "source": [
    "Now add those determined bits into it, and try the LR settings."
   ]
  },
  {
   "cell_type": "code",
   "execution_count": 27,
   "metadata": {
    "collapsed": true
   },
   "outputs": [],
   "source": [
    "from sklearn.cross_validation import train_test_split\n",
    "from sklearn.feature_extraction.text import CountVectorizer\n",
    "from sklearn.linear_model import LogisticRegression\n",
    "from sklearn import metrics"
   ]
  },
  {
   "cell_type": "code",
   "execution_count": 28,
   "metadata": {
    "collapsed": false
   },
   "outputs": [
    {
     "name": "stdout",
     "output_type": "stream",
     "text": [
      "0.931891673403\n"
     ]
    }
   ],
   "source": [
    "#This is what it recommended last time...(different positive review shuffling)\n",
    "\n",
    "X_train, X_test, y_train, y_test = train_test_split(X, y, random_state=4)\n",
    "\n",
    "vectorizer = CountVectorizer(max_df = 0.9)\n",
    "X_train_vectorized = vectorizer.fit_transform(X_train).toarray()\n",
    "\n",
    "logreg = LogisticRegression()\n",
    "logreg.fit(X_train_vectorized,y_train)\n",
    "\n",
    "y_pred = logreg.predict(vectorizer.transform(X_test).toarray())\n",
    "print (metrics.accuracy_score(y_test, y_pred))"
   ]
  },
  {
   "cell_type": "code",
   "execution_count": 29,
   "metadata": {
    "collapsed": false
   },
   "outputs": [
    {
     "name": "stdout",
     "output_type": "stream",
     "text": [
      "0.948362974939\n"
     ]
    }
   ],
   "source": [
    "#And here is now\n",
    "vectorizer = CountVectorizer(max_features = 50000, ngram_range = (1, 3))\n",
    "X_train_vectorized = vectorizer.fit_transform(X_train).toarray()\n",
    "\n",
    "logreg = LogisticRegression()\n",
    "logreg.fit(X_train_vectorized,y_train)\n",
    "\n",
    "y_pred = logreg.predict(vectorizer.transform(X_test).toarray())\n",
    "print (metrics.accuracy_score(y_test, y_pred))"
   ]
  },
  {
   "cell_type": "markdown",
   "metadata": {},
   "source": [
    "These are better than 0.920978172999, when I didn't run it with tuning... but not so very different..."
   ]
  },
  {
   "cell_type": "code",
   "execution_count": 30,
   "metadata": {
    "collapsed": false
   },
   "outputs": [
    {
     "name": "stdout",
     "output_type": "stream",
     "text": [
      "0.909660468876\n"
     ]
    }
   ],
   "source": [
    "#Great!  Double check adding in TFIDF now.\n",
    "\n",
    "from sklearn.feature_extraction.text import TfidfTransformer\n",
    "\n",
    "tfidf = TfidfTransformer()\n",
    "X_train_tfidf = tfidf.fit_transform(X_train_vectorized)\n",
    "\n",
    "logreg.fit(X_train_tfidf,y_train)\n",
    "\n",
    "y_pred = logreg.predict(vectorizer.transform(X_test).toarray())\n",
    "\n",
    "print (metrics.accuracy_score(y_test, y_pred))"
   ]
  },
  {
   "cell_type": "markdown",
   "metadata": {},
   "source": [
    "TDIDF seems to be crummy EVERY TIME.  Let's skip it.\n",
    "#NOW FOR THE FINAL REGRESSION"
   ]
  },
  {
   "cell_type": "code",
   "execution_count": 31,
   "metadata": {
    "collapsed": false
   },
   "outputs": [
    {
     "data": {
      "text/plain": [
       "LogisticRegression(C=1.0, class_weight=None, dual=False, fit_intercept=True,\n",
       "          intercept_scaling=1, max_iter=100, multi_class='ovr',\n",
       "          penalty='l2', random_state=None, solver='liblinear', tol=0.0001,\n",
       "          verbose=0)"
      ]
     },
     "execution_count": 31,
     "metadata": {},
     "output_type": "execute_result"
    }
   ],
   "source": [
    "#Final is on FULL X.\n",
    "vectorizer = CountVectorizer(max_features = 50000, ngram_range = (1, 3))\n",
    "logreg = LogisticRegression()\n",
    "\n",
    "X_vectorized = vectorizer.fit_transform(X).toarray()\n",
    "logreg.fit(X_vectorized,y)"
   ]
  },
  {
   "cell_type": "code",
   "execution_count": 33,
   "metadata": {
    "collapsed": false
   },
   "outputs": [
    {
     "name": "stdout",
     "output_type": "stream",
     "text": [
      "0.999494745352\n"
     ]
    }
   ],
   "source": [
    "#This is meaningless, since the FINAL regression was trained on these test data too,\n",
    "#but let's just confirm it approaches 100%.\n",
    "y_pred = logreg.predict(vectorizer.transform(X_test).toarray())\n",
    "\n",
    "print (metrics.accuracy_score(y_test, y_pred))\n"
   ]
  },
  {
   "cell_type": "code",
   "execution_count": 35,
   "metadata": {
    "collapsed": false
   },
   "outputs": [
    {
     "data": {
      "text/plain": [
       "['pickle/logreg_thursday.pkl',\n",
       " 'pickle/logreg_thursday.pkl_01.npy',\n",
       " 'pickle/logreg_thursday.pkl_02.npy',\n",
       " 'pickle/logreg_thursday.pkl_03.npy']"
      ]
     },
     "execution_count": 35,
     "metadata": {},
     "output_type": "execute_result"
    }
   ],
   "source": [
    "#The above looks great.  Let's export it!\n",
    "from sklearn.externals import joblib\n",
    "joblib.dump(vectorizer, 'pickle/vectorizer_thursday.pkl')\n",
    "joblib.dump(logreg, 'pickle/logreg_thursday.pkl')"
   ]
  }
 ],
 "metadata": {
  "kernelspec": {
   "display_name": "Python 2",
   "language": "python",
   "name": "python2"
  },
  "language_info": {
   "codemirror_mode": {
    "name": "ipython",
    "version": 2
   },
   "file_extension": ".py",
   "mimetype": "text/x-python",
   "name": "python",
   "nbconvert_exporter": "python",
   "pygments_lexer": "ipython2",
   "version": "2.7.10"
  }
 },
 "nbformat": 4,
 "nbformat_minor": 0
}
