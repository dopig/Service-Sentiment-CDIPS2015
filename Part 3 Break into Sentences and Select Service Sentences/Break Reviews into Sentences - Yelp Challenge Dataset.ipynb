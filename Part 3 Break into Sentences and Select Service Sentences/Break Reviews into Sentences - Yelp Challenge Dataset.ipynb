{
 "cells": [
  {
   "cell_type": "code",
   "execution_count": 1,
   "metadata": {
    "collapsed": true
   },
   "outputs": [],
   "source": [
    "import pandas as pd\n",
    "from textblob import TextBlob"
   ]
  },
  {
   "cell_type": "code",
   "execution_count": 2,
   "metadata": {
    "collapsed": false
   },
   "outputs": [
    {
     "name": "stderr",
     "output_type": "stream",
     "text": [
      "/Users/Francine/anaconda/lib/python2.7/site-packages/pandas/io/parsers.py:1170: DtypeWarning: Columns (0) have mixed types. Specify dtype option on import or set low_memory=False.\n",
      "  data = self._reader.read(nrows)\n"
     ]
    }
   ],
   "source": [
    "#read in the data, remove NaNs, reset index\n",
    "data = pd.read_csv(\"review_final.csv\")\n",
    "data = data[pd.notnull(data['text'])]\n",
    "data = data.reset_index(drop=True)"
   ]
  },
  {
   "cell_type": "code",
   "execution_count": 3,
   "metadata": {
    "collapsed": true
   },
   "outputs": [],
   "source": [
    "#decode review text to prevent decoding errors when breaking it into sentences\n",
    "def decodeArray(text):\n",
    "    try:\n",
    "        return text.decode('utf-8','replace')\n",
    "    except:\n",
    "        return 0\n",
    "    \n",
    "data.text = data.text.apply(decodeArray)"
   ]
  },
  {
   "cell_type": "code",
   "execution_count": 4,
   "metadata": {
    "collapsed": false
   },
   "outputs": [
    {
     "name": "stdout",
     "output_type": "stream",
     "text": [
      "Processing the 0th review, 575541 more to go... Please be patient...\n",
      "Processing the 10000th review, 565541 more to go... Please be patient...\n",
      "Processing the 20000th review, 555541 more to go... Please be patient...\n",
      "Processing the 30000th review, 545541 more to go... Please be patient...\n",
      "Processing the 40000th review, 535541 more to go... Please be patient...\n",
      "Processing the 50000th review, 525541 more to go... Please be patient...\n",
      "Processing the 60000th review, 515541 more to go... Please be patient...\n",
      "Processing the 70000th review, 505541 more to go... Please be patient...\n",
      "Processing the 80000th review, 495541 more to go... Please be patient...\n",
      "Processing the 90000th review, 485541 more to go... Please be patient...\n",
      "Processing the 100000th review, 475541 more to go... Please be patient...\n",
      "Processing the 110000th review, 465541 more to go... Please be patient...\n",
      "Processing the 120000th review, 455541 more to go... Please be patient...\n",
      "Processing the 130000th review, 445541 more to go... Please be patient...\n",
      "Processing the 140000th review, 435541 more to go... Please be patient...\n",
      "Processing the 150000th review, 425541 more to go... Please be patient...\n",
      "Processing the 160000th review, 415541 more to go... Please be patient...\n",
      "Processing the 170000th review, 405541 more to go... Please be patient...\n",
      "Processing the 180000th review, 395541 more to go... Please be patient...\n",
      "Processing the 190000th review, 385541 more to go... Please be patient...\n",
      "Processing the 200000th review, 375541 more to go... Please be patient...\n",
      "Processing the 210000th review, 365541 more to go... Please be patient...\n",
      "Processing the 220000th review, 355541 more to go... Please be patient...\n",
      "Processing the 230000th review, 345541 more to go... Please be patient...\n",
      "Processing the 240000th review, 335541 more to go... Please be patient...\n",
      "Processing the 250000th review, 325541 more to go... Please be patient...\n",
      "Processing the 260000th review, 315541 more to go... Please be patient...\n",
      "Processing the 270000th review, 305541 more to go... Please be patient...\n",
      "Processing the 280000th review, 295541 more to go... Please be patient...\n",
      "Processing the 290000th review, 285541 more to go... Please be patient...\n",
      "Processing the 300000th review, 275541 more to go... Please be patient...\n",
      "Processing the 310000th review, 265541 more to go... Please be patient...\n",
      "Processing the 320000th review, 255541 more to go... Please be patient...\n",
      "Processing the 330000th review, 245541 more to go... Please be patient...\n",
      "Processing the 340000th review, 235541 more to go... Please be patient...\n",
      "Processing the 350000th review, 225541 more to go... Please be patient...\n",
      "Processing the 360000th review, 215541 more to go... Please be patient...\n",
      "Processing the 370000th review, 205541 more to go... Please be patient...\n",
      "Processing the 380000th review, 195541 more to go... Please be patient...\n",
      "Processing the 390000th review, 185541 more to go... Please be patient...\n",
      "Processing the 400000th review, 175541 more to go... Please be patient...\n",
      "Processing the 410000th review, 165541 more to go... Please be patient...\n",
      "Processing the 420000th review, 155541 more to go... Please be patient...\n",
      "Processing the 430000th review, 145541 more to go... Please be patient...\n",
      "Processing the 440000th review, 135541 more to go... Please be patient...\n",
      "Processing the 450000th review, 125541 more to go... Please be patient...\n",
      "Processing the 460000th review, 115541 more to go... Please be patient...\n",
      "Processing the 470000th review, 105541 more to go... Please be patient...\n",
      "Processing the 480000th review, 95541 more to go... Please be patient...\n",
      "Processing the 490000th review, 85541 more to go... Please be patient...\n",
      "Processing the 500000th review, 75541 more to go... Please be patient...\n",
      "Processing the 510000th review, 65541 more to go... Please be patient...\n",
      "Processing the 520000th review, 55541 more to go... Please be patient...\n",
      "Processing the 530000th review, 45541 more to go... Please be patient...\n",
      "Processing the 540000th review, 35541 more to go... Please be patient...\n",
      "Processing the 550000th review, 25541 more to go... Please be patient...\n",
      "Processing the 560000th review, 15541 more to go... Please be patient...\n",
      "Processing the 570000th review, 5541 more to go... Please be patient...\n"
     ]
    },
    {
     "name": "stderr",
     "output_type": "stream",
     "text": [
      "/Users/Francine/anaconda/lib/python2.7/site-packages/IPython/kernel/__main__.py:4: SettingWithCopyWarning: \n",
      "A value is trying to be set on a copy of a slice from a DataFrame\n",
      "\n",
      "See the the caveats in the documentation: http://pandas.pydata.org/pandas-docs/stable/indexing.html#indexing-view-versus-copy\n"
     ]
    }
   ],
   "source": [
    "#break review text into sentences\n",
    "#this step literally took 24 hours\n",
    "for i in range(0,len(data)):\n",
    "    data.text[i] = TextBlob(data.text[i]).raw_sentences\n",
    "    if i%10000 == 0:\n",
    "        print(\"Processing the %dth review, %d more to go... Please be patient...\" % (i,len(data)-i))"
   ]
  },
  {
   "cell_type": "code",
   "execution_count": 5,
   "metadata": {
    "collapsed": true
   },
   "outputs": [],
   "source": [
    "#convert each sentence into a dataframe row preserving all other column information\n",
    "data_sentences = pd.concat([pd.DataFrame(dict(zip(data.columns,data.ix[i]))) for i in range(len(data))], ignore_index=True)"
   ]
  },
  {
   "cell_type": "code",
   "execution_count": 6,
   "metadata": {
    "collapsed": false
   },
   "outputs": [
    {
     "data": {
      "text/plain": [
       "5424516"
      ]
     },
     "execution_count": 6,
     "metadata": {},
     "output_type": "execute_result"
    }
   ],
   "source": [
    "#5,424,516 sentences from 575,541 reviews\n",
    "len(data_sentences)"
   ]
  },
  {
   "cell_type": "code",
   "execution_count": 7,
   "metadata": {
    "collapsed": false
   },
   "outputs": [
    {
     "data": {
      "text/html": [
       "<div>\n",
       "<table border=\"1\" class=\"dataframe\">\n",
       "  <thead>\n",
       "    <tr style=\"text-align: right;\">\n",
       "      <th></th>\n",
       "      <th>Unnamed: 0</th>\n",
       "      <th>business_id</th>\n",
       "      <th>date</th>\n",
       "      <th>review_id</th>\n",
       "      <th>stars</th>\n",
       "      <th>text</th>\n",
       "      <th>type</th>\n",
       "      <th>user_id</th>\n",
       "      <th>votes</th>\n",
       "    </tr>\n",
       "  </thead>\n",
       "  <tbody>\n",
       "    <tr>\n",
       "      <th>0</th>\n",
       "      <td>0</td>\n",
       "      <td>4bEjOyTaDG24SY5TxsaUNQ</td>\n",
       "      <td>2005-06-23</td>\n",
       "      <td>UpKdXO3jEElnqtsWjYxQ2w</td>\n",
       "      <td>5</td>\n",
       "      <td>Excellent food, great atmosphere, a bit noisy.</td>\n",
       "      <td>review</td>\n",
       "      <td>LAOHN2Z6INbwuGa3fx9UTw</td>\n",
       "      <td>{u'funny': 0, u'useful': 0, u'cool': 0}</td>\n",
       "    </tr>\n",
       "    <tr>\n",
       "      <th>1</th>\n",
       "      <td>0</td>\n",
       "      <td>4bEjOyTaDG24SY5TxsaUNQ</td>\n",
       "      <td>2005-06-23</td>\n",
       "      <td>UpKdXO3jEElnqtsWjYxQ2w</td>\n",
       "      <td>5</td>\n",
       "      <td>$$</td>\n",
       "      <td>review</td>\n",
       "      <td>LAOHN2Z6INbwuGa3fx9UTw</td>\n",
       "      <td>{u'funny': 0, u'useful': 0, u'cool': 0}</td>\n",
       "    </tr>\n",
       "    <tr>\n",
       "      <th>2</th>\n",
       "      <td>1</td>\n",
       "      <td>4bEjOyTaDG24SY5TxsaUNQ</td>\n",
       "      <td>2005-10-10</td>\n",
       "      <td>qYJV5kIViwer1P1Cb2OSfw</td>\n",
       "      <td>5</td>\n",
       "      <td>If you enjoy a little people watching with you...</td>\n",
       "      <td>review</td>\n",
       "      <td>H43f_rD3czq0UqY-4zhWjA</td>\n",
       "      <td>{u'funny': 0, u'useful': 0, u'cool': 0}</td>\n",
       "    </tr>\n",
       "    <tr>\n",
       "      <th>3</th>\n",
       "      <td>1</td>\n",
       "      <td>4bEjOyTaDG24SY5TxsaUNQ</td>\n",
       "      <td>2005-10-10</td>\n",
       "      <td>qYJV5kIViwer1P1Cb2OSfw</td>\n",
       "      <td>5</td>\n",
       "      <td>As the restaurant is directly across from the ...</td>\n",
       "      <td>review</td>\n",
       "      <td>H43f_rD3czq0UqY-4zhWjA</td>\n",
       "      <td>{u'funny': 0, u'useful': 0, u'cool': 0}</td>\n",
       "    </tr>\n",
       "    <tr>\n",
       "      <th>4</th>\n",
       "      <td>1</td>\n",
       "      <td>4bEjOyTaDG24SY5TxsaUNQ</td>\n",
       "      <td>2005-10-10</td>\n",
       "      <td>qYJV5kIViwer1P1Cb2OSfw</td>\n",
       "      <td>5</td>\n",
       "      <td>The food fits the setting, with a traditional ...</td>\n",
       "      <td>review</td>\n",
       "      <td>H43f_rD3czq0UqY-4zhWjA</td>\n",
       "      <td>{u'funny': 0, u'useful': 0, u'cool': 0}</td>\n",
       "    </tr>\n",
       "  </tbody>\n",
       "</table>\n",
       "</div>"
      ],
      "text/plain": [
       "  Unnamed: 0             business_id        date               review_id  \\\n",
       "0          0  4bEjOyTaDG24SY5TxsaUNQ  2005-06-23  UpKdXO3jEElnqtsWjYxQ2w   \n",
       "1          0  4bEjOyTaDG24SY5TxsaUNQ  2005-06-23  UpKdXO3jEElnqtsWjYxQ2w   \n",
       "2          1  4bEjOyTaDG24SY5TxsaUNQ  2005-10-10  qYJV5kIViwer1P1Cb2OSfw   \n",
       "3          1  4bEjOyTaDG24SY5TxsaUNQ  2005-10-10  qYJV5kIViwer1P1Cb2OSfw   \n",
       "4          1  4bEjOyTaDG24SY5TxsaUNQ  2005-10-10  qYJV5kIViwer1P1Cb2OSfw   \n",
       "\n",
       "   stars                                               text    type  \\\n",
       "0      5     Excellent food, great atmosphere, a bit noisy.  review   \n",
       "1      5                                                 $$  review   \n",
       "2      5  If you enjoy a little people watching with you...  review   \n",
       "3      5  As the restaurant is directly across from the ...  review   \n",
       "4      5  The food fits the setting, with a traditional ...  review   \n",
       "\n",
       "                  user_id                                    votes  \n",
       "0  LAOHN2Z6INbwuGa3fx9UTw  {u'funny': 0, u'useful': 0, u'cool': 0}  \n",
       "1  LAOHN2Z6INbwuGa3fx9UTw  {u'funny': 0, u'useful': 0, u'cool': 0}  \n",
       "2  H43f_rD3czq0UqY-4zhWjA  {u'funny': 0, u'useful': 0, u'cool': 0}  \n",
       "3  H43f_rD3czq0UqY-4zhWjA  {u'funny': 0, u'useful': 0, u'cool': 0}  \n",
       "4  H43f_rD3czq0UqY-4zhWjA  {u'funny': 0, u'useful': 0, u'cool': 0}  "
      ]
     },
     "execution_count": 7,
     "metadata": {},
     "output_type": "execute_result"
    }
   ],
   "source": [
    "data_sentences.head()"
   ]
  },
  {
   "cell_type": "code",
   "execution_count": 8,
   "metadata": {
    "collapsed": true
   },
   "outputs": [],
   "source": [
    "#save as csv file\n",
    "data_sentences.to_csv('review_sentences_final_challenge.csv', encoding='utf-8')"
   ]
  },
  {
   "cell_type": "code",
   "execution_count": 30,
   "metadata": {
    "collapsed": true
   },
   "outputs": [],
   "source": [
    "#service words selected from:\n",
    "#1) http://www.vladsandulescu.com/topic-prediction-lda-user-reviews/\n",
    "#2) Doug's NMF run\n",
    "#3) Sudeep's slides: http://www.slideshare.net/SudeepDasPhD/chicago-june19sudeepdas\n",
    "\n",
    "#service_words = ['manage', 'train', 'treat', ' time ', 'minute', 'service', 'waited', 'wait ', 'table', 'friendly',\n",
    "#                 'waitress', 'waiter', 'job', 'work', 'experience', 'staff', 'lady', ' guy ', 'girl', 'person ',\n",
    "#                 'customer', 'attention', 'detail', 'manager', 'employee', 'line', 'ask', 'server',\n",
    "#                 'slow', 'fast', 'quick', 'seat', 'help', 'attend', 'recommend', 'suggestion', 'forgot', 'forget',\n",
    "#                 'professional', 'knowledge', 'prompt']\n",
    "\n",
    "service_words = ['management', 'manager', 'waitress', 'waiter', 'staff', 'employee', 'cashier', 'server', 'guy', 'customer', #people nouns\n",
    "                 'service', 'counter', 'minute', 'attention', 'knowledge', 'nerve', #other nouns\n",
    "                 'greet', 'seated', 'taking', 'treated', 'waited', 'forgot', 'apologize', #verbs\n",
    "                 'friendly', 'professional', 'prompt', 'attentive', 'helpful', 'slow', 'rude', 'untrained', 'unattended'] #adjectives"
   ]
  },
  {
   "cell_type": "code",
   "execution_count": 31,
   "metadata": {
    "collapsed": false
   },
   "outputs": [
    {
     "data": {
      "text/plain": [
       "32"
      ]
     },
     "execution_count": 31,
     "metadata": {},
     "output_type": "execute_result"
    }
   ],
   "source": [
    "len(service_words)"
   ]
  },
  {
   "cell_type": "code",
   "execution_count": 32,
   "metadata": {
    "collapsed": true
   },
   "outputs": [],
   "source": [
    "#select sentences containing only the service words\n",
    "all_data = []\n",
    "for i in service_words:\n",
    "    all_data.append(data_sentences[data_sentences['text'].str.contains(i)])"
   ]
  },
  {
   "cell_type": "code",
   "execution_count": 33,
   "metadata": {
    "collapsed": true
   },
   "outputs": [],
   "source": [
    "#concaternate all dataframes, sort, drop duplicate rows and reset index\n",
    "test_data = pd.concat(all_data)\n",
    "test_data = test_data.sort().drop_duplicates()\n",
    "test_data = test_data.reset_index(drop=True)"
   ]
  },
  {
   "cell_type": "code",
   "execution_count": 35,
   "metadata": {
    "collapsed": false
   },
   "outputs": [
    {
     "data": {
      "text/plain": [
       "u'We had excellent service..polite, prompt, helpful (great at helping us pick a great wine suited to our selections!)'"
      ]
     },
     "execution_count": 35,
     "metadata": {},
     "output_type": "execute_result"
    }
   ],
   "source": [
    "test_data.text[1]"
   ]
  },
  {
   "cell_type": "code",
   "execution_count": 36,
   "metadata": {
    "collapsed": false
   },
   "outputs": [
    {
     "data": {
      "text/plain": [
       "646123"
      ]
     },
     "execution_count": 36,
     "metadata": {},
     "output_type": "execute_result"
    }
   ],
   "source": [
    "#number of service-related sentences\n",
    "len(test_data)"
   ]
  },
  {
   "cell_type": "code",
   "execution_count": 37,
   "metadata": {
    "collapsed": true
   },
   "outputs": [],
   "source": [
    "#save as csv file\n",
    "test_data.to_csv('review_sentences_final_challenge_service_words_NEW.csv', encoding='utf-8')"
   ]
  },
  {
   "cell_type": "code",
   "execution_count": 38,
   "metadata": {
    "collapsed": true
   },
   "outputs": [],
   "source": [
    "servicesentences = pd.read_csv('review_sentences_final_challenge_service_words_NEW.csv')"
   ]
  },
  {
   "cell_type": "code",
   "execution_count": 39,
   "metadata": {
    "collapsed": false
   },
   "outputs": [
    {
     "data": {
      "text/html": [
       "<div>\n",
       "<table border=\"1\" class=\"dataframe\">\n",
       "  <thead>\n",
       "    <tr style=\"text-align: right;\">\n",
       "      <th></th>\n",
       "      <th>Unnamed: 0</th>\n",
       "      <th>Unnamed: 0.1</th>\n",
       "      <th>business_id</th>\n",
       "      <th>date</th>\n",
       "      <th>review_id</th>\n",
       "      <th>stars</th>\n",
       "      <th>text</th>\n",
       "      <th>type</th>\n",
       "      <th>user_id</th>\n",
       "      <th>votes</th>\n",
       "    </tr>\n",
       "  </thead>\n",
       "  <tbody>\n",
       "    <tr>\n",
       "      <th>0</th>\n",
       "      <td>0</td>\n",
       "      <td>1</td>\n",
       "      <td>4bEjOyTaDG24SY5TxsaUNQ</td>\n",
       "      <td>2005-10-10</td>\n",
       "      <td>qYJV5kIViwer1P1Cb2OSfw</td>\n",
       "      <td>5</td>\n",
       "      <td>As the restaurant is directly across from the ...</td>\n",
       "      <td>review</td>\n",
       "      <td>H43f_rD3czq0UqY-4zhWjA</td>\n",
       "      <td>{u'funny': 0, u'useful': 0, u'cool': 0}</td>\n",
       "    </tr>\n",
       "    <tr>\n",
       "      <th>1</th>\n",
       "      <td>1</td>\n",
       "      <td>1</td>\n",
       "      <td>4bEjOyTaDG24SY5TxsaUNQ</td>\n",
       "      <td>2005-10-10</td>\n",
       "      <td>qYJV5kIViwer1P1Cb2OSfw</td>\n",
       "      <td>5</td>\n",
       "      <td>We had excellent service..polite, prompt, help...</td>\n",
       "      <td>review</td>\n",
       "      <td>H43f_rD3czq0UqY-4zhWjA</td>\n",
       "      <td>{u'funny': 0, u'useful': 0, u'cool': 0}</td>\n",
       "    </tr>\n",
       "    <tr>\n",
       "      <th>2</th>\n",
       "      <td>2</td>\n",
       "      <td>1</td>\n",
       "      <td>4bEjOyTaDG24SY5TxsaUNQ</td>\n",
       "      <td>2005-10-10</td>\n",
       "      <td>qYJV5kIViwer1P1Cb2OSfw</td>\n",
       "      <td>5</td>\n",
       "      <td>And by the way,   the wait staff aren't above ...</td>\n",
       "      <td>review</td>\n",
       "      <td>H43f_rD3czq0UqY-4zhWjA</td>\n",
       "      <td>{u'funny': 0, u'useful': 0, u'cool': 0}</td>\n",
       "    </tr>\n",
       "    <tr>\n",
       "      <th>3</th>\n",
       "      <td>3</td>\n",
       "      <td>5</td>\n",
       "      <td>4bEjOyTaDG24SY5TxsaUNQ</td>\n",
       "      <td>2006-01-31</td>\n",
       "      <td>M6U9acJkmCXZkEvIIDFtfQ</td>\n",
       "      <td>5</td>\n",
       "      <td>Secondly, the service was OUTSTANDING.</td>\n",
       "      <td>review</td>\n",
       "      <td>DeBP40aPIRv3h1ED17X4Qg</td>\n",
       "      <td>{u'funny': 1, u'useful': 0, u'cool': 0}</td>\n",
       "    </tr>\n",
       "    <tr>\n",
       "      <th>4</th>\n",
       "      <td>4</td>\n",
       "      <td>5</td>\n",
       "      <td>4bEjOyTaDG24SY5TxsaUNQ</td>\n",
       "      <td>2006-01-31</td>\n",
       "      <td>M6U9acJkmCXZkEvIIDFtfQ</td>\n",
       "      <td>5</td>\n",
       "      <td>The waitress even put in a special request for...</td>\n",
       "      <td>review</td>\n",
       "      <td>DeBP40aPIRv3h1ED17X4Qg</td>\n",
       "      <td>{u'funny': 1, u'useful': 0, u'cool': 0}</td>\n",
       "    </tr>\n",
       "  </tbody>\n",
       "</table>\n",
       "</div>"
      ],
      "text/plain": [
       "   Unnamed: 0  Unnamed: 0.1             business_id        date  \\\n",
       "0           0             1  4bEjOyTaDG24SY5TxsaUNQ  2005-10-10   \n",
       "1           1             1  4bEjOyTaDG24SY5TxsaUNQ  2005-10-10   \n",
       "2           2             1  4bEjOyTaDG24SY5TxsaUNQ  2005-10-10   \n",
       "3           3             5  4bEjOyTaDG24SY5TxsaUNQ  2006-01-31   \n",
       "4           4             5  4bEjOyTaDG24SY5TxsaUNQ  2006-01-31   \n",
       "\n",
       "                review_id  stars  \\\n",
       "0  qYJV5kIViwer1P1Cb2OSfw      5   \n",
       "1  qYJV5kIViwer1P1Cb2OSfw      5   \n",
       "2  qYJV5kIViwer1P1Cb2OSfw      5   \n",
       "3  M6U9acJkmCXZkEvIIDFtfQ      5   \n",
       "4  M6U9acJkmCXZkEvIIDFtfQ      5   \n",
       "\n",
       "                                                text    type  \\\n",
       "0  As the restaurant is directly across from the ...  review   \n",
       "1  We had excellent service..polite, prompt, help...  review   \n",
       "2  And by the way,   the wait staff aren't above ...  review   \n",
       "3             Secondly, the service was OUTSTANDING.  review   \n",
       "4  The waitress even put in a special request for...  review   \n",
       "\n",
       "                  user_id                                    votes  \n",
       "0  H43f_rD3czq0UqY-4zhWjA  {u'funny': 0, u'useful': 0, u'cool': 0}  \n",
       "1  H43f_rD3czq0UqY-4zhWjA  {u'funny': 0, u'useful': 0, u'cool': 0}  \n",
       "2  H43f_rD3czq0UqY-4zhWjA  {u'funny': 0, u'useful': 0, u'cool': 0}  \n",
       "3  DeBP40aPIRv3h1ED17X4Qg  {u'funny': 1, u'useful': 0, u'cool': 0}  \n",
       "4  DeBP40aPIRv3h1ED17X4Qg  {u'funny': 1, u'useful': 0, u'cool': 0}  "
      ]
     },
     "execution_count": 39,
     "metadata": {},
     "output_type": "execute_result"
    }
   ],
   "source": [
    "servicesentences.head()"
   ]
  },
  {
   "cell_type": "code",
   "execution_count": null,
   "metadata": {
    "collapsed": true
   },
   "outputs": [],
   "source": []
  }
 ],
 "metadata": {
  "kernelspec": {
   "display_name": "Python 2",
   "language": "python",
   "name": "python2"
  },
  "language_info": {
   "codemirror_mode": {
    "name": "ipython",
    "version": 2
   },
   "file_extension": ".py",
   "mimetype": "text/x-python",
   "name": "python",
   "nbconvert_exporter": "python",
   "pygments_lexer": "ipython2",
   "version": "2.7.10"
  }
 },
 "nbformat": 4,
 "nbformat_minor": 0
}
