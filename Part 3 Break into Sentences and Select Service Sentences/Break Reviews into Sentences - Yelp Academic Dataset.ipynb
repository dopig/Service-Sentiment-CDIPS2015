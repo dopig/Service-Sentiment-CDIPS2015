{
 "cells": [
  {
   "cell_type": "code",
   "execution_count": 1,
   "metadata": {
    "collapsed": true
   },
   "outputs": [],
   "source": [
    "import pandas as pd\n",
    "from textblob import TextBlob"
   ]
  },
  {
   "cell_type": "code",
   "execution_count": 2,
   "metadata": {
    "collapsed": false
   },
   "outputs": [],
   "source": [
    "#read in the data, remove NaNs, reset index\n",
    "data = pd.read_csv(\"review_final_academic.csv\")\n",
    "data = data[pd.notnull(data['text'])]\n",
    "data = data.reset_index(drop=True)"
   ]
  },
  {
   "cell_type": "code",
   "execution_count": 3,
   "metadata": {
    "collapsed": false
   },
   "outputs": [],
   "source": [
    "#decode review text to prevent decoding errors when breaking it into sentences\n",
    "def decodeArray(text):\n",
    "    try:\n",
    "        return text.decode('utf-8','replace')\n",
    "    except:\n",
    "        return 0\n",
    "    \n",
    "data.text = data.text.apply(decodeArray)"
   ]
  },
  {
   "cell_type": "code",
   "execution_count": 4,
   "metadata": {
    "collapsed": false
   },
   "outputs": [
    {
     "name": "stdout",
     "output_type": "stream",
     "text": [
      "Processing the 0th review, 122641 more to go... Please be patient...\n",
      "Processing the 10000th review, 112641 more to go... Please be patient...\n",
      "Processing the 20000th review, 102641 more to go... Please be patient...\n",
      "Processing the 30000th review, 92641 more to go... Please be patient...\n",
      "Processing the 40000th review, 82641 more to go... Please be patient...\n",
      "Processing the 50000th review, 72641 more to go... Please be patient...\n",
      "Processing the 60000th review, 62641 more to go... Please be patient...\n",
      "Processing the 70000th review, 52641 more to go... Please be patient...\n",
      "Processing the 80000th review, 42641 more to go... Please be patient...\n",
      "Processing the 90000th review, 32641 more to go... Please be patient...\n",
      "Processing the 100000th review, 22641 more to go... Please be patient...\n",
      "Processing the 110000th review, 12641 more to go... Please be patient...\n",
      "Processing the 120000th review, 2641 more to go... Please be patient...\n"
     ]
    },
    {
     "name": "stderr",
     "output_type": "stream",
     "text": [
      "/Users/Francine/anaconda/lib/python2.7/site-packages/IPython/kernel/__main__.py:4: SettingWithCopyWarning: \n",
      "A value is trying to be set on a copy of a slice from a DataFrame\n",
      "\n",
      "See the the caveats in the documentation: http://pandas.pydata.org/pandas-docs/stable/indexing.html#indexing-view-versus-copy\n"
     ]
    }
   ],
   "source": [
    "#break review text into a list of sentences\n",
    "#this step took about 2 hours to run on my mac\n",
    "for i in range(0,len(data)):\n",
    "    data.text[i] = TextBlob(data.text[i]).raw_sentences\n",
    "    if i%10000 == 0:\n",
    "        print(\"Processing the %dth review, %d more to go... Please be patient...\" % (i,len(data)-i))"
   ]
  },
  {
   "cell_type": "code",
   "execution_count": 5,
   "metadata": {
    "collapsed": false
   },
   "outputs": [],
   "source": [
    "#convert each sentence into a dataframe row preserving all other column information\n",
    "data_sentences = pd.concat([pd.DataFrame(dict(zip(data.columns,data.ix[i]))) for i in range(len(data))], ignore_index=True)"
   ]
  },
  {
   "cell_type": "code",
   "execution_count": 6,
   "metadata": {
    "collapsed": false
   },
   "outputs": [
    {
     "data": {
      "text/plain": [
       "1119635"
      ]
     },
     "execution_count": 6,
     "metadata": {},
     "output_type": "execute_result"
    }
   ],
   "source": [
    "#1,119,635 sentences from 122,641 reviews\n",
    "len(data_sentences)"
   ]
  },
  {
   "cell_type": "code",
   "execution_count": 7,
   "metadata": {
    "collapsed": false
   },
   "outputs": [
    {
     "data": {
      "text/html": [
       "<div>\n",
       "<table border=\"1\" class=\"dataframe\">\n",
       "  <thead>\n",
       "    <tr style=\"text-align: right;\">\n",
       "      <th></th>\n",
       "      <th>Unnamed: 0</th>\n",
       "      <th>business_id</th>\n",
       "      <th>date</th>\n",
       "      <th>review_id</th>\n",
       "      <th>stars</th>\n",
       "      <th>text</th>\n",
       "      <th>type</th>\n",
       "      <th>user_id</th>\n",
       "      <th>votes</th>\n",
       "    </tr>\n",
       "  </thead>\n",
       "  <tbody>\n",
       "    <tr>\n",
       "      <th>0</th>\n",
       "      <td>0</td>\n",
       "      <td>qHmamQPCAKkia9X0uryA8g</td>\n",
       "      <td>2006-09-23</td>\n",
       "      <td>M8G9Rs21i4euIo3T5gyGOg</td>\n",
       "      <td>4</td>\n",
       "      <td>Are you drunk?</td>\n",
       "      <td>review</td>\n",
       "      <td>Xsp1amevfceAqAMjKhZkgA</td>\n",
       "      <td>{u'funny': 0, u'useful': 1, u'cool': 0}</td>\n",
       "    </tr>\n",
       "    <tr>\n",
       "      <th>1</th>\n",
       "      <td>0</td>\n",
       "      <td>qHmamQPCAKkia9X0uryA8g</td>\n",
       "      <td>2006-09-23</td>\n",
       "      <td>M8G9Rs21i4euIo3T5gyGOg</td>\n",
       "      <td>4</td>\n",
       "      <td>Is it around 3am?</td>\n",
       "      <td>review</td>\n",
       "      <td>Xsp1amevfceAqAMjKhZkgA</td>\n",
       "      <td>{u'funny': 0, u'useful': 1, u'cool': 0}</td>\n",
       "    </tr>\n",
       "    <tr>\n",
       "      <th>2</th>\n",
       "      <td>0</td>\n",
       "      <td>qHmamQPCAKkia9X0uryA8g</td>\n",
       "      <td>2006-09-23</td>\n",
       "      <td>M8G9Rs21i4euIo3T5gyGOg</td>\n",
       "      <td>4</td>\n",
       "      <td>Are you in downtown Berkeley?</td>\n",
       "      <td>review</td>\n",
       "      <td>Xsp1amevfceAqAMjKhZkgA</td>\n",
       "      <td>{u'funny': 0, u'useful': 1, u'cool': 0}</td>\n",
       "    </tr>\n",
       "    <tr>\n",
       "      <th>3</th>\n",
       "      <td>0</td>\n",
       "      <td>qHmamQPCAKkia9X0uryA8g</td>\n",
       "      <td>2006-09-23</td>\n",
       "      <td>M8G9Rs21i4euIo3T5gyGOg</td>\n",
       "      <td>4</td>\n",
       "      <td>Well then, you better head down to Top Dog, pu...</td>\n",
       "      <td>review</td>\n",
       "      <td>Xsp1amevfceAqAMjKhZkgA</td>\n",
       "      <td>{u'funny': 0, u'useful': 1, u'cool': 0}</td>\n",
       "    </tr>\n",
       "    <tr>\n",
       "      <th>4</th>\n",
       "      <td>0</td>\n",
       "      <td>qHmamQPCAKkia9X0uryA8g</td>\n",
       "      <td>2006-09-23</td>\n",
       "      <td>M8G9Rs21i4euIo3T5gyGOg</td>\n",
       "      <td>4</td>\n",
       "      <td>They have around, what, 25, 30 different kinds...</td>\n",
       "      <td>review</td>\n",
       "      <td>Xsp1amevfceAqAMjKhZkgA</td>\n",
       "      <td>{u'funny': 0, u'useful': 1, u'cool': 0}</td>\n",
       "    </tr>\n",
       "  </tbody>\n",
       "</table>\n",
       "</div>"
      ],
      "text/plain": [
       "   Unnamed: 0             business_id        date               review_id  \\\n",
       "0           0  qHmamQPCAKkia9X0uryA8g  2006-09-23  M8G9Rs21i4euIo3T5gyGOg   \n",
       "1           0  qHmamQPCAKkia9X0uryA8g  2006-09-23  M8G9Rs21i4euIo3T5gyGOg   \n",
       "2           0  qHmamQPCAKkia9X0uryA8g  2006-09-23  M8G9Rs21i4euIo3T5gyGOg   \n",
       "3           0  qHmamQPCAKkia9X0uryA8g  2006-09-23  M8G9Rs21i4euIo3T5gyGOg   \n",
       "4           0  qHmamQPCAKkia9X0uryA8g  2006-09-23  M8G9Rs21i4euIo3T5gyGOg   \n",
       "\n",
       "   stars                                               text    type  \\\n",
       "0      4                                     Are you drunk?  review   \n",
       "1      4                                  Is it around 3am?  review   \n",
       "2      4                      Are you in downtown Berkeley?  review   \n",
       "3      4  Well then, you better head down to Top Dog, pu...  review   \n",
       "4      4  They have around, what, 25, 30 different kinds...  review   \n",
       "\n",
       "                  user_id                                    votes  \n",
       "0  Xsp1amevfceAqAMjKhZkgA  {u'funny': 0, u'useful': 1, u'cool': 0}  \n",
       "1  Xsp1amevfceAqAMjKhZkgA  {u'funny': 0, u'useful': 1, u'cool': 0}  \n",
       "2  Xsp1amevfceAqAMjKhZkgA  {u'funny': 0, u'useful': 1, u'cool': 0}  \n",
       "3  Xsp1amevfceAqAMjKhZkgA  {u'funny': 0, u'useful': 1, u'cool': 0}  \n",
       "4  Xsp1amevfceAqAMjKhZkgA  {u'funny': 0, u'useful': 1, u'cool': 0}  "
      ]
     },
     "execution_count": 7,
     "metadata": {},
     "output_type": "execute_result"
    }
   ],
   "source": [
    "data_sentences.head()"
   ]
  },
  {
   "cell_type": "code",
   "execution_count": 9,
   "metadata": {
    "collapsed": false
   },
   "outputs": [],
   "source": [
    "#save as csv file\n",
    "data_sentences.to_csv('review_sentences_final_academic.csv', encoding='utf-8')"
   ]
  },
  {
   "cell_type": "code",
   "execution_count": 510,
   "metadata": {
    "collapsed": true
   },
   "outputs": [],
   "source": [
    "#service words selected from:\n",
    "#1) http://www.vladsandulescu.com/topic-prediction-lda-user-reviews/\n",
    "#2) Doug's NMF run\n",
    "#3) Sudeep's slides: http://www.slideshare.net/SudeepDasPhD/chicago-june19sudeepdas\n",
    "\n",
    "service_words = ['management', 'manager', 'waitress', 'waiter', 'staff', 'employee', 'cashier', 'server', 'guy', 'customer', #people nouns\n",
    "                 'service', 'counter', 'minute', 'attention', 'knowledge', 'nerve', #other nouns\n",
    "                 'greet', 'seated', 'taking', 'treated', 'waited', 'forgot', 'apologize', #verbs\n",
    "                 'friendly', 'professional', 'prompt', 'attentive', 'helpful', 'slow', 'rude', 'untrained', 'unattended'] #adjectives"
   ]
  },
  {
   "cell_type": "code",
   "execution_count": 511,
   "metadata": {
    "collapsed": false
   },
   "outputs": [
    {
     "data": {
      "text/plain": [
       "32"
      ]
     },
     "execution_count": 511,
     "metadata": {},
     "output_type": "execute_result"
    }
   ],
   "source": [
    "len(service_words) "
   ]
  },
  {
   "cell_type": "code",
   "execution_count": 512,
   "metadata": {
    "collapsed": false
   },
   "outputs": [],
   "source": [
    "#select sentences containing only the service words\n",
    "all_data = []\n",
    "for i in service_words:\n",
    "    all_data.append(data_sentences[data_sentences['text'].str.contains(i)])"
   ]
  },
  {
   "cell_type": "code",
   "execution_count": 513,
   "metadata": {
    "collapsed": true
   },
   "outputs": [],
   "source": [
    "#concaternate all dataframes, sort, drop duplicate rows and reset index\n",
    "test_data = pd.concat(all_data)\n",
    "test_data = test_data.sort().drop_duplicates()\n",
    "test_data = test_data.reset_index(drop=True)"
   ]
  },
  {
   "cell_type": "code",
   "execution_count": 514,
   "metadata": {
    "collapsed": false
   },
   "outputs": [
    {
     "data": {
      "text/plain": [
       "113278"
      ]
     },
     "execution_count": 514,
     "metadata": {},
     "output_type": "execute_result"
    }
   ],
   "source": [
    "#number of service-related sentences\n",
    "len(test_data)"
   ]
  },
  {
   "cell_type": "code",
   "execution_count": 515,
   "metadata": {
    "collapsed": true
   },
   "outputs": [],
   "source": [
    "#save as csv file\n",
    "test_data.to_csv('review_sentences_final_academic_service_words_NEW.csv', encoding='utf-8')"
   ]
  },
  {
   "cell_type": "code",
   "execution_count": 516,
   "metadata": {
    "collapsed": true
   },
   "outputs": [],
   "source": [
    "servicesentences = pd.read_csv('review_sentences_final_academic_service_words_NEW.csv')"
   ]
  },
  {
   "cell_type": "code",
   "execution_count": 517,
   "metadata": {
    "collapsed": false
   },
   "outputs": [
    {
     "data": {
      "text/html": [
       "<div>\n",
       "<table border=\"1\" class=\"dataframe\">\n",
       "  <thead>\n",
       "    <tr style=\"text-align: right;\">\n",
       "      <th></th>\n",
       "      <th>Unnamed: 0</th>\n",
       "      <th>Unnamed: 0.1</th>\n",
       "      <th>business_id</th>\n",
       "      <th>date</th>\n",
       "      <th>review_id</th>\n",
       "      <th>stars</th>\n",
       "      <th>text</th>\n",
       "      <th>type</th>\n",
       "      <th>user_id</th>\n",
       "      <th>votes</th>\n",
       "    </tr>\n",
       "  </thead>\n",
       "  <tbody>\n",
       "    <tr>\n",
       "      <th>0</th>\n",
       "      <td>0</td>\n",
       "      <td>5</td>\n",
       "      <td>qHmamQPCAKkia9X0uryA8g</td>\n",
       "      <td>2012-06-15</td>\n",
       "      <td>hIrFN-5jhCo04AvhsNtimg</td>\n",
       "      <td>5</td>\n",
       "      <td>You order in 3 seconds and you're out in 5 min...</td>\n",
       "      <td>review</td>\n",
       "      <td>P-xcy872BvGcClkNpNlPqQ</td>\n",
       "      <td>{u'funny': 0, u'useful': 1, u'cool': 1}</td>\n",
       "    </tr>\n",
       "    <tr>\n",
       "      <th>1</th>\n",
       "      <td>1</td>\n",
       "      <td>7</td>\n",
       "      <td>qHmamQPCAKkia9X0uryA8g</td>\n",
       "      <td>2010-12-10</td>\n",
       "      <td>C3XPzVWPoqK_FpgItJFtjg</td>\n",
       "      <td>4</td>\n",
       "      <td>The guy behind the counter was very friendly a...</td>\n",
       "      <td>review</td>\n",
       "      <td>S6BXOUedzPH58K0rYY1loQ</td>\n",
       "      <td>{u'funny': 0, u'useful': 0, u'cool': 0}</td>\n",
       "    </tr>\n",
       "    <tr>\n",
       "      <th>2</th>\n",
       "      <td>2</td>\n",
       "      <td>8</td>\n",
       "      <td>qHmamQPCAKkia9X0uryA8g</td>\n",
       "      <td>2008-05-05</td>\n",
       "      <td>q39g4U6OFLaDF0gekuOHBg</td>\n",
       "      <td>3</td>\n",
       "      <td>The service is terrible.</td>\n",
       "      <td>review</td>\n",
       "      <td>3Rn993btYslL-3D902Bxlw</td>\n",
       "      <td>{u'funny': 0, u'useful': 0, u'cool': 0}</td>\n",
       "    </tr>\n",
       "    <tr>\n",
       "      <th>3</th>\n",
       "      <td>3</td>\n",
       "      <td>8</td>\n",
       "      <td>qHmamQPCAKkia9X0uryA8g</td>\n",
       "      <td>2008-05-05</td>\n",
       "      <td>q39g4U6OFLaDF0gekuOHBg</td>\n",
       "      <td>3</td>\n",
       "      <td>The other customers, loud and rowdy and someti...</td>\n",
       "      <td>review</td>\n",
       "      <td>3Rn993btYslL-3D902Bxlw</td>\n",
       "      <td>{u'funny': 0, u'useful': 0, u'cool': 0}</td>\n",
       "    </tr>\n",
       "    <tr>\n",
       "      <th>4</th>\n",
       "      <td>4</td>\n",
       "      <td>9</td>\n",
       "      <td>qHmamQPCAKkia9X0uryA8g</td>\n",
       "      <td>2008-01-16</td>\n",
       "      <td>yG5AdbbKaszHbIbwbuvR3A</td>\n",
       "      <td>4</td>\n",
       "      <td>For the budget-conscious student price of $2.7...</td>\n",
       "      <td>review</td>\n",
       "      <td>m07sy7eLtOjVdZ8oN9JKag</td>\n",
       "      <td>{u'funny': 11, u'useful': 12, u'cool': 14}</td>\n",
       "    </tr>\n",
       "  </tbody>\n",
       "</table>\n",
       "</div>"
      ],
      "text/plain": [
       "   Unnamed: 0  Unnamed: 0.1             business_id        date  \\\n",
       "0           0             5  qHmamQPCAKkia9X0uryA8g  2012-06-15   \n",
       "1           1             7  qHmamQPCAKkia9X0uryA8g  2010-12-10   \n",
       "2           2             8  qHmamQPCAKkia9X0uryA8g  2008-05-05   \n",
       "3           3             8  qHmamQPCAKkia9X0uryA8g  2008-05-05   \n",
       "4           4             9  qHmamQPCAKkia9X0uryA8g  2008-01-16   \n",
       "\n",
       "                review_id  stars  \\\n",
       "0  hIrFN-5jhCo04AvhsNtimg      5   \n",
       "1  C3XPzVWPoqK_FpgItJFtjg      4   \n",
       "2  q39g4U6OFLaDF0gekuOHBg      3   \n",
       "3  q39g4U6OFLaDF0gekuOHBg      3   \n",
       "4  yG5AdbbKaszHbIbwbuvR3A      4   \n",
       "\n",
       "                                                text    type  \\\n",
       "0  You order in 3 seconds and you're out in 5 min...  review   \n",
       "1  The guy behind the counter was very friendly a...  review   \n",
       "2                           The service is terrible.  review   \n",
       "3  The other customers, loud and rowdy and someti...  review   \n",
       "4  For the budget-conscious student price of $2.7...  review   \n",
       "\n",
       "                  user_id                                       votes  \n",
       "0  P-xcy872BvGcClkNpNlPqQ     {u'funny': 0, u'useful': 1, u'cool': 1}  \n",
       "1  S6BXOUedzPH58K0rYY1loQ     {u'funny': 0, u'useful': 0, u'cool': 0}  \n",
       "2  3Rn993btYslL-3D902Bxlw     {u'funny': 0, u'useful': 0, u'cool': 0}  \n",
       "3  3Rn993btYslL-3D902Bxlw     {u'funny': 0, u'useful': 0, u'cool': 0}  \n",
       "4  m07sy7eLtOjVdZ8oN9JKag  {u'funny': 11, u'useful': 12, u'cool': 14}  "
      ]
     },
     "execution_count": 517,
     "metadata": {},
     "output_type": "execute_result"
    }
   ],
   "source": [
    "servicesentences.head()"
   ]
  },
  {
   "cell_type": "code",
   "execution_count": null,
   "metadata": {
    "collapsed": true
   },
   "outputs": [],
   "source": []
  }
 ],
 "metadata": {
  "kernelspec": {
   "display_name": "Python 2",
   "language": "python",
   "name": "python2"
  },
  "language_info": {
   "codemirror_mode": {
    "name": "ipython",
    "version": 2
   },
   "file_extension": ".py",
   "mimetype": "text/x-python",
   "name": "python",
   "nbconvert_exporter": "python",
   "pygments_lexer": "ipython2",
   "version": "2.7.10"
  }
 },
 "nbformat": 4,
 "nbformat_minor": 0
}
